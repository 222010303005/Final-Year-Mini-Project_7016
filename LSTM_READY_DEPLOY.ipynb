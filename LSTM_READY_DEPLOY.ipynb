{
  "nbformat": 4,
  "nbformat_minor": 0,
  "metadata": {
    "colab": {
      "provenance": [],
      "authorship_tag": "ABX9TyOvI3zSs0niQrjCYtsu/X7+",
      "include_colab_link": true
    },
    "kernelspec": {
      "name": "python3",
      "display_name": "Python 3"
    },
    "language_info": {
      "name": "python"
    }
  },
  "cells": [
    {
      "cell_type": "markdown",
      "metadata": {
        "id": "view-in-github",
        "colab_type": "text"
      },
      "source": [
        "<a href=\"https://colab.research.google.com/github/222010303005/Final-Year-Mini-Project_7016/blob/main/LSTM_READY_DEPLOY.ipynb\" target=\"_parent\"><img src=\"https://colab.research.google.com/assets/colab-badge.svg\" alt=\"Open In Colab\"/></a>"
      ]
    },
    {
      "cell_type": "markdown",
      "source": [
        " ## <font> <font color=\"cyan\" > Final Model to Deploy-LSTM: sentiment classification"
      ],
      "metadata": {
        "id": "AS0W0PdSBGHn"
      }
    },
    {
      "cell_type": "code",
      "execution_count": 3,
      "metadata": {
        "id": "RJWRSC-sA13n"
      },
      "outputs": [],
      "source": [
        "import numpy as np\n",
        "import pandas as pd\n",
        "import seaborn as sns\n",
        "import matplotlib.pyplot as plt\n",
        "from sklearn.model_selection import train_test_split\n",
        "from sklearn.feature_extraction.text import CountVectorizer\n",
        "from sklearn.linear_model import LinearRegression\n",
        "from keras.preprocessing.sequence import pad_sequences\n",
        "\n",
        "\n",
        "from collections import Counter\n",
        "import nltk\n",
        "import seaborn as sns\n",
        "import string\n",
        "from nltk.corpus import stopwords\n",
        "# import re\n",
        "# from autocorrect import spell\n",
        "import regex as re\n",
        "\n",
        "from keras.preprocessing.text import Tokenizer\n",
        "from keras.preprocessing.sequence import pad_sequences\n",
        "\n",
        "from keras.models import Sequential\n",
        "from keras.layers import Dense\n",
        "from keras.backend import eval\n",
        "from keras.optimizers import Adam\n",
        "from keras.layers import LSTM\n",
        "\n",
        "from keras.layers import Dropout\n",
        "\n",
        "from sklearn import metrics"
      ]
    },
    {
      "cell_type": "code",
      "source": [
        "from google.colab import drive\n",
        "drive.mount('/content/drive')\n",
        "df = pd.read_excel('/content/drive/MyDrive/new_flipkart_labels.xlsx')\n",
        "df.head()"
      ],
      "metadata": {
        "colab": {
          "base_uri": "https://localhost:8080/",
          "height": 327
        },
        "id": "0j0eLZ_1BiyS",
        "outputId": "48b5c0f9-97d8-4356-96f1-2f729c3718ac"
      },
      "execution_count": 4,
      "outputs": [
        {
          "output_type": "stream",
          "name": "stdout",
          "text": [
            "Mounted at /content/drive\n"
          ]
        },
        {
          "output_type": "execute_result",
          "data": {
            "text/plain": [
              "   Unnamed: 0                                             review  \\\n",
              "0           0   more flexible bass is very high sound clarity...   \n",
              "1           1     super sound and good looking i like that prize   \n",
              "2           2  very much satisfied with the device at this pr...   \n",
              "3           3  nice headphone bass was very good and sound is...   \n",
              "4           4  sound quality super battery backup super quali...   \n",
              "\n",
              "                                         review_lemm  \\\n",
              "0    flexible bass high sound clarity good batter...   \n",
              "1                   super sound good look like prize   \n",
              "2  satisfied device price point awesome brand des...   \n",
              "3  nice headphone bass good sound clear purchase ...   \n",
              "4  sound quality super battery backup super quali...   \n",
              "\n",
              "                                              scores  compound_score label  \n",
              "0  {'neg': 0.092, 'neu': 0.528, 'pos': 0.38, 'com...          0.8934   pos  \n",
              "1  {'neg': 0.0, 'neu': 0.137, 'pos': 0.863, 'comp...          0.9118   pos  \n",
              "2  {'neg': 0.0, 'neu': 0.535, 'pos': 0.465, 'comp...          0.9590   pos  \n",
              "3  {'neg': 0.065, 'neu': 0.529, 'pos': 0.406, 'co...          0.8910   pos  \n",
              "4  {'neg': 0.0, 'neu': 0.308, 'pos': 0.692, 'comp...          0.9584   pos  "
            ],
            "text/html": [
              "\n",
              "  <div id=\"df-8376880c-c8dc-42c4-a7f6-ff65b4dd047e\" class=\"colab-df-container\">\n",
              "    <div>\n",
              "<style scoped>\n",
              "    .dataframe tbody tr th:only-of-type {\n",
              "        vertical-align: middle;\n",
              "    }\n",
              "\n",
              "    .dataframe tbody tr th {\n",
              "        vertical-align: top;\n",
              "    }\n",
              "\n",
              "    .dataframe thead th {\n",
              "        text-align: right;\n",
              "    }\n",
              "</style>\n",
              "<table border=\"1\" class=\"dataframe\">\n",
              "  <thead>\n",
              "    <tr style=\"text-align: right;\">\n",
              "      <th></th>\n",
              "      <th>Unnamed: 0</th>\n",
              "      <th>review</th>\n",
              "      <th>review_lemm</th>\n",
              "      <th>scores</th>\n",
              "      <th>compound_score</th>\n",
              "      <th>label</th>\n",
              "    </tr>\n",
              "  </thead>\n",
              "  <tbody>\n",
              "    <tr>\n",
              "      <th>0</th>\n",
              "      <td>0</td>\n",
              "      <td>more flexible bass is very high sound clarity...</td>\n",
              "      <td>flexible bass high sound clarity good batter...</td>\n",
              "      <td>{'neg': 0.092, 'neu': 0.528, 'pos': 0.38, 'com...</td>\n",
              "      <td>0.8934</td>\n",
              "      <td>pos</td>\n",
              "    </tr>\n",
              "    <tr>\n",
              "      <th>1</th>\n",
              "      <td>1</td>\n",
              "      <td>super sound and good looking i like that prize</td>\n",
              "      <td>super sound good look like prize</td>\n",
              "      <td>{'neg': 0.0, 'neu': 0.137, 'pos': 0.863, 'comp...</td>\n",
              "      <td>0.9118</td>\n",
              "      <td>pos</td>\n",
              "    </tr>\n",
              "    <tr>\n",
              "      <th>2</th>\n",
              "      <td>2</td>\n",
              "      <td>very much satisfied with the device at this pr...</td>\n",
              "      <td>satisfied device price point awesome brand des...</td>\n",
              "      <td>{'neg': 0.0, 'neu': 0.535, 'pos': 0.465, 'comp...</td>\n",
              "      <td>0.9590</td>\n",
              "      <td>pos</td>\n",
              "    </tr>\n",
              "    <tr>\n",
              "      <th>3</th>\n",
              "      <td>3</td>\n",
              "      <td>nice headphone bass was very good and sound is...</td>\n",
              "      <td>nice headphone bass good sound clear purchase ...</td>\n",
              "      <td>{'neg': 0.065, 'neu': 0.529, 'pos': 0.406, 'co...</td>\n",
              "      <td>0.8910</td>\n",
              "      <td>pos</td>\n",
              "    </tr>\n",
              "    <tr>\n",
              "      <th>4</th>\n",
              "      <td>4</td>\n",
              "      <td>sound quality super battery backup super quali...</td>\n",
              "      <td>sound quality super battery backup super quali...</td>\n",
              "      <td>{'neg': 0.0, 'neu': 0.308, 'pos': 0.692, 'comp...</td>\n",
              "      <td>0.9584</td>\n",
              "      <td>pos</td>\n",
              "    </tr>\n",
              "  </tbody>\n",
              "</table>\n",
              "</div>\n",
              "    <div class=\"colab-df-buttons\">\n",
              "\n",
              "  <div class=\"colab-df-container\">\n",
              "    <button class=\"colab-df-convert\" onclick=\"convertToInteractive('df-8376880c-c8dc-42c4-a7f6-ff65b4dd047e')\"\n",
              "            title=\"Convert this dataframe to an interactive table.\"\n",
              "            style=\"display:none;\">\n",
              "\n",
              "  <svg xmlns=\"http://www.w3.org/2000/svg\" height=\"24px\" viewBox=\"0 -960 960 960\">\n",
              "    <path d=\"M120-120v-720h720v720H120Zm60-500h600v-160H180v160Zm220 220h160v-160H400v160Zm0 220h160v-160H400v160ZM180-400h160v-160H180v160Zm440 0h160v-160H620v160ZM180-180h160v-160H180v160Zm440 0h160v-160H620v160Z\"/>\n",
              "  </svg>\n",
              "    </button>\n",
              "\n",
              "  <style>\n",
              "    .colab-df-container {\n",
              "      display:flex;\n",
              "      gap: 12px;\n",
              "    }\n",
              "\n",
              "    .colab-df-convert {\n",
              "      background-color: #E8F0FE;\n",
              "      border: none;\n",
              "      border-radius: 50%;\n",
              "      cursor: pointer;\n",
              "      display: none;\n",
              "      fill: #1967D2;\n",
              "      height: 32px;\n",
              "      padding: 0 0 0 0;\n",
              "      width: 32px;\n",
              "    }\n",
              "\n",
              "    .colab-df-convert:hover {\n",
              "      background-color: #E2EBFA;\n",
              "      box-shadow: 0px 1px 2px rgba(60, 64, 67, 0.3), 0px 1px 3px 1px rgba(60, 64, 67, 0.15);\n",
              "      fill: #174EA6;\n",
              "    }\n",
              "\n",
              "    .colab-df-buttons div {\n",
              "      margin-bottom: 4px;\n",
              "    }\n",
              "\n",
              "    [theme=dark] .colab-df-convert {\n",
              "      background-color: #3B4455;\n",
              "      fill: #D2E3FC;\n",
              "    }\n",
              "\n",
              "    [theme=dark] .colab-df-convert:hover {\n",
              "      background-color: #434B5C;\n",
              "      box-shadow: 0px 1px 3px 1px rgba(0, 0, 0, 0.15);\n",
              "      filter: drop-shadow(0px 1px 2px rgba(0, 0, 0, 0.3));\n",
              "      fill: #FFFFFF;\n",
              "    }\n",
              "  </style>\n",
              "\n",
              "    <script>\n",
              "      const buttonEl =\n",
              "        document.querySelector('#df-8376880c-c8dc-42c4-a7f6-ff65b4dd047e button.colab-df-convert');\n",
              "      buttonEl.style.display =\n",
              "        google.colab.kernel.accessAllowed ? 'block' : 'none';\n",
              "\n",
              "      async function convertToInteractive(key) {\n",
              "        const element = document.querySelector('#df-8376880c-c8dc-42c4-a7f6-ff65b4dd047e');\n",
              "        const dataTable =\n",
              "          await google.colab.kernel.invokeFunction('convertToInteractive',\n",
              "                                                    [key], {});\n",
              "        if (!dataTable) return;\n",
              "\n",
              "        const docLinkHtml = 'Like what you see? Visit the ' +\n",
              "          '<a target=\"_blank\" href=https://colab.research.google.com/notebooks/data_table.ipynb>data table notebook</a>'\n",
              "          + ' to learn more about interactive tables.';\n",
              "        element.innerHTML = '';\n",
              "        dataTable['output_type'] = 'display_data';\n",
              "        await google.colab.output.renderOutput(dataTable, element);\n",
              "        const docLink = document.createElement('div');\n",
              "        docLink.innerHTML = docLinkHtml;\n",
              "        element.appendChild(docLink);\n",
              "      }\n",
              "    </script>\n",
              "  </div>\n",
              "\n",
              "\n",
              "<div id=\"df-282583f3-2a8b-411b-b9f9-8d03fb5a41a0\">\n",
              "  <button class=\"colab-df-quickchart\" onclick=\"quickchart('df-282583f3-2a8b-411b-b9f9-8d03fb5a41a0')\"\n",
              "            title=\"Suggest charts.\"\n",
              "            style=\"display:none;\">\n",
              "\n",
              "<svg xmlns=\"http://www.w3.org/2000/svg\" height=\"24px\"viewBox=\"0 0 24 24\"\n",
              "     width=\"24px\">\n",
              "    <g>\n",
              "        <path d=\"M19 3H5c-1.1 0-2 .9-2 2v14c0 1.1.9 2 2 2h14c1.1 0 2-.9 2-2V5c0-1.1-.9-2-2-2zM9 17H7v-7h2v7zm4 0h-2V7h2v10zm4 0h-2v-4h2v4z\"/>\n",
              "    </g>\n",
              "</svg>\n",
              "  </button>\n",
              "\n",
              "<style>\n",
              "  .colab-df-quickchart {\n",
              "      --bg-color: #E8F0FE;\n",
              "      --fill-color: #1967D2;\n",
              "      --hover-bg-color: #E2EBFA;\n",
              "      --hover-fill-color: #174EA6;\n",
              "      --disabled-fill-color: #AAA;\n",
              "      --disabled-bg-color: #DDD;\n",
              "  }\n",
              "\n",
              "  [theme=dark] .colab-df-quickchart {\n",
              "      --bg-color: #3B4455;\n",
              "      --fill-color: #D2E3FC;\n",
              "      --hover-bg-color: #434B5C;\n",
              "      --hover-fill-color: #FFFFFF;\n",
              "      --disabled-bg-color: #3B4455;\n",
              "      --disabled-fill-color: #666;\n",
              "  }\n",
              "\n",
              "  .colab-df-quickchart {\n",
              "    background-color: var(--bg-color);\n",
              "    border: none;\n",
              "    border-radius: 50%;\n",
              "    cursor: pointer;\n",
              "    display: none;\n",
              "    fill: var(--fill-color);\n",
              "    height: 32px;\n",
              "    padding: 0;\n",
              "    width: 32px;\n",
              "  }\n",
              "\n",
              "  .colab-df-quickchart:hover {\n",
              "    background-color: var(--hover-bg-color);\n",
              "    box-shadow: 0 1px 2px rgba(60, 64, 67, 0.3), 0 1px 3px 1px rgba(60, 64, 67, 0.15);\n",
              "    fill: var(--button-hover-fill-color);\n",
              "  }\n",
              "\n",
              "  .colab-df-quickchart-complete:disabled,\n",
              "  .colab-df-quickchart-complete:disabled:hover {\n",
              "    background-color: var(--disabled-bg-color);\n",
              "    fill: var(--disabled-fill-color);\n",
              "    box-shadow: none;\n",
              "  }\n",
              "\n",
              "  .colab-df-spinner {\n",
              "    border: 2px solid var(--fill-color);\n",
              "    border-color: transparent;\n",
              "    border-bottom-color: var(--fill-color);\n",
              "    animation:\n",
              "      spin 1s steps(1) infinite;\n",
              "  }\n",
              "\n",
              "  @keyframes spin {\n",
              "    0% {\n",
              "      border-color: transparent;\n",
              "      border-bottom-color: var(--fill-color);\n",
              "      border-left-color: var(--fill-color);\n",
              "    }\n",
              "    20% {\n",
              "      border-color: transparent;\n",
              "      border-left-color: var(--fill-color);\n",
              "      border-top-color: var(--fill-color);\n",
              "    }\n",
              "    30% {\n",
              "      border-color: transparent;\n",
              "      border-left-color: var(--fill-color);\n",
              "      border-top-color: var(--fill-color);\n",
              "      border-right-color: var(--fill-color);\n",
              "    }\n",
              "    40% {\n",
              "      border-color: transparent;\n",
              "      border-right-color: var(--fill-color);\n",
              "      border-top-color: var(--fill-color);\n",
              "    }\n",
              "    60% {\n",
              "      border-color: transparent;\n",
              "      border-right-color: var(--fill-color);\n",
              "    }\n",
              "    80% {\n",
              "      border-color: transparent;\n",
              "      border-right-color: var(--fill-color);\n",
              "      border-bottom-color: var(--fill-color);\n",
              "    }\n",
              "    90% {\n",
              "      border-color: transparent;\n",
              "      border-bottom-color: var(--fill-color);\n",
              "    }\n",
              "  }\n",
              "</style>\n",
              "\n",
              "  <script>\n",
              "    async function quickchart(key) {\n",
              "      const quickchartButtonEl =\n",
              "        document.querySelector('#' + key + ' button');\n",
              "      quickchartButtonEl.disabled = true;  // To prevent multiple clicks.\n",
              "      quickchartButtonEl.classList.add('colab-df-spinner');\n",
              "      try {\n",
              "        const charts = await google.colab.kernel.invokeFunction(\n",
              "            'suggestCharts', [key], {});\n",
              "      } catch (error) {\n",
              "        console.error('Error during call to suggestCharts:', error);\n",
              "      }\n",
              "      quickchartButtonEl.classList.remove('colab-df-spinner');\n",
              "      quickchartButtonEl.classList.add('colab-df-quickchart-complete');\n",
              "    }\n",
              "    (() => {\n",
              "      let quickchartButtonEl =\n",
              "        document.querySelector('#df-282583f3-2a8b-411b-b9f9-8d03fb5a41a0 button');\n",
              "      quickchartButtonEl.style.display =\n",
              "        google.colab.kernel.accessAllowed ? 'block' : 'none';\n",
              "    })();\n",
              "  </script>\n",
              "</div>\n",
              "    </div>\n",
              "  </div>\n"
            ]
          },
          "metadata": {},
          "execution_count": 4
        }
      ]
    },
    {
      "cell_type": "code",
      "source": [
        "reviews=df['review_lemm']"
      ],
      "metadata": {
        "id": "JbDZSGIqBvDU"
      },
      "execution_count": 6,
      "outputs": []
    },
    {
      "cell_type": "code",
      "source": [
        "reviews[1]"
      ],
      "metadata": {
        "colab": {
          "base_uri": "https://localhost:8080/",
          "height": 36
        },
        "id": "-uIWmzjNBwy1",
        "outputId": "411e4136-b312-4777-a30f-205b52c7c97a"
      },
      "execution_count": 7,
      "outputs": [
        {
          "output_type": "execute_result",
          "data": {
            "text/plain": [
              "'super sound good look like prize'"
            ],
            "application/vnd.google.colaboratory.intrinsic+json": {
              "type": "string"
            }
          },
          "metadata": {},
          "execution_count": 7
        }
      ]
    },
    {
      "cell_type": "code",
      "source": [
        "df['review_lemm'] = df['review_lemm'].apply(lambda x: str(x).lower())"
      ],
      "metadata": {
        "id": "fXbCsddoBzZQ"
      },
      "execution_count": 9,
      "outputs": []
    },
    {
      "cell_type": "code",
      "source": [
        "print(df.shape)\n"
      ],
      "metadata": {
        "colab": {
          "base_uri": "https://localhost:8080/"
        },
        "id": "266xsCxIB3Ma",
        "outputId": "1384516e-0b2c-4e84-8362-b0f3c722e176"
      },
      "execution_count": 11,
      "outputs": [
        {
          "output_type": "stream",
          "name": "stdout",
          "text": [
            "(3800, 6)\n"
          ]
        }
      ]
    },
    {
      "cell_type": "code",
      "source": [
        "# Embedding\n",
        "max_features = 20000  # change to 20000-50000\n",
        "maxlen = 100         # change to 100-300\n",
        "embedding_size = 128   # what is its impact\n",
        "\n",
        "# Convolution\n",
        "kernel_size = 5\n",
        "filters = 64\n",
        "pool_size = 4\n",
        "\n",
        "# LSTM\n",
        "lstm_output_size = 70      # what is its impact\n",
        "\n",
        "# Training\n",
        "batch_size = 30\n",
        "epochs = 4"
      ],
      "metadata": {
        "id": "D-TUopsCCN2u"
      },
      "execution_count": 14,
      "outputs": []
    },
    {
      "cell_type": "code",
      "source": [
        "tokenizer = Tokenizer(nb_words = max_features, split=' ')\n",
        "tokenizer.fit_on_texts(df['review_lemm'].values)\n",
        "X = tokenizer.texts_to_sequences(df['review_lemm'].values)\n",
        "X = pad_sequences(X, maxlen = maxlen)"
      ],
      "metadata": {
        "id": "ZmLdptHECOpj"
      },
      "execution_count": 17,
      "outputs": []
    },
    {
      "cell_type": "code",
      "source": [
        "Y = pd.get_dummies(df['label']).values\n",
        "X_train, X_test, Y_train, Y_test = train_test_split(X,Y, test_size = 0.20, random_state = 42)\n",
        "print(X_train.shape,Y_train.shape)\n",
        "print(X_test.shape,Y_test.shape)"
      ],
      "metadata": {
        "colab": {
          "base_uri": "https://localhost:8080/"
        },
        "id": "IRlEEYoHCTfB",
        "outputId": "d57f5bf9-739a-454b-8792-4fa875e7a1d3"
      },
      "execution_count": 19,
      "outputs": [
        {
          "output_type": "stream",
          "name": "stdout",
          "text": [
            "(3040, 100) (3040, 3)\n",
            "(760, 100) (760, 3)\n"
          ]
        }
      ]
    },
    {
      "cell_type": "code",
      "source": [
        "from tensorflow.keras.models import Sequential\n",
        "from tensorflow.keras.layers import Embedding\n",
        "import numpy as np\n",
        "import tensorflow as tf\n",
        "from keras.layers import Dense, Conv1D, Flatten, MaxPooling1D"
      ],
      "metadata": {
        "id": "J_abATaNCw5o"
      },
      "execution_count": 21,
      "outputs": []
    },
    {
      "cell_type": "code",
      "source": [
        "print('Build model...')\n",
        "\n",
        "model = Sequential()\n",
        "embedding_layer = Embedding(max_features, embedding_size, input_length=maxlen)\n",
        "model.add(embedding_layer)\n",
        "model.compile('adam','mse')\n",
        "model = tf.keras.Sequential()\n",
        "model.add(tf.keras.layers.Embedding(max_features, embedding_size, input_length=maxlen))\n",
        "model.add(Dropout(0.20))\n",
        "model.add(Conv1D(filters, kernel_size, padding='valid', activation='relu', strides=1))\n",
        "model.add(MaxPooling1D(pool_size=pool_size))\n",
        "model.add(LSTM(lstm_output_size))\n",
        "model.add(Dense(3,activation='softmax'))\n",
        "model.compile(loss = 'categorical_crossentropy', optimizer='adam',metrics = ['accuracy'])\n",
        "print(model.summary())"
      ],
      "metadata": {
        "colab": {
          "base_uri": "https://localhost:8080/"
        },
        "id": "mWwZs-srCVkh",
        "outputId": "ad564643-8c3e-43d8-e459-06d1eefdf1a2"
      },
      "execution_count": 25,
      "outputs": [
        {
          "output_type": "stream",
          "name": "stdout",
          "text": [
            "Build model...\n",
            "Model: \"sequential_4\"\n",
            "_________________________________________________________________\n",
            " Layer (type)                Output Shape              Param #   \n",
            "=================================================================\n",
            " embedding_3 (Embedding)     (None, 100, 128)          2560000   \n",
            "                                                                 \n",
            " dropout_1 (Dropout)         (None, 100, 128)          0         \n",
            "                                                                 \n",
            " conv1d_1 (Conv1D)           (None, 96, 64)            41024     \n",
            "                                                                 \n",
            " max_pooling1d_1 (MaxPoolin  (None, 24, 64)            0         \n",
            " g1D)                                                            \n",
            "                                                                 \n",
            " lstm_1 (LSTM)               (None, 70)                37800     \n",
            "                                                                 \n",
            " dense_1 (Dense)             (None, 3)                 213       \n",
            "                                                                 \n",
            "=================================================================\n",
            "Total params: 2639037 (10.07 MB)\n",
            "Trainable params: 2639037 (10.07 MB)\n",
            "Non-trainable params: 0 (0.00 Byte)\n",
            "_________________________________________________________________\n",
            "None\n"
          ]
        }
      ]
    },
    {
      "cell_type": "code",
      "source": [
        "print('Train...')\n",
        "model_lstm=model.fit(X_train, Y_train, batch_size=batch_size, epochs=epochs,shuffle=True, validation_data=(X_test, Y_test))"
      ],
      "metadata": {
        "colab": {
          "base_uri": "https://localhost:8080/"
        },
        "id": "z9kevD8xC5Ea",
        "outputId": "c833c542-e0ca-45b7-c658-cb9362fba6d1"
      },
      "execution_count": 26,
      "outputs": [
        {
          "output_type": "stream",
          "name": "stdout",
          "text": [
            "Train...\n",
            "Epoch 1/4\n",
            "102/102 [==============================] - 12s 84ms/step - loss: 0.6914 - accuracy: 0.7053 - val_loss: 0.4732 - val_accuracy: 0.8316\n",
            "Epoch 2/4\n",
            "102/102 [==============================] - 10s 95ms/step - loss: 0.2738 - accuracy: 0.9122 - val_loss: 0.2349 - val_accuracy: 0.9211\n",
            "Epoch 3/4\n",
            "102/102 [==============================] - 10s 96ms/step - loss: 0.1257 - accuracy: 0.9576 - val_loss: 0.2367 - val_accuracy: 0.9342\n",
            "Epoch 4/4\n",
            "102/102 [==============================] - 8s 81ms/step - loss: 0.0704 - accuracy: 0.9766 - val_loss: 0.2300 - val_accuracy: 0.9342\n"
          ]
        }
      ]
    },
    {
      "cell_type": "code",
      "source": [
        "accr = model.evaluate(X_test,Y_test)\n",
        "print('Test set\\n  Loss: {:0.5f}\\n  Accuracy: {:0.3f}'.format(accr[0],accr[1]))"
      ],
      "metadata": {
        "colab": {
          "base_uri": "https://localhost:8080/"
        },
        "id": "f0rmBr7EDDiP",
        "outputId": "34291be5-984a-4661-e679-757572f80239"
      },
      "execution_count": 27,
      "outputs": [
        {
          "output_type": "stream",
          "name": "stdout",
          "text": [
            "24/24 [==============================] - 1s 25ms/step - loss: 0.2300 - accuracy: 0.9342\n",
            "Test set\n",
            "  Loss: 0.23003\n",
            "  Accuracy: 0.934\n"
          ]
        }
      ]
    },
    {
      "cell_type": "code",
      "source": [
        "plt.title('Loss')\n",
        "plt.plot(model_lstm.history['loss'], label='train')\n",
        "plt.plot(model_lstm.history['val_loss'], label='test')\n",
        "plt.legend()\n",
        "plt.show();"
      ],
      "metadata": {
        "colab": {
          "base_uri": "https://localhost:8080/",
          "height": 452
        },
        "id": "BVkvGEqNDN9q",
        "outputId": "260ffd72-62b3-4ed2-e2d4-7384729a3a41"
      },
      "execution_count": 28,
      "outputs": [
        {
          "output_type": "display_data",
          "data": {
            "text/plain": [
              "<Figure size 640x480 with 1 Axes>"
            ],
            "image/png": "[encoded data removed]"
          },
          "metadata": {}
        }
      ]
    },
    {
      "cell_type": "code",
      "source": [
        "plt.title('Accuracy')\n",
        "plt.plot(model_lstm.history['accuracy'], label='train')\n",
        "plt.plot(model_lstm.history['val_accuracy'], label='test')\n",
        "plt.legend()\n",
        "plt.show();"
      ],
      "metadata": {
        "colab": {
          "base_uri": "https://localhost:8080/",
          "height": 452
        },
        "id": "MMXXiOGxDT-o",
        "outputId": "7c3bfa91-ade9-4d1a-eb86-bdf6deb75882"
      },
      "execution_count": 29,
      "outputs": [
        {
          "output_type": "display_data",
          "data": {
            "text/plain": [
              "<Figure size 640x480 with 1 Axes>"
            ],
            "image/png": "[encoded data removed]"
          },
          "metadata": {}
        }
      ]
    },
    {
      "cell_type": "code",
      "source": [
        "predictions=[]\n",
        "pred = model.predict(X_test)\n",
        "for x in pred:\n",
        "    labels = ['Neu','Pos','Neg']\n",
        "    predictions.append(labels[np.argmax(x)])\n",
        "predictions=np.array(predictions)\n",
        "predictions"
      ],
      "metadata": {
        "colab": {
          "base_uri": "https://localhost:8080/"
        },
        "id": "E00rTPCYDXhK",
        "outputId": "1a5070d3-3368-4318-d276-6cda803e06f2"
      },
      "execution_count": 30,
      "outputs": [
        {
          "output_type": "stream",
          "name": "stdout",
          "text": [
            "24/24 [==============================] - 1s 12ms/step\n"
          ]
        },
        {
          "output_type": "execute_result",
          "data": {
            "text/plain": [
              "array(['Neg', 'Neg', 'Neu', 'Neg', 'Neg', 'Neg', 'Neu', 'Neg', 'Neg',\n",
              "       'Neg', 'Pos', 'Neg', 'Neu', 'Neg', 'Neu', 'Pos', 'Neg', 'Neg',\n",
              "       'Neg', 'Neg', 'Neg', 'Neg', 'Neg', 'Neg', 'Neg', 'Neg', 'Pos',\n",
              "       'Neg', 'Neg', 'Pos', 'Neg', 'Neu', 'Neg', 'Neg', 'Neg', 'Pos',\n",
              "       'Neg', 'Neg', 'Neg', 'Pos', 'Neg', 'Neg', 'Neg', 'Pos', 'Neg',\n",
              "       'Neg', 'Neg', 'Neu', 'Neg', 'Pos', 'Neg', 'Neg', 'Neg', 'Pos',\n",
              "       'Neg', 'Neu', 'Pos', 'Pos', 'Neg', 'Neu', 'Neu', 'Neu', 'Neg',\n",
              "       'Neg', 'Neu', 'Neg', 'Neg', 'Neg', 'Neg', 'Neg', 'Neg', 'Neg',\n",
              "       'Neg', 'Neu', 'Pos', 'Neg', 'Neg', 'Neg', 'Neg', 'Pos', 'Neg',\n",
              "       'Neg', 'Neg', 'Neg', 'Neg', 'Neg', 'Neg', 'Neg', 'Neg', 'Neu',\n",
              "       'Neg', 'Neg', 'Neg', 'Neg', 'Neg', 'Pos', 'Pos', 'Neu', 'Neu',\n",
              "       'Neg', 'Neg', 'Neg', 'Neg', 'Neu', 'Neu', 'Neg', 'Neg', 'Neu',\n",
              "       'Neu', 'Neg', 'Neg', 'Neg', 'Neg', 'Neu', 'Neg', 'Neu', 'Neg',\n",
              "       'Neu', 'Neg', 'Neg', 'Neg', 'Neg', 'Pos', 'Pos', 'Neg', 'Pos',\n",
              "       'Pos', 'Neg', 'Neg', 'Neg', 'Neu', 'Pos', 'Pos', 'Neg', 'Neg',\n",
              "       'Neg', 'Pos', 'Neg', 'Neg', 'Neg', 'Neg', 'Neu', 'Pos', 'Neg',\n",
              "       'Neg', 'Neu', 'Pos', 'Pos', 'Neu', 'Neg', 'Neg', 'Pos', 'Neg',\n",
              "       'Neg', 'Pos', 'Neg', 'Neu', 'Neg', 'Neu', 'Neg', 'Neu', 'Pos',\n",
              "       'Neg', 'Neg', 'Neg', 'Neg', 'Neg', 'Neu', 'Neg', 'Neu', 'Neg',\n",
              "       'Neg', 'Neg', 'Neu', 'Neg', 'Neg', 'Neg', 'Neg', 'Neg', 'Neg',\n",
              "       'Pos', 'Neg', 'Neu', 'Neu', 'Neg', 'Neg', 'Neg', 'Neg', 'Neg',\n",
              "       'Neu', 'Pos', 'Neg', 'Pos', 'Neg', 'Pos', 'Neg', 'Neg', 'Neg',\n",
              "       'Neg', 'Neg', 'Neg', 'Neu', 'Neg', 'Neg', 'Neg', 'Neg', 'Neu',\n",
              "       'Neg', 'Neg', 'Neu', 'Neg', 'Neg', 'Neu', 'Neg', 'Neg', 'Neg',\n",
              "       'Neu', 'Neg', 'Neg', 'Neu', 'Neg', 'Neu', 'Neg', 'Pos', 'Neu',\n",
              "       'Neg', 'Neg', 'Neg', 'Neu', 'Neg', 'Neg', 'Neg', 'Neg', 'Pos',\n",
              "       'Neu', 'Neg', 'Neu', 'Neg', 'Neg', 'Neg', 'Neg', 'Neg', 'Neg',\n",
              "       'Neg', 'Neu', 'Pos', 'Neg', 'Neg', 'Neg', 'Neg', 'Neu', 'Pos',\n",
              "       'Neg', 'Neg', 'Neg', 'Neg', 'Neg', 'Neg', 'Neg', 'Neg', 'Neg',\n",
              "       'Neg', 'Pos', 'Neu', 'Neg', 'Neg', 'Neg', 'Neg', 'Neu', 'Neu',\n",
              "       'Neg', 'Neg', 'Pos', 'Neu', 'Pos', 'Neg', 'Pos', 'Neg', 'Pos',\n",
              "       'Pos', 'Neg', 'Neu', 'Neg', 'Neu', 'Pos', 'Neg', 'Pos', 'Neg',\n",
              "       'Pos', 'Neg', 'Neg', 'Neg', 'Neu', 'Neg', 'Neg', 'Neg', 'Neg',\n",
              "       'Neg', 'Neg', 'Neg', 'Pos', 'Neg', 'Neu', 'Neg', 'Neg', 'Neg',\n",
              "       'Neg', 'Neg', 'Neg', 'Neg', 'Neg', 'Pos', 'Neu', 'Neg', 'Neg',\n",
              "       'Neg', 'Neg', 'Neg', 'Neg', 'Neg', 'Pos', 'Neg', 'Pos', 'Neg',\n",
              "       'Pos', 'Neu', 'Neg', 'Neg', 'Pos', 'Neg', 'Neg', 'Neu', 'Neg',\n",
              "       'Neg', 'Neg', 'Neg', 'Neg', 'Neu', 'Neu', 'Neg', 'Neu', 'Pos',\n",
              "       'Pos', 'Neu', 'Neg', 'Neg', 'Neg', 'Neg', 'Neg', 'Neg', 'Neu',\n",
              "       'Neg', 'Neg', 'Pos', 'Neg', 'Neg', 'Pos', 'Neg', 'Neg', 'Neg',\n",
              "       'Neg', 'Neg', 'Neg', 'Neg', 'Pos', 'Neu', 'Neg', 'Neg', 'Pos',\n",
              "       'Pos', 'Pos', 'Neg', 'Pos', 'Neg', 'Neg', 'Neu', 'Neg', 'Neu',\n",
              "       'Neg', 'Neg', 'Neg', 'Neg', 'Neg', 'Pos', 'Neg', 'Neg', 'Neg',\n",
              "       'Neu', 'Neu', 'Neu', 'Neg', 'Pos', 'Neg', 'Neg', 'Neg', 'Neg',\n",
              "       'Pos', 'Pos', 'Neu', 'Neg', 'Neu', 'Neg', 'Neu', 'Neg', 'Neg',\n",
              "       'Neg', 'Neg', 'Neg', 'Neg', 'Neg', 'Neg', 'Neg', 'Neg', 'Neg',\n",
              "       'Neg', 'Neu', 'Neg', 'Pos', 'Neg', 'Neg', 'Pos', 'Pos', 'Neg',\n",
              "       'Neg', 'Neg', 'Neg', 'Neg', 'Neg', 'Neg', 'Neu', 'Pos', 'Neg',\n",
              "       'Neg', 'Pos', 'Neg', 'Neu', 'Neg', 'Pos', 'Neg', 'Neg', 'Neg',\n",
              "       'Neg', 'Neg', 'Pos', 'Neg', 'Neg', 'Pos', 'Neg', 'Neg', 'Neu',\n",
              "       'Neg', 'Neg', 'Neu', 'Neg', 'Neg', 'Pos', 'Neg', 'Neg', 'Neg',\n",
              "       'Neg', 'Neg', 'Neg', 'Neg', 'Neg', 'Neg', 'Neg', 'Neg', 'Neg',\n",
              "       'Neg', 'Neu', 'Neu', 'Neg', 'Neg', 'Pos', 'Neg', 'Neg', 'Neu',\n",
              "       'Neg', 'Neg', 'Pos', 'Neg', 'Neg', 'Pos', 'Neg', 'Neg', 'Neg',\n",
              "       'Neu', 'Neg', 'Neg', 'Neg', 'Neg', 'Neg', 'Neg', 'Neu', 'Pos',\n",
              "       'Pos', 'Neg', 'Neg', 'Neg', 'Neg', 'Neg', 'Neg', 'Neg', 'Neu',\n",
              "       'Neg', 'Neg', 'Neg', 'Neg', 'Neg', 'Neg', 'Neg', 'Pos', 'Neg',\n",
              "       'Neg', 'Pos', 'Neg', 'Neg', 'Neg', 'Pos', 'Neg', 'Pos', 'Neg',\n",
              "       'Neg', 'Neg', 'Neg', 'Neg', 'Neg', 'Neg', 'Neg', 'Neg', 'Neg',\n",
              "       'Neg', 'Neg', 'Neg', 'Neg', 'Neg', 'Neg', 'Pos', 'Neg', 'Neg',\n",
              "       'Pos', 'Neg', 'Pos', 'Neg', 'Neg', 'Neg', 'Neg', 'Pos', 'Neu',\n",
              "       'Neu', 'Neg', 'Pos', 'Neg', 'Neg', 'Neu', 'Pos', 'Neg', 'Pos',\n",
              "       'Neg', 'Neg', 'Neu', 'Neu', 'Neu', 'Pos', 'Neu', 'Pos', 'Neg',\n",
              "       'Neg', 'Neg', 'Neu', 'Pos', 'Pos', 'Neg', 'Neg', 'Neg', 'Neg',\n",
              "       'Pos', 'Neg', 'Neg', 'Neg', 'Neg', 'Neg', 'Neu', 'Neg', 'Neg',\n",
              "       'Neg', 'Neg', 'Neg', 'Neg', 'Pos', 'Neg', 'Neu', 'Pos', 'Neg',\n",
              "       'Neu', 'Pos', 'Neg', 'Neg', 'Neu', 'Neg', 'Neg', 'Neu', 'Neg',\n",
              "       'Pos', 'Neg', 'Neg', 'Neg', 'Neg', 'Pos', 'Pos', 'Pos', 'Neg',\n",
              "       'Neg', 'Neu', 'Neg', 'Neg', 'Neu', 'Neg', 'Neu', 'Pos', 'Neg',\n",
              "       'Neg', 'Neg', 'Neg', 'Neg', 'Neg', 'Neg', 'Pos', 'Neg', 'Neg',\n",
              "       'Neu', 'Neg', 'Neg', 'Neg', 'Neg', 'Neg', 'Neu', 'Neu', 'Pos',\n",
              "       'Neg', 'Neg', 'Neu', 'Neg', 'Neg', 'Neg', 'Neu', 'Neg', 'Neg',\n",
              "       'Neg', 'Neg', 'Neg', 'Neg', 'Neu', 'Neg', 'Neg', 'Pos', 'Neu',\n",
              "       'Neu', 'Neg', 'Pos', 'Neg', 'Neg', 'Neg', 'Pos', 'Neg', 'Neg',\n",
              "       'Neg', 'Pos', 'Neg', 'Neg', 'Neu', 'Neg', 'Neg', 'Neg', 'Neu',\n",
              "       'Pos', 'Neg', 'Neu', 'Neg', 'Neg', 'Neg', 'Neg', 'Pos', 'Neu',\n",
              "       'Neu', 'Neg', 'Pos', 'Neg', 'Neg', 'Neg', 'Neu', 'Neg', 'Neg',\n",
              "       'Neg', 'Pos', 'Neg', 'Pos', 'Pos', 'Neg', 'Neg', 'Neg', 'Neu',\n",
              "       'Neg', 'Neg', 'Pos', 'Neg', 'Neg', 'Neg', 'Neg', 'Neu', 'Neg',\n",
              "       'Neg', 'Neg', 'Neg', 'Neg', 'Neg', 'Neg', 'Neg', 'Neg', 'Neg',\n",
              "       'Pos', 'Pos', 'Neg', 'Neu', 'Neu', 'Neu', 'Neg', 'Pos', 'Neg',\n",
              "       'Neg', 'Neg', 'Neg', 'Neg', 'Pos', 'Neg', 'Neg', 'Neg', 'Neg',\n",
              "       'Neg', 'Pos', 'Neu', 'Neg', 'Neg', 'Neg', 'Neu', 'Neg', 'Neg',\n",
              "       'Neg', 'Neg', 'Neg', 'Neu', 'Neg', 'Pos', 'Neu', 'Neg', 'Neu',\n",
              "       'Neu', 'Neg', 'Neg', 'Neg'], dtype='<U3')"
            ]
          },
          "metadata": {},
          "execution_count": 30
        }
      ]
    },
    {
      "cell_type": "code",
      "source": [
        "new_pred=[]\n",
        "for x in predictions:\n",
        "    if x=='Pos':\n",
        "        new_pred.append([1,0,0])\n",
        "    if x=='Neu':\n",
        "        new_pred.append([0,1,0])\n",
        "    if x=='Neg':\n",
        "        new_pred.append([0,0,1])\n",
        "new_pred=np.array(new_pred)\n",
        "print(metrics.classification_report(Y_test,new_pred))"
      ],
      "metadata": {
        "colab": {
          "base_uri": "https://localhost:8080/"
        },
        "id": "APyfRBA6DeBt",
        "outputId": "479cbb52-0147-4c98-afc3-0c9a7a70500e"
      },
      "execution_count": 31,
      "outputs": [
        {
          "output_type": "stream",
          "name": "stdout",
          "text": [
            "              precision    recall  f1-score   support\n",
            "\n",
            "           0       0.03      0.03      0.03       134\n",
            "           1       0.09      0.09      0.09       127\n",
            "           2       0.95      0.98      0.97       499\n",
            "\n",
            "   micro avg       0.66      0.66      0.66       760\n",
            "   macro avg       0.36      0.37      0.36       760\n",
            "weighted avg       0.65      0.66      0.65       760\n",
            " samples avg       0.66      0.66      0.66       760\n",
            "\n"
          ]
        }
      ]
    },
    {
      "cell_type": "code",
      "source": [
        "Test_accuracy=metrics.accuracy_score(Y_test,new_pred)\n",
        "Test_accuracy"
      ],
      "metadata": {
        "colab": {
          "base_uri": "https://localhost:8080/"
        },
        "id": "xai25xW5DjOP",
        "outputId": "c8772031-37f4-44d9-e881-cc775dcae263"
      },
      "execution_count": 32,
      "outputs": [
        {
          "output_type": "execute_result",
          "data": {
            "text/plain": [
              "0.6631578947368421"
            ]
          },
          "metadata": {},
          "execution_count": 32
        }
      ]
    },
    {
      "cell_type": "code",
      "source": [
        "import sklearn.externals"
      ],
      "metadata": {
        "id": "S9nANu_ID7aF"
      },
      "execution_count": 34,
      "outputs": []
    },
    {
      "cell_type": "code",
      "source": [
        "!pip install joblib"
      ],
      "metadata": {
        "colab": {
          "base_uri": "https://localhost:8080/"
        },
        "id": "9ZIpZvpBEJ1n",
        "outputId": "a49f152e-bdc6-47df-b2ba-62ab488290ea"
      },
      "execution_count": 37,
      "outputs": [
        {
          "output_type": "stream",
          "name": "stdout",
          "text": [
            "Requirement already satisfied: joblib in /usr/local/lib/python3.10/dist-packages (1.3.2)\n"
          ]
        }
      ]
    },
    {
      "cell_type": "code",
      "source": [
        "import os\n",
        "os.getcwd()"
      ],
      "metadata": {
        "colab": {
          "base_uri": "https://localhost:8080/",
          "height": 36
        },
        "id": "Q7crLHWTDmf0",
        "outputId": "735b4e8a-a753-4065-86c1-91bf240b646d"
      },
      "execution_count": 39,
      "outputs": [
        {
          "output_type": "execute_result",
          "data": {
            "text/plain": [
              "'/content'"
            ],
            "application/vnd.google.colaboratory.intrinsic+json": {
              "type": "string"
            }
          },
          "metadata": {},
          "execution_count": 39
        }
      ]
    },
    {
      "cell_type": "code",
      "source": [
        "import joblib"
      ],
      "metadata": {
        "id": "CTMhwkAZEjAE"
      },
      "execution_count": 41,
      "outputs": []
    },
    {
      "cell_type": "code",
      "source": [
        "joblib.dump(model, 'Final_LSTM.pkl', protocol=2)"
      ],
      "metadata": {
        "colab": {
          "base_uri": "https://localhost:8080/"
        },
        "id": "_hyaNTM3EVnr",
        "outputId": "d0eef5eb-c3bf-4673-8a02-bfff425e8ceb"
      },
      "execution_count": 42,
      "outputs": [
        {
          "output_type": "execute_result",
          "data": {
            "text/plain": [
              "['Final_LSTM.pkl']"
            ]
          },
          "metadata": {},
          "execution_count": 42
        }
      ]
    }
  ]
}