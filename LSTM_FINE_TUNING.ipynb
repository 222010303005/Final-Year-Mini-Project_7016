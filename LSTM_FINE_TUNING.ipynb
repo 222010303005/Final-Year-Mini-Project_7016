{
  "nbformat": 4,
  "nbformat_minor": 0,
  "metadata": {
    "colab": {
      "provenance": [],
      "authorship_tag": "ABX9TyPRUv0KX7xhMtXkcvl0zvv9",
      "include_colab_link": true
    },
    "kernelspec": {
      "name": "python3",
      "display_name": "Python 3"
    },
    "language_info": {
      "name": "python"
    }
  },
  "cells": [
    {
      "cell_type": "markdown",
      "metadata": {
        "id": "view-in-github",
        "colab_type": "text"
      },
      "source": [
        "<a href=\"https://colab.research.google.com/github/222010303005/Final-Year-Mini-Project_7016/blob/main/LSTM_FINE_TUNING.ipynb\" target=\"_parent\"><img src=\"https://colab.research.google.com/assets/colab-badge.svg\" alt=\"Open In Colab\"/></a>"
      ]
    },
    {
      "cell_type": "code",
      "source": [
        "!pip install mlxtend"
      ],
      "metadata": {
        "colab": {
          "base_uri": "https://localhost:8080/"
        },
        "id": "1BIADix9UkTi",
        "outputId": "003e6b8f-7e11-4792-bc72-e244613c8a56"
      },
      "execution_count": 26,
      "outputs": [
        {
          "output_type": "stream",
          "name": "stdout",
          "text": [
            "Requirement already satisfied: mlxtend in /usr/local/lib/python3.10/dist-packages (0.22.0)\n",
            "Requirement already satisfied: scipy>=1.2.1 in /usr/local/lib/python3.10/dist-packages (from mlxtend) (1.11.3)\n",
            "Requirement already satisfied: numpy>=1.16.2 in /usr/local/lib/python3.10/dist-packages (from mlxtend) (1.23.5)\n",
            "Requirement already satisfied: pandas>=0.24.2 in /usr/local/lib/python3.10/dist-packages (from mlxtend) (1.5.3)\n",
            "Requirement already satisfied: scikit-learn>=1.0.2 in /usr/local/lib/python3.10/dist-packages (from mlxtend) (1.2.2)\n",
            "Requirement already satisfied: matplotlib>=3.0.0 in /usr/local/lib/python3.10/dist-packages (from mlxtend) (3.7.1)\n",
            "Requirement already satisfied: joblib>=0.13.2 in /usr/local/lib/python3.10/dist-packages (from mlxtend) (1.3.2)\n",
            "Requirement already satisfied: setuptools in /usr/local/lib/python3.10/dist-packages (from mlxtend) (67.7.2)\n",
            "Requirement already satisfied: contourpy>=1.0.1 in /usr/local/lib/python3.10/dist-packages (from matplotlib>=3.0.0->mlxtend) (1.1.1)\n",
            "Requirement already satisfied: cycler>=0.10 in /usr/local/lib/python3.10/dist-packages (from matplotlib>=3.0.0->mlxtend) (0.12.1)\n",
            "Requirement already satisfied: fonttools>=4.22.0 in /usr/local/lib/python3.10/dist-packages (from matplotlib>=3.0.0->mlxtend) (4.43.1)\n",
            "Requirement already satisfied: kiwisolver>=1.0.1 in /usr/local/lib/python3.10/dist-packages (from matplotlib>=3.0.0->mlxtend) (1.4.5)\n",
            "Requirement already satisfied: packaging>=20.0 in /usr/local/lib/python3.10/dist-packages (from matplotlib>=3.0.0->mlxtend) (23.2)\n",
            "Requirement already satisfied: pillow>=6.2.0 in /usr/local/lib/python3.10/dist-packages (from matplotlib>=3.0.0->mlxtend) (9.4.0)\n",
            "Requirement already satisfied: pyparsing>=2.3.1 in /usr/local/lib/python3.10/dist-packages (from matplotlib>=3.0.0->mlxtend) (3.1.1)\n",
            "Requirement already satisfied: python-dateutil>=2.7 in /usr/local/lib/python3.10/dist-packages (from matplotlib>=3.0.0->mlxtend) (2.8.2)\n",
            "Requirement already satisfied: pytz>=2020.1 in /usr/local/lib/python3.10/dist-packages (from pandas>=0.24.2->mlxtend) (2023.3.post1)\n",
            "Requirement already satisfied: threadpoolctl>=2.0.0 in /usr/local/lib/python3.10/dist-packages (from scikit-learn>=1.0.2->mlxtend) (3.2.0)\n",
            "Requirement already satisfied: six>=1.5 in /usr/local/lib/python3.10/dist-packages (from python-dateutil>=2.7->matplotlib>=3.0.0->mlxtend) (1.16.0)\n"
          ]
        }
      ]
    },
    {
      "cell_type": "code",
      "execution_count": 3,
      "metadata": {
        "id": "mZoDA3zbNsCO"
      },
      "outputs": [],
      "source": [
        "import numpy as np\n",
        "import pandas as pd\n",
        "import seaborn as sns\n",
        "import matplotlib.pyplot as plt\n",
        "from sklearn.model_selection import train_test_split\n",
        "from sklearn.feature_extraction.text import CountVectorizer\n",
        "from sklearn.linear_model import LinearRegression\n",
        "from keras.preprocessing.sequence import pad_sequences\n",
        "\n",
        "\n",
        "from collections import Counter\n",
        "import nltk\n",
        "import seaborn as sns\n",
        "import string\n",
        "from nltk.corpus import stopwords\n",
        "import re\n",
        "\n",
        "import re\n",
        "\n",
        "from keras.preprocessing.text import Tokenizer\n",
        "from keras.preprocessing.sequence import pad_sequences\n",
        "\n",
        "from keras.models import Sequential\n",
        "from keras.layers import Dense\n",
        "from keras.backend import eval\n",
        "from keras.optimizers import Adam\n",
        "from keras.layers import LSTM\n",
        "\n",
        "from keras.layers import Dropout\n",
        "\n",
        "from sklearn import metrics"
      ]
    },
    {
      "cell_type": "code",
      "source": [
        "from google.colab import drive\n",
        "drive.mount('/content/drive')\n",
        "df = pd.read_excel('/content/drive/MyDrive/new_flipkart_labels.xlsx')\n",
        "df.head()"
      ],
      "metadata": {
        "colab": {
          "base_uri": "https://localhost:8080/",
          "height": 223
        },
        "id": "uILowOywN9Ap",
        "outputId": "6e1e5bd1-297f-4df9-90fb-e4142056d626"
      },
      "execution_count": 5,
      "outputs": [
        {
          "output_type": "stream",
          "name": "stdout",
          "text": [
            "Mounted at /content/drive\n"
          ]
        },
        {
          "output_type": "execute_result",
          "data": {
            "text/plain": [
              "   Unnamed: 0                                             review  \\\n",
              "0           0   more flexible bass is very high sound clarity...   \n",
              "1           1     super sound and good looking i like that prize   \n",
              "2           2  very much satisfied with the device at this pr...   \n",
              "3           3  nice headphone bass was very good and sound is...   \n",
              "4           4  sound quality super battery backup super quali...   \n",
              "\n",
              "                                         review_lemm  \\\n",
              "0    flexible bass high sound clarity good batter...   \n",
              "1                   super sound good look like prize   \n",
              "2  satisfied device price point awesome brand des...   \n",
              "3  nice headphone bass good sound clear purchase ...   \n",
              "4  sound quality super battery backup super quali...   \n",
              "\n",
              "                                              scores  compound_score label  \n",
              "0  {'neg': 0.092, 'neu': 0.528, 'pos': 0.38, 'com...          0.8934   pos  \n",
              "1  {'neg': 0.0, 'neu': 0.137, 'pos': 0.863, 'comp...          0.9118   pos  \n",
              "2  {'neg': 0.0, 'neu': 0.535, 'pos': 0.465, 'comp...          0.9590   pos  \n",
              "3  {'neg': 0.065, 'neu': 0.529, 'pos': 0.406, 'co...          0.8910   pos  \n",
              "4  {'neg': 0.0, 'neu': 0.308, 'pos': 0.692, 'comp...          0.9584   pos  "
            ],
            "text/html": [
              "\n",
              "  <div id=\"df-8189b50b-6364-4a6d-9cb7-24cfac1c88f6\" class=\"colab-df-container\">\n",
              "    <div>\n",
              "<style scoped>\n",
              "    .dataframe tbody tr th:only-of-type {\n",
              "        vertical-align: middle;\n",
              "    }\n",
              "\n",
              "    .dataframe tbody tr th {\n",
              "        vertical-align: top;\n",
              "    }\n",
              "\n",
              "    .dataframe thead th {\n",
              "        text-align: right;\n",
              "    }\n",
              "</style>\n",
              "<table border=\"1\" class=\"dataframe\">\n",
              "  <thead>\n",
              "    <tr style=\"text-align: right;\">\n",
              "      <th></th>\n",
              "      <th>Unnamed: 0</th>\n",
              "      <th>review</th>\n",
              "      <th>review_lemm</th>\n",
              "      <th>scores</th>\n",
              "      <th>compound_score</th>\n",
              "      <th>label</th>\n",
              "    </tr>\n",
              "  </thead>\n",
              "  <tbody>\n",
              "    <tr>\n",
              "      <th>0</th>\n",
              "      <td>0</td>\n",
              "      <td>more flexible bass is very high sound clarity...</td>\n",
              "      <td>flexible bass high sound clarity good batter...</td>\n",
              "      <td>{'neg': 0.092, 'neu': 0.528, 'pos': 0.38, 'com...</td>\n",
              "      <td>0.8934</td>\n",
              "      <td>pos</td>\n",
              "    </tr>\n",
              "    <tr>\n",
              "      <th>1</th>\n",
              "      <td>1</td>\n",
              "      <td>super sound and good looking i like that prize</td>\n",
              "      <td>super sound good look like prize</td>\n",
              "      <td>{'neg': 0.0, 'neu': 0.137, 'pos': 0.863, 'comp...</td>\n",
              "      <td>0.9118</td>\n",
              "      <td>pos</td>\n",
              "    </tr>\n",
              "    <tr>\n",
              "      <th>2</th>\n",
              "      <td>2</td>\n",
              "      <td>very much satisfied with the device at this pr...</td>\n",
              "      <td>satisfied device price point awesome brand des...</td>\n",
              "      <td>{'neg': 0.0, 'neu': 0.535, 'pos': 0.465, 'comp...</td>\n",
              "      <td>0.9590</td>\n",
              "      <td>pos</td>\n",
              "    </tr>\n",
              "    <tr>\n",
              "      <th>3</th>\n",
              "      <td>3</td>\n",
              "      <td>nice headphone bass was very good and sound is...</td>\n",
              "      <td>nice headphone bass good sound clear purchase ...</td>\n",
              "      <td>{'neg': 0.065, 'neu': 0.529, 'pos': 0.406, 'co...</td>\n",
              "      <td>0.8910</td>\n",
              "      <td>pos</td>\n",
              "    </tr>\n",
              "    <tr>\n",
              "      <th>4</th>\n",
              "      <td>4</td>\n",
              "      <td>sound quality super battery backup super quali...</td>\n",
              "      <td>sound quality super battery backup super quali...</td>\n",
              "      <td>{'neg': 0.0, 'neu': 0.308, 'pos': 0.692, 'comp...</td>\n",
              "      <td>0.9584</td>\n",
              "      <td>pos</td>\n",
              "    </tr>\n",
              "  </tbody>\n",
              "</table>\n",
              "</div>\n",
              "    <div class=\"colab-df-buttons\">\n",
              "\n",
              "  <div class=\"colab-df-container\">\n",
              "    <button class=\"colab-df-convert\" onclick=\"convertToInteractive('df-8189b50b-6364-4a6d-9cb7-24cfac1c88f6')\"\n",
              "            title=\"Convert this dataframe to an interactive table.\"\n",
              "            style=\"display:none;\">\n",
              "\n",
              "  <svg xmlns=\"http://www.w3.org/2000/svg\" height=\"24px\" viewBox=\"0 -960 960 960\">\n",
              "    <path d=\"M120-120v-720h720v720H120Zm60-500h600v-160H180v160Zm220 220h160v-160H400v160Zm0 220h160v-160H400v160ZM180-400h160v-160H180v160Zm440 0h160v-160H620v160ZM180-180h160v-160H180v160Zm440 0h160v-160H620v160Z\"/>\n",
              "  </svg>\n",
              "    </button>\n",
              "\n",
              "  <style>\n",
              "    .colab-df-container {\n",
              "      display:flex;\n",
              "      gap: 12px;\n",
              "    }\n",
              "\n",
              "    .colab-df-convert {\n",
              "      background-color: #E8F0FE;\n",
              "      border: none;\n",
              "      border-radius: 50%;\n",
              "      cursor: pointer;\n",
              "      display: none;\n",
              "      fill: #1967D2;\n",
              "      height: 32px;\n",
              "      padding: 0 0 0 0;\n",
              "      width: 32px;\n",
              "    }\n",
              "\n",
              "    .colab-df-convert:hover {\n",
              "      background-color: #E2EBFA;\n",
              "      box-shadow: 0px 1px 2px rgba(60, 64, 67, 0.3), 0px 1px 3px 1px rgba(60, 64, 67, 0.15);\n",
              "      fill: #174EA6;\n",
              "    }\n",
              "\n",
              "    .colab-df-buttons div {\n",
              "      margin-bottom: 4px;\n",
              "    }\n",
              "\n",
              "    [theme=dark] .colab-df-convert {\n",
              "      background-color: #3B4455;\n",
              "      fill: #D2E3FC;\n",
              "    }\n",
              "\n",
              "    [theme=dark] .colab-df-convert:hover {\n",
              "      background-color: #434B5C;\n",
              "      box-shadow: 0px 1px 3px 1px rgba(0, 0, 0, 0.15);\n",
              "      filter: drop-shadow(0px 1px 2px rgba(0, 0, 0, 0.3));\n",
              "      fill: #FFFFFF;\n",
              "    }\n",
              "  </style>\n",
              "\n",
              "    <script>\n",
              "      const buttonEl =\n",
              "        document.querySelector('#df-8189b50b-6364-4a6d-9cb7-24cfac1c88f6 button.colab-df-convert');\n",
              "      buttonEl.style.display =\n",
              "        google.colab.kernel.accessAllowed ? 'block' : 'none';\n",
              "\n",
              "      async function convertToInteractive(key) {\n",
              "        const element = document.querySelector('#df-8189b50b-6364-4a6d-9cb7-24cfac1c88f6');\n",
              "        const dataTable =\n",
              "          await google.colab.kernel.invokeFunction('convertToInteractive',\n",
              "                                                    [key], {});\n",
              "        if (!dataTable) return;\n",
              "\n",
              "        const docLinkHtml = 'Like what you see? Visit the ' +\n",
              "          '<a target=\"_blank\" href=https://colab.research.google.com/notebooks/data_table.ipynb>data table notebook</a>'\n",
              "          + ' to learn more about interactive tables.';\n",
              "        element.innerHTML = '';\n",
              "        dataTable['output_type'] = 'display_data';\n",
              "        await google.colab.output.renderOutput(dataTable, element);\n",
              "        const docLink = document.createElement('div');\n",
              "        docLink.innerHTML = docLinkHtml;\n",
              "        element.appendChild(docLink);\n",
              "      }\n",
              "    </script>\n",
              "  </div>\n",
              "\n",
              "\n",
              "<div id=\"df-0d7fa6a7-57a8-4597-bd28-b4cb8837d47b\">\n",
              "  <button class=\"colab-df-quickchart\" onclick=\"quickchart('df-0d7fa6a7-57a8-4597-bd28-b4cb8837d47b')\"\n",
              "            title=\"Suggest charts.\"\n",
              "            style=\"display:none;\">\n",
              "\n",
              "<svg xmlns=\"http://www.w3.org/2000/svg\" height=\"24px\"viewBox=\"0 0 24 24\"\n",
              "     width=\"24px\">\n",
              "    <g>\n",
              "        <path d=\"M19 3H5c-1.1 0-2 .9-2 2v14c0 1.1.9 2 2 2h14c1.1 0 2-.9 2-2V5c0-1.1-.9-2-2-2zM9 17H7v-7h2v7zm4 0h-2V7h2v10zm4 0h-2v-4h2v4z\"/>\n",
              "    </g>\n",
              "</svg>\n",
              "  </button>\n",
              "\n",
              "<style>\n",
              "  .colab-df-quickchart {\n",
              "      --bg-color: #E8F0FE;\n",
              "      --fill-color: #1967D2;\n",
              "      --hover-bg-color: #E2EBFA;\n",
              "      --hover-fill-color: #174EA6;\n",
              "      --disabled-fill-color: #AAA;\n",
              "      --disabled-bg-color: #DDD;\n",
              "  }\n",
              "\n",
              "  [theme=dark] .colab-df-quickchart {\n",
              "      --bg-color: #3B4455;\n",
              "      --fill-color: #D2E3FC;\n",
              "      --hover-bg-color: #434B5C;\n",
              "      --hover-fill-color: #FFFFFF;\n",
              "      --disabled-bg-color: #3B4455;\n",
              "      --disabled-fill-color: #666;\n",
              "  }\n",
              "\n",
              "  .colab-df-quickchart {\n",
              "    background-color: var(--bg-color);\n",
              "    border: none;\n",
              "    border-radius: 50%;\n",
              "    cursor: pointer;\n",
              "    display: none;\n",
              "    fill: var(--fill-color);\n",
              "    height: 32px;\n",
              "    padding: 0;\n",
              "    width: 32px;\n",
              "  }\n",
              "\n",
              "  .colab-df-quickchart:hover {\n",
              "    background-color: var(--hover-bg-color);\n",
              "    box-shadow: 0 1px 2px rgba(60, 64, 67, 0.3), 0 1px 3px 1px rgba(60, 64, 67, 0.15);\n",
              "    fill: var(--button-hover-fill-color);\n",
              "  }\n",
              "\n",
              "  .colab-df-quickchart-complete:disabled,\n",
              "  .colab-df-quickchart-complete:disabled:hover {\n",
              "    background-color: var(--disabled-bg-color);\n",
              "    fill: var(--disabled-fill-color);\n",
              "    box-shadow: none;\n",
              "  }\n",
              "\n",
              "  .colab-df-spinner {\n",
              "    border: 2px solid var(--fill-color);\n",
              "    border-color: transparent;\n",
              "    border-bottom-color: var(--fill-color);\n",
              "    animation:\n",
              "      spin 1s steps(1) infinite;\n",
              "  }\n",
              "\n",
              "  @keyframes spin {\n",
              "    0% {\n",
              "      border-color: transparent;\n",
              "      border-bottom-color: var(--fill-color);\n",
              "      border-left-color: var(--fill-color);\n",
              "    }\n",
              "    20% {\n",
              "      border-color: transparent;\n",
              "      border-left-color: var(--fill-color);\n",
              "      border-top-color: var(--fill-color);\n",
              "    }\n",
              "    30% {\n",
              "      border-color: transparent;\n",
              "      border-left-color: var(--fill-color);\n",
              "      border-top-color: var(--fill-color);\n",
              "      border-right-color: var(--fill-color);\n",
              "    }\n",
              "    40% {\n",
              "      border-color: transparent;\n",
              "      border-right-color: var(--fill-color);\n",
              "      border-top-color: var(--fill-color);\n",
              "    }\n",
              "    60% {\n",
              "      border-color: transparent;\n",
              "      border-right-color: var(--fill-color);\n",
              "    }\n",
              "    80% {\n",
              "      border-color: transparent;\n",
              "      border-right-color: var(--fill-color);\n",
              "      border-bottom-color: var(--fill-color);\n",
              "    }\n",
              "    90% {\n",
              "      border-color: transparent;\n",
              "      border-bottom-color: var(--fill-color);\n",
              "    }\n",
              "  }\n",
              "</style>\n",
              "\n",
              "  <script>\n",
              "    async function quickchart(key) {\n",
              "      const quickchartButtonEl =\n",
              "        document.querySelector('#' + key + ' button');\n",
              "      quickchartButtonEl.disabled = true;  // To prevent multiple clicks.\n",
              "      quickchartButtonEl.classList.add('colab-df-spinner');\n",
              "      try {\n",
              "        const charts = await google.colab.kernel.invokeFunction(\n",
              "            'suggestCharts', [key], {});\n",
              "      } catch (error) {\n",
              "        console.error('Error during call to suggestCharts:', error);\n",
              "      }\n",
              "      quickchartButtonEl.classList.remove('colab-df-spinner');\n",
              "      quickchartButtonEl.classList.add('colab-df-quickchart-complete');\n",
              "    }\n",
              "    (() => {\n",
              "      let quickchartButtonEl =\n",
              "        document.querySelector('#df-0d7fa6a7-57a8-4597-bd28-b4cb8837d47b button');\n",
              "      quickchartButtonEl.style.display =\n",
              "        google.colab.kernel.accessAllowed ? 'block' : 'none';\n",
              "    })();\n",
              "  </script>\n",
              "</div>\n",
              "    </div>\n",
              "  </div>\n"
            ]
          },
          "metadata": {},
          "execution_count": 5
        }
      ]
    },
    {
      "cell_type": "code",
      "source": [
        "from sklearn.model_selection import train_test_split\n",
        "X = df['review_lemm']\n",
        "y = df['label']\n",
        "X_train, X_test, y_train, y_test = train_test_split(X, y, test_size=0.33, random_state=42)"
      ],
      "metadata": {
        "id": "zhtH6tAcUDiw"
      },
      "execution_count": 18,
      "outputs": []
    },
    {
      "cell_type": "code",
      "source": [
        "from xgboost import XGBClassifier"
      ],
      "metadata": {
        "id": "5lsDAZUfORRb"
      },
      "execution_count": 11,
      "outputs": []
    },
    {
      "cell_type": "code",
      "source": [
        "# imporing pipeline and model libraries\n",
        "from sklearn.pipeline import Pipeline\n",
        "from sklearn.feature_extraction.text import TfidfVectorizer"
      ],
      "metadata": {
        "id": "nDr8QnH9TVv8"
      },
      "execution_count": 13,
      "outputs": []
    },
    {
      "cell_type": "code",
      "source": [
        "from sklearn.naive_bayes import MultinomialNB\n",
        "from sklearn.svm import LinearSVC\n",
        "\n",
        "# Naïve Bayes Pipeline:\n",
        "text_clf_Mnb = Pipeline([('tfidf', TfidfVectorizer(ngram_range=(1, 1))),\n",
        "                     ('clf', MultinomialNB()),])\n",
        "\n",
        "# Linear SVC Pipeline:\n",
        "text_clf_lsvc = Pipeline([('tfidf', TfidfVectorizer(ngram_range=(1, 1))),\n",
        "                     ('clf', LinearSVC()),])"
      ],
      "metadata": {
        "id": "08CkFO2iThOE"
      },
      "execution_count": 14,
      "outputs": []
    },
    {
      "cell_type": "code",
      "source": [
        "text_clf_xgb = Pipeline([('tfidf', TfidfVectorizer(ngram_range=(1,1))),\n",
        "                     ('clf', XGBClassifier()),])"
      ],
      "metadata": {
        "id": "nfpIJuW_TTir"
      },
      "execution_count": 15,
      "outputs": []
    },
    {
      "cell_type": "code",
      "source": [
        "text_clf_xgb"
      ],
      "metadata": {
        "colab": {
          "base_uri": "https://localhost:8080/",
          "height": 545
        },
        "id": "5jY49Op_Tz6I",
        "outputId": "f10a354d-9a9e-4d04-dbd4-bce50c266e06"
      },
      "execution_count": 16,
      "outputs": [
        {
          "output_type": "execute_result",
          "data": {
            "text/plain": [
              "Pipeline(steps=[('tfidf', TfidfVectorizer()),\n",
              "                ('clf',\n",
              "                 XGBClassifier(base_score=None, booster=None, callbacks=None,\n",
              "                               colsample_bylevel=None, colsample_bynode=None,\n",
              "                               colsample_bytree=None, device=None,\n",
              "                               early_stopping_rounds=None,\n",
              "                               enable_categorical=False, eval_metric=None,\n",
              "                               feature_types=None, gamma=None, grow_policy=None,\n",
              "                               importance_type=None,\n",
              "                               interaction_constraints=None, learning_rate=None,\n",
              "                               max_bin=None, max_cat_threshold=None,\n",
              "                               max_cat_to_onehot=None, max_delta_step=None,\n",
              "                               max_depth=None, max_leaves=None,\n",
              "                               min_child_weight=None, missing=nan,\n",
              "                               monotone_constraints=None, multi_strategy=None,\n",
              "                               n_estimators=None, n_jobs=None,\n",
              "                               num_parallel_tree=None, random_state=None, ...))])"
            ],
            "text/html": [
              "<style>#sk-container-id-1 {color: black;background-color: white;}#sk-container-id-1 pre{padding: 0;}#sk-container-id-1 div.sk-toggleable {background-color: white;}#sk-container-id-1 label.sk-toggleable__label {cursor: pointer;display: block;width: 100%;margin-bottom: 0;padding: 0.3em;box-sizing: border-box;text-align: center;}#sk-container-id-1 label.sk-toggleable__label-arrow:before {content: \"▸\";float: left;margin-right: 0.25em;color: #696969;}#sk-container-id-1 label.sk-toggleable__label-arrow:hover:before {color: black;}#sk-container-id-1 div.sk-estimator:hover label.sk-toggleable__label-arrow:before {color: black;}#sk-container-id-1 div.sk-toggleable__content {max-height: 0;max-width: 0;overflow: hidden;text-align: left;background-color: #f0f8ff;}#sk-container-id-1 div.sk-toggleable__content pre {margin: 0.2em;color: black;border-radius: 0.25em;background-color: #f0f8ff;}#sk-container-id-1 input.sk-toggleable__control:checked~div.sk-toggleable__content {max-height: 200px;max-width: 100%;overflow: auto;}#sk-container-id-1 input.sk-toggleable__control:checked~label.sk-toggleable__label-arrow:before {content: \"▾\";}#sk-container-id-1 div.sk-estimator input.sk-toggleable__control:checked~label.sk-toggleable__label {background-color: #d4ebff;}#sk-container-id-1 div.sk-label input.sk-toggleable__control:checked~label.sk-toggleable__label {background-color: #d4ebff;}#sk-container-id-1 input.sk-hidden--visually {border: 0;clip: rect(1px 1px 1px 1px);clip: rect(1px, 1px, 1px, 1px);height: 1px;margin: -1px;overflow: hidden;padding: 0;position: absolute;width: 1px;}#sk-container-id-1 div.sk-estimator {font-family: monospace;background-color: #f0f8ff;border: 1px dotted black;border-radius: 0.25em;box-sizing: border-box;margin-bottom: 0.5em;}#sk-container-id-1 div.sk-estimator:hover {background-color: #d4ebff;}#sk-container-id-1 div.sk-parallel-item::after {content: \"\";width: 100%;border-bottom: 1px solid gray;flex-grow: 1;}#sk-container-id-1 div.sk-label:hover label.sk-toggleable__label {background-color: #d4ebff;}#sk-container-id-1 div.sk-serial::before {content: \"\";position: absolute;border-left: 1px solid gray;box-sizing: border-box;top: 0;bottom: 0;left: 50%;z-index: 0;}#sk-container-id-1 div.sk-serial {display: flex;flex-direction: column;align-items: center;background-color: white;padding-right: 0.2em;padding-left: 0.2em;position: relative;}#sk-container-id-1 div.sk-item {position: relative;z-index: 1;}#sk-container-id-1 div.sk-parallel {display: flex;align-items: stretch;justify-content: center;background-color: white;position: relative;}#sk-container-id-1 div.sk-item::before, #sk-container-id-1 div.sk-parallel-item::before {content: \"\";position: absolute;border-left: 1px solid gray;box-sizing: border-box;top: 0;bottom: 0;left: 50%;z-index: -1;}#sk-container-id-1 div.sk-parallel-item {display: flex;flex-direction: column;z-index: 1;position: relative;background-color: white;}#sk-container-id-1 div.sk-parallel-item:first-child::after {align-self: flex-end;width: 50%;}#sk-container-id-1 div.sk-parallel-item:last-child::after {align-self: flex-start;width: 50%;}#sk-container-id-1 div.sk-parallel-item:only-child::after {width: 0;}#sk-container-id-1 div.sk-dashed-wrapped {border: 1px dashed gray;margin: 0 0.4em 0.5em 0.4em;box-sizing: border-box;padding-bottom: 0.4em;background-color: white;}#sk-container-id-1 div.sk-label label {font-family: monospace;font-weight: bold;display: inline-block;line-height: 1.2em;}#sk-container-id-1 div.sk-label-container {text-align: center;}#sk-container-id-1 div.sk-container {/* jupyter's `normalize.less` sets `[hidden] { display: none; }` but bootstrap.min.css set `[hidden] { display: none !important; }` so we also need the `!important` here to be able to override the default hidden behavior on the sphinx rendered scikit-learn.org. See: https://github.com/scikit-learn/scikit-learn/issues/21755 */display: inline-block !important;position: relative;}#sk-container-id-1 div.sk-text-repr-fallback {display: none;}</style><div id=\"sk-container-id-1\" class=\"sk-top-container\"><div class=\"sk-text-repr-fallback\"><pre>Pipeline(steps=[(&#x27;tfidf&#x27;, TfidfVectorizer()),\n",
              "                (&#x27;clf&#x27;,\n",
              "                 XGBClassifier(base_score=None, booster=None, callbacks=None,\n",
              "                               colsample_bylevel=None, colsample_bynode=None,\n",
              "                               colsample_bytree=None, device=None,\n",
              "                               early_stopping_rounds=None,\n",
              "                               enable_categorical=False, eval_metric=None,\n",
              "                               feature_types=None, gamma=None, grow_policy=None,\n",
              "                               importance_type=None,\n",
              "                               interaction_constraints=None, learning_rate=None,\n",
              "                               max_bin=None, max_cat_threshold=None,\n",
              "                               max_cat_to_onehot=None, max_delta_step=None,\n",
              "                               max_depth=None, max_leaves=None,\n",
              "                               min_child_weight=None, missing=nan,\n",
              "                               monotone_constraints=None, multi_strategy=None,\n",
              "                               n_estimators=None, n_jobs=None,\n",
              "                               num_parallel_tree=None, random_state=None, ...))])</pre><b>In a Jupyter environment, please rerun this cell to show the HTML representation or trust the notebook. <br />On GitHub, the HTML representation is unable to render, please try loading this page with nbviewer.org.</b></div><div class=\"sk-container\" hidden><div class=\"sk-item sk-dashed-wrapped\"><div class=\"sk-label-container\"><div class=\"sk-label sk-toggleable\"><input class=\"sk-toggleable__control sk-hidden--visually\" id=\"sk-estimator-id-1\" type=\"checkbox\" ><label for=\"sk-estimator-id-1\" class=\"sk-toggleable__label sk-toggleable__label-arrow\">Pipeline</label><div class=\"sk-toggleable__content\"><pre>Pipeline(steps=[(&#x27;tfidf&#x27;, TfidfVectorizer()),\n",
              "                (&#x27;clf&#x27;,\n",
              "                 XGBClassifier(base_score=None, booster=None, callbacks=None,\n",
              "                               colsample_bylevel=None, colsample_bynode=None,\n",
              "                               colsample_bytree=None, device=None,\n",
              "                               early_stopping_rounds=None,\n",
              "                               enable_categorical=False, eval_metric=None,\n",
              "                               feature_types=None, gamma=None, grow_policy=None,\n",
              "                               importance_type=None,\n",
              "                               interaction_constraints=None, learning_rate=None,\n",
              "                               max_bin=None, max_cat_threshold=None,\n",
              "                               max_cat_to_onehot=None, max_delta_step=None,\n",
              "                               max_depth=None, max_leaves=None,\n",
              "                               min_child_weight=None, missing=nan,\n",
              "                               monotone_constraints=None, multi_strategy=None,\n",
              "                               n_estimators=None, n_jobs=None,\n",
              "                               num_parallel_tree=None, random_state=None, ...))])</pre></div></div></div><div class=\"sk-serial\"><div class=\"sk-item\"><div class=\"sk-estimator sk-toggleable\"><input class=\"sk-toggleable__control sk-hidden--visually\" id=\"sk-estimator-id-2\" type=\"checkbox\" ><label for=\"sk-estimator-id-2\" class=\"sk-toggleable__label sk-toggleable__label-arrow\">TfidfVectorizer</label><div class=\"sk-toggleable__content\"><pre>TfidfVectorizer()</pre></div></div></div><div class=\"sk-item\"><div class=\"sk-estimator sk-toggleable\"><input class=\"sk-toggleable__control sk-hidden--visually\" id=\"sk-estimator-id-3\" type=\"checkbox\" ><label for=\"sk-estimator-id-3\" class=\"sk-toggleable__label sk-toggleable__label-arrow\">XGBClassifier</label><div class=\"sk-toggleable__content\"><pre>XGBClassifier(base_score=None, booster=None, callbacks=None,\n",
              "              colsample_bylevel=None, colsample_bynode=None,\n",
              "              colsample_bytree=None, device=None, early_stopping_rounds=None,\n",
              "              enable_categorical=False, eval_metric=None, feature_types=None,\n",
              "              gamma=None, grow_policy=None, importance_type=None,\n",
              "              interaction_constraints=None, learning_rate=None, max_bin=None,\n",
              "              max_cat_threshold=None, max_cat_to_onehot=None,\n",
              "              max_delta_step=None, max_depth=None, max_leaves=None,\n",
              "              min_child_weight=None, missing=nan, monotone_constraints=None,\n",
              "              multi_strategy=None, n_estimators=None, n_jobs=None,\n",
              "              num_parallel_tree=None, random_state=None, ...)</pre></div></div></div></div></div></div></div>"
            ]
          },
          "metadata": {},
          "execution_count": 16
        }
      ]
    },
    {
      "cell_type": "code",
      "source": [
        "from sklearn.preprocessing import LabelEncoder\n",
        "le = LabelEncoder()\n",
        "y_train = le.fit_transform(y_train)\n",
        "y_test = le.fit_transform(y_test)"
      ],
      "metadata": {
        "id": "RmX0bYDmT45l"
      },
      "execution_count": 19,
      "outputs": []
    },
    {
      "cell_type": "code",
      "source": [
        "text_clf_xgb.fit(X_train, y_train)"
      ],
      "metadata": {
        "colab": {
          "base_uri": "https://localhost:8080/",
          "height": 325
        },
        "id": "7q8jn9K9T7xM",
        "outputId": "1e95720a-e330-456c-ff3b-c2231d97acb7"
      },
      "execution_count": 20,
      "outputs": [
        {
          "output_type": "execute_result",
          "data": {
            "text/plain": [
              "Pipeline(steps=[('tfidf', TfidfVectorizer()),\n",
              "                ('clf',\n",
              "                 XGBClassifier(base_score=None, booster=None, callbacks=None,\n",
              "                               colsample_bylevel=None, colsample_bynode=None,\n",
              "                               colsample_bytree=None, device=None,\n",
              "                               early_stopping_rounds=None,\n",
              "                               enable_categorical=False, eval_metric=None,\n",
              "                               feature_types=None, gamma=None, grow_policy=None,\n",
              "                               importance_type=None,\n",
              "                               interaction_constraints=None, learning_rate=None,\n",
              "                               max_bin=None, max_cat_threshold=None,\n",
              "                               max_cat_to_onehot=None, max_delta_step=None,\n",
              "                               max_depth=None, max_leaves=None,\n",
              "                               min_child_weight=None, missing=nan,\n",
              "                               monotone_constraints=None, multi_strategy=None,\n",
              "                               n_estimators=None, n_jobs=None,\n",
              "                               num_parallel_tree=None,\n",
              "                               objective='multi:softprob', ...))])"
            ],
            "text/html": [
              "<style>#sk-container-id-2 {color: black;background-color: white;}#sk-container-id-2 pre{padding: 0;}#sk-container-id-2 div.sk-toggleable {background-color: white;}#sk-container-id-2 label.sk-toggleable__label {cursor: pointer;display: block;width: 100%;margin-bottom: 0;padding: 0.3em;box-sizing: border-box;text-align: center;}#sk-container-id-2 label.sk-toggleable__label-arrow:before {content: \"▸\";float: left;margin-right: 0.25em;color: #696969;}#sk-container-id-2 label.sk-toggleable__label-arrow:hover:before {color: black;}#sk-container-id-2 div.sk-estimator:hover label.sk-toggleable__label-arrow:before {color: black;}#sk-container-id-2 div.sk-toggleable__content {max-height: 0;max-width: 0;overflow: hidden;text-align: left;background-color: #f0f8ff;}#sk-container-id-2 div.sk-toggleable__content pre {margin: 0.2em;color: black;border-radius: 0.25em;background-color: #f0f8ff;}#sk-container-id-2 input.sk-toggleable__control:checked~div.sk-toggleable__content {max-height: 200px;max-width: 100%;overflow: auto;}#sk-container-id-2 input.sk-toggleable__control:checked~label.sk-toggleable__label-arrow:before {content: \"▾\";}#sk-container-id-2 div.sk-estimator input.sk-toggleable__control:checked~label.sk-toggleable__label {background-color: #d4ebff;}#sk-container-id-2 div.sk-label input.sk-toggleable__control:checked~label.sk-toggleable__label {background-color: #d4ebff;}#sk-container-id-2 input.sk-hidden--visually {border: 0;clip: rect(1px 1px 1px 1px);clip: rect(1px, 1px, 1px, 1px);height: 1px;margin: -1px;overflow: hidden;padding: 0;position: absolute;width: 1px;}#sk-container-id-2 div.sk-estimator {font-family: monospace;background-color: #f0f8ff;border: 1px dotted black;border-radius: 0.25em;box-sizing: border-box;margin-bottom: 0.5em;}#sk-container-id-2 div.sk-estimator:hover {background-color: #d4ebff;}#sk-container-id-2 div.sk-parallel-item::after {content: \"\";width: 100%;border-bottom: 1px solid gray;flex-grow: 1;}#sk-container-id-2 div.sk-label:hover label.sk-toggleable__label {background-color: #d4ebff;}#sk-container-id-2 div.sk-serial::before {content: \"\";position: absolute;border-left: 1px solid gray;box-sizing: border-box;top: 0;bottom: 0;left: 50%;z-index: 0;}#sk-container-id-2 div.sk-serial {display: flex;flex-direction: column;align-items: center;background-color: white;padding-right: 0.2em;padding-left: 0.2em;position: relative;}#sk-container-id-2 div.sk-item {position: relative;z-index: 1;}#sk-container-id-2 div.sk-parallel {display: flex;align-items: stretch;justify-content: center;background-color: white;position: relative;}#sk-container-id-2 div.sk-item::before, #sk-container-id-2 div.sk-parallel-item::before {content: \"\";position: absolute;border-left: 1px solid gray;box-sizing: border-box;top: 0;bottom: 0;left: 50%;z-index: -1;}#sk-container-id-2 div.sk-parallel-item {display: flex;flex-direction: column;z-index: 1;position: relative;background-color: white;}#sk-container-id-2 div.sk-parallel-item:first-child::after {align-self: flex-end;width: 50%;}#sk-container-id-2 div.sk-parallel-item:last-child::after {align-self: flex-start;width: 50%;}#sk-container-id-2 div.sk-parallel-item:only-child::after {width: 0;}#sk-container-id-2 div.sk-dashed-wrapped {border: 1px dashed gray;margin: 0 0.4em 0.5em 0.4em;box-sizing: border-box;padding-bottom: 0.4em;background-color: white;}#sk-container-id-2 div.sk-label label {font-family: monospace;font-weight: bold;display: inline-block;line-height: 1.2em;}#sk-container-id-2 div.sk-label-container {text-align: center;}#sk-container-id-2 div.sk-container {/* jupyter's `normalize.less` sets `[hidden] { display: none; }` but bootstrap.min.css set `[hidden] { display: none !important; }` so we also need the `!important` here to be able to override the default hidden behavior on the sphinx rendered scikit-learn.org. See: https://github.com/scikit-learn/scikit-learn/issues/21755 */display: inline-block !important;position: relative;}#sk-container-id-2 div.sk-text-repr-fallback {display: none;}</style><div id=\"sk-container-id-2\" class=\"sk-top-container\"><div class=\"sk-text-repr-fallback\"><pre>Pipeline(steps=[(&#x27;tfidf&#x27;, TfidfVectorizer()),\n",
              "                (&#x27;clf&#x27;,\n",
              "                 XGBClassifier(base_score=None, booster=None, callbacks=None,\n",
              "                               colsample_bylevel=None, colsample_bynode=None,\n",
              "                               colsample_bytree=None, device=None,\n",
              "                               early_stopping_rounds=None,\n",
              "                               enable_categorical=False, eval_metric=None,\n",
              "                               feature_types=None, gamma=None, grow_policy=None,\n",
              "                               importance_type=None,\n",
              "                               interaction_constraints=None, learning_rate=None,\n",
              "                               max_bin=None, max_cat_threshold=None,\n",
              "                               max_cat_to_onehot=None, max_delta_step=None,\n",
              "                               max_depth=None, max_leaves=None,\n",
              "                               min_child_weight=None, missing=nan,\n",
              "                               monotone_constraints=None, multi_strategy=None,\n",
              "                               n_estimators=None, n_jobs=None,\n",
              "                               num_parallel_tree=None,\n",
              "                               objective=&#x27;multi:softprob&#x27;, ...))])</pre><b>In a Jupyter environment, please rerun this cell to show the HTML representation or trust the notebook. <br />On GitHub, the HTML representation is unable to render, please try loading this page with nbviewer.org.</b></div><div class=\"sk-container\" hidden><div class=\"sk-item sk-dashed-wrapped\"><div class=\"sk-label-container\"><div class=\"sk-label sk-toggleable\"><input class=\"sk-toggleable__control sk-hidden--visually\" id=\"sk-estimator-id-4\" type=\"checkbox\" ><label for=\"sk-estimator-id-4\" class=\"sk-toggleable__label sk-toggleable__label-arrow\">Pipeline</label><div class=\"sk-toggleable__content\"><pre>Pipeline(steps=[(&#x27;tfidf&#x27;, TfidfVectorizer()),\n",
              "                (&#x27;clf&#x27;,\n",
              "                 XGBClassifier(base_score=None, booster=None, callbacks=None,\n",
              "                               colsample_bylevel=None, colsample_bynode=None,\n",
              "                               colsample_bytree=None, device=None,\n",
              "                               early_stopping_rounds=None,\n",
              "                               enable_categorical=False, eval_metric=None,\n",
              "                               feature_types=None, gamma=None, grow_policy=None,\n",
              "                               importance_type=None,\n",
              "                               interaction_constraints=None, learning_rate=None,\n",
              "                               max_bin=None, max_cat_threshold=None,\n",
              "                               max_cat_to_onehot=None, max_delta_step=None,\n",
              "                               max_depth=None, max_leaves=None,\n",
              "                               min_child_weight=None, missing=nan,\n",
              "                               monotone_constraints=None, multi_strategy=None,\n",
              "                               n_estimators=None, n_jobs=None,\n",
              "                               num_parallel_tree=None,\n",
              "                               objective=&#x27;multi:softprob&#x27;, ...))])</pre></div></div></div><div class=\"sk-serial\"><div class=\"sk-item\"><div class=\"sk-estimator sk-toggleable\"><input class=\"sk-toggleable__control sk-hidden--visually\" id=\"sk-estimator-id-5\" type=\"checkbox\" ><label for=\"sk-estimator-id-5\" class=\"sk-toggleable__label sk-toggleable__label-arrow\">TfidfVectorizer</label><div class=\"sk-toggleable__content\"><pre>TfidfVectorizer()</pre></div></div></div><div class=\"sk-item\"><div class=\"sk-estimator sk-toggleable\"><input class=\"sk-toggleable__control sk-hidden--visually\" id=\"sk-estimator-id-6\" type=\"checkbox\" ><label for=\"sk-estimator-id-6\" class=\"sk-toggleable__label sk-toggleable__label-arrow\">XGBClassifier</label><div class=\"sk-toggleable__content\"><pre>XGBClassifier(base_score=None, booster=None, callbacks=None,\n",
              "              colsample_bylevel=None, colsample_bynode=None,\n",
              "              colsample_bytree=None, device=None, early_stopping_rounds=None,\n",
              "              enable_categorical=False, eval_metric=None, feature_types=None,\n",
              "              gamma=None, grow_policy=None, importance_type=None,\n",
              "              interaction_constraints=None, learning_rate=None, max_bin=None,\n",
              "              max_cat_threshold=None, max_cat_to_onehot=None,\n",
              "              max_delta_step=None, max_depth=None, max_leaves=None,\n",
              "              min_child_weight=None, missing=nan, monotone_constraints=None,\n",
              "              multi_strategy=None, n_estimators=None, n_jobs=None,\n",
              "              num_parallel_tree=None, objective=&#x27;multi:softprob&#x27;, ...)</pre></div></div></div></div></div></div></div>"
            ]
          },
          "metadata": {},
          "execution_count": 20
        }
      ]
    },
    {
      "cell_type": "code",
      "source": [
        "predictions = text_clf_xgb.predict(X_test)"
      ],
      "metadata": {
        "id": "aQBXvp2hUNAS"
      },
      "execution_count": 21,
      "outputs": []
    },
    {
      "cell_type": "code",
      "source": [
        "from sklearn import metrics\n",
        "print(metrics.confusion_matrix(y_test,predictions))"
      ],
      "metadata": {
        "colab": {
          "base_uri": "https://localhost:8080/"
        },
        "id": "FvsNPcubUOxX",
        "outputId": "c782bcba-b9a8-483f-e173-46a4b47170fc"
      },
      "execution_count": 22,
      "outputs": [
        {
          "output_type": "stream",
          "name": "stdout",
          "text": [
            "[[153  17  56]\n",
            " [  4 198  13]\n",
            " [ 16   7 790]]\n"
          ]
        }
      ]
    },
    {
      "cell_type": "code",
      "source": [
        "print(metrics.accuracy_score(y_test,predictions))"
      ],
      "metadata": {
        "colab": {
          "base_uri": "https://localhost:8080/"
        },
        "id": "zUUdydniURtA",
        "outputId": "b86c4298-9289-439d-c001-233c2be790ca"
      },
      "execution_count": 23,
      "outputs": [
        {
          "output_type": "stream",
          "name": "stdout",
          "text": [
            "0.9098883572567783\n"
          ]
        }
      ]
    },
    {
      "cell_type": "code",
      "source": [
        "from mlxtend.plotting import plot_learning_curves\n",
        "plot_learning_curves(X_train,y_train, X_test,y_test,text_clf_xgb, scoring='accuracy')"
      ],
      "metadata": {
        "colab": {
          "base_uri": "https://localhost:8080/",
          "height": 1000
        },
        "id": "WoPA8u5rUUt6",
        "outputId": "1592b0e5-9895-4374-93f7-43e3b5737fda"
      },
      "execution_count": 28,
      "outputs": [
        {
          "output_type": "execute_result",
          "data": {
            "text/plain": [
              "([0.9960629921259843,\n",
              "  0.9960707269155207,\n",
              "  0.9973787680209698,\n",
              "  0.9960707269155207,\n",
              "  0.997643362136685,\n",
              "  0.9954158480681073,\n",
              "  0.9949494949494949,\n",
              "  0.9931237721021611,\n",
              "  0.9921431689218682,\n",
              "  0.99057344854674],\n",
              " [0.8325358851674641,\n",
              "  0.84688995215311,\n",
              "  0.868421052631579,\n",
              "  0.8763955342902712,\n",
              "  0.879585326953748,\n",
              "  0.8907496012759171,\n",
              "  0.8995215311004785,\n",
              "  0.8995215311004785,\n",
              "  0.9035087719298246,\n",
              "  0.9098883572567783])"
            ]
          },
          "metadata": {},
          "execution_count": 28
        },
        {
          "output_type": "display_data",
          "data": {
            "text/plain": [
              "<Figure size 640x480 with 1 Axes>"
            ],
            "image/png": "[encoded data removed]"
          },
          "metadata": {}
        }
      ]
    },
    {
      "cell_type": "code",
      "source": [
        "reviews=df['review_lemm']\n",
        "df['review_lemm'] = df['review_lemm'].apply(lambda x: str(x).lower())"
      ],
      "metadata": {
        "id": "obYBtDY1UaqT"
      },
      "execution_count": 36,
      "outputs": []
    },
    {
      "cell_type": "code",
      "source": [
        "print(df.shape)"
      ],
      "metadata": {
        "colab": {
          "base_uri": "https://localhost:8080/"
        },
        "id": "nmBdrNrGU-E_",
        "outputId": "fdcd3e56-74ed-4fe0-fe0a-3947c70452ee"
      },
      "execution_count": 37,
      "outputs": [
        {
          "output_type": "stream",
          "name": "stdout",
          "text": [
            "(3800, 6)\n"
          ]
        }
      ]
    },
    {
      "cell_type": "markdown",
      "source": [
        "\n",
        "\n",
        "## model 1-LSTM  \n",
        "\n",
        "max_features=20000  \n",
        "\n",
        "maxlen=100\n",
        "\n",
        "embedding_size=128  \n",
        "\n",
        "epochs==4\n",
        "\n"
      ],
      "metadata": {
        "id": "ClQ2iRJrkZ7D"
      }
    },
    {
      "cell_type": "code",
      "source": [
        "max_features = 20000\n",
        "\n",
        "maxlen = 100\n",
        "\n",
        "embedding_size = 128\n",
        "\n",
        "\n",
        "# Convolution\n",
        "kernel_size = 5\n",
        "filters = 64\n",
        "pool_size = 4\n",
        "\n",
        "# LSTM\n",
        "lstm_output_size = 70      # what is its impact\n",
        "\n",
        "# Training\n",
        "batch_size = 30\n",
        "epochs = 4"
      ],
      "metadata": {
        "id": "Jjm1UkqIkrdo"
      },
      "execution_count": 72,
      "outputs": []
    },
    {
      "cell_type": "code",
      "source": [
        "tokenizer = Tokenizer(nb_words = max_features, split=' ')\n",
        "tokenizer.fit_on_texts(df['review_lemm'].values)\n",
        "X = tokenizer.texts_to_sequences(df['review_lemm'].values)\n",
        "X = pad_sequences(X, maxlen = maxlen)"
      ],
      "metadata": {
        "colab": {
          "base_uri": "https://localhost:8080/"
        },
        "id": "EOh7DmWWkyNz",
        "outputId": "0d333dc7-9da4-49ef-a562-58998b0710b4"
      },
      "execution_count": 73,
      "outputs": [
        {
          "output_type": "stream",
          "name": "stderr",
          "text": [
            "/usr/local/lib/python3.10/dist-packages/keras/src/preprocessing/text.py:246: UserWarning: The `nb_words` argument in `Tokenizer` has been renamed `num_words`.\n",
            "  warnings.warn(\n"
          ]
        }
      ]
    },
    {
      "cell_type": "code",
      "source": [
        "Y = pd.get_dummies(df['label']).values\n",
        "X_train, X_test, Y_train, Y_test = train_test_split(X,Y, test_size = 0.20, random_state = 42)\n",
        "print(X_train.shape,Y_train.shape)\n",
        "print(X_test.shape,Y_test.shape)"
      ],
      "metadata": {
        "colab": {
          "base_uri": "https://localhost:8080/"
        },
        "id": "c7xyG_mRk3ar",
        "outputId": "778a5476-bb1e-4f40-e261-2abe1224c733"
      },
      "execution_count": 74,
      "outputs": [
        {
          "output_type": "stream",
          "name": "stdout",
          "text": [
            "(3040, 100) (3040, 3)\n",
            "(760, 100) (760, 3)\n"
          ]
        }
      ]
    },
    {
      "cell_type": "code",
      "source": [
        "from tensorflow.keras.models import Sequential\n",
        "from tensorflow.keras.layers import Embedding\n",
        "import numpy as np\n",
        "import tensorflow as tf\n",
        "from keras.layers import Dense, Conv1D, Flatten, MaxPooling1D"
      ],
      "metadata": {
        "id": "9zRvaFyrlziz"
      },
      "execution_count": 75,
      "outputs": []
    },
    {
      "cell_type": "code",
      "source": [
        "print('Build model...')\n",
        "\n",
        "model = Sequential()\n",
        "embedding_layer = Embedding(max_features, embedding_size, input_length=maxlen)\n",
        "model.add(embedding_layer)\n",
        "model.compile('adam','mse')\n",
        "model = tf.keras.Sequential()\n",
        "model.add(tf.keras.layers.Embedding(max_features, embedding_size, input_length=maxlen))\n",
        "model.add(Dropout(0.25))\n",
        "model.add(Conv1D(filters, kernel_size, padding='valid', activation='relu', strides=1))\n",
        "model.add(MaxPooling1D(pool_size=pool_size))\n",
        "model.add(LSTM(lstm_output_size))\n",
        "model.add(Dense(3,activation='softmax'))\n",
        "model.compile(loss = 'categorical_crossentropy', optimizer='adam',metrics = ['accuracy'])\n",
        "print(model.summary())"
      ],
      "metadata": {
        "colab": {
          "base_uri": "https://localhost:8080/"
        },
        "id": "Gh2qKt9sk8_Y",
        "outputId": "f7d9f92e-0e24-4303-d5b2-da0ef18ffeb0"
      },
      "execution_count": 76,
      "outputs": [
        {
          "output_type": "stream",
          "name": "stdout",
          "text": [
            "Build model...\n",
            "Model: \"sequential_13\"\n",
            "_________________________________________________________________\n",
            " Layer (type)                Output Shape              Param #   \n",
            "=================================================================\n",
            " embedding_12 (Embedding)    (None, 100, 128)          2560000   \n",
            "                                                                 \n",
            " dropout_6 (Dropout)         (None, 100, 128)          0         \n",
            "                                                                 \n",
            " conv1d_5 (Conv1D)           (None, 96, 64)            41024     \n",
            "                                                                 \n",
            " max_pooling1d_5 (MaxPoolin  (None, 24, 64)            0         \n",
            " g1D)                                                            \n",
            "                                                                 \n",
            " lstm_5 (LSTM)               (None, 70)                37800     \n",
            "                                                                 \n",
            " dense_5 (Dense)             (None, 3)                 213       \n",
            "                                                                 \n",
            "=================================================================\n",
            "Total params: 2639037 (10.07 MB)\n",
            "Trainable params: 2639037 (10.07 MB)\n",
            "Non-trainable params: 0 (0.00 Byte)\n",
            "_________________________________________________________________\n",
            "None\n"
          ]
        }
      ]
    },
    {
      "cell_type": "code",
      "source": [
        "print('Train...')\n",
        "model_lstm=model.fit(X_train, Y_train, batch_size=batch_size, epochs=epochs,shuffle=True, validation_data=(X_test, Y_test))"
      ],
      "metadata": {
        "colab": {
          "base_uri": "https://localhost:8080/"
        },
        "id": "wL88Q2FY4Da6",
        "outputId": "e3021832-15d1-4c2c-b905-a225dffefe7c"
      },
      "execution_count": 77,
      "outputs": [
        {
          "output_type": "stream",
          "name": "stdout",
          "text": [
            "Train...\n",
            "Epoch 1/4\n",
            "102/102 [==============================] - 7s 51ms/step - loss: 0.6703 - accuracy: 0.7164 - val_loss: 0.4654 - val_accuracy: 0.8750\n",
            "Epoch 2/4\n",
            "102/102 [==============================] - 4s 39ms/step - loss: 0.2738 - accuracy: 0.9086 - val_loss: 0.2439 - val_accuracy: 0.9145\n",
            "Epoch 3/4\n",
            "102/102 [==============================] - 4s 41ms/step - loss: 0.1382 - accuracy: 0.9579 - val_loss: 0.2400 - val_accuracy: 0.9263\n",
            "Epoch 4/4\n",
            "102/102 [==============================] - 5s 45ms/step - loss: 0.0789 - accuracy: 0.9753 - val_loss: 0.2506 - val_accuracy: 0.9303\n"
          ]
        }
      ]
    },
    {
      "cell_type": "code",
      "source": [
        "accr = model.evaluate(X_test,Y_test)\n",
        "print('Test set\\n  Loss: {:0.5f}\\n  Accuracy: {:0.3f}'.format(accr[0],accr[1]))"
      ],
      "metadata": {
        "colab": {
          "base_uri": "https://localhost:8080/"
        },
        "id": "VEdf3rDI42I3",
        "outputId": "0c73d076-cd2b-4b48-9d2b-eaddb314953a"
      },
      "execution_count": 78,
      "outputs": [
        {
          "output_type": "stream",
          "name": "stdout",
          "text": [
            "24/24 [==============================] - 0s 11ms/step - loss: 0.2506 - accuracy: 0.9303\n",
            "Test set\n",
            "  Loss: 0.25062\n",
            "  Accuracy: 0.930\n"
          ]
        }
      ]
    },
    {
      "cell_type": "code",
      "source": [
        "predictions=[]\n",
        "pred = model.predict(X_test)\n",
        "for x in pred:\n",
        "    labels = ['Neu','Pos','Neg']\n",
        "    predictions.append(labels[np.argmax(x)])\n",
        "predictions=np.array(predictions)\n",
        "predictions"
      ],
      "metadata": {
        "colab": {
          "base_uri": "https://localhost:8080/"
        },
        "id": "vjt722Id4kHW",
        "outputId": "43d23a4c-422f-435e-fbd0-7fdcdef69f4e"
      },
      "execution_count": 79,
      "outputs": [
        {
          "output_type": "stream",
          "name": "stdout",
          "text": [
            "24/24 [==============================] - 1s 10ms/step\n"
          ]
        },
        {
          "output_type": "execute_result",
          "data": {
            "text/plain": [
              "array(['Neg', 'Neg', 'Neu', 'Neg', 'Neg', 'Neg', 'Neu', 'Neg', 'Neg',\n",
              "       'Neg', 'Pos', 'Neg', 'Neu', 'Neg', 'Neg', 'Pos', 'Neg', 'Neg',\n",
              "       'Neg', 'Neg', 'Neg', 'Neg', 'Neg', 'Neg', 'Neg', 'Neg', 'Pos',\n",
              "       'Neg', 'Neg', 'Pos', 'Neg', 'Neu', 'Neg', 'Neg', 'Neg', 'Pos',\n",
              "       'Neg', 'Neg', 'Neg', 'Neg', 'Neg', 'Neg', 'Neg', 'Pos', 'Neg',\n",
              "       'Neg', 'Neg', 'Neu', 'Neg', 'Pos', 'Neg', 'Neg', 'Neg', 'Pos',\n",
              "       'Neg', 'Neu', 'Pos', 'Pos', 'Neg', 'Neu', 'Neu', 'Neu', 'Neg',\n",
              "       'Neg', 'Neu', 'Neg', 'Neg', 'Neg', 'Neu', 'Neg', 'Neg', 'Neg',\n",
              "       'Neg', 'Neu', 'Pos', 'Neg', 'Neg', 'Neg', 'Neg', 'Pos', 'Neg',\n",
              "       'Neg', 'Neg', 'Neg', 'Neg', 'Neg', 'Neg', 'Neg', 'Neg', 'Neg',\n",
              "       'Neg', 'Neg', 'Neg', 'Neg', 'Neg', 'Neu', 'Pos', 'Neu', 'Neg',\n",
              "       'Neg', 'Neu', 'Neg', 'Neg', 'Neu', 'Neu', 'Neg', 'Neg', 'Neu',\n",
              "       'Neu', 'Neg', 'Neg', 'Neg', 'Neg', 'Neu', 'Neg', 'Neu', 'Neg',\n",
              "       'Neu', 'Neg', 'Neg', 'Neg', 'Neg', 'Pos', 'Pos', 'Neg', 'Pos',\n",
              "       'Pos', 'Neg', 'Neg', 'Neg', 'Neu', 'Neg', 'Pos', 'Neg', 'Neg',\n",
              "       'Neg', 'Pos', 'Neg', 'Neg', 'Neg', 'Neg', 'Neu', 'Pos', 'Neg',\n",
              "       'Neg', 'Neu', 'Pos', 'Pos', 'Neu', 'Neg', 'Neg', 'Neu', 'Neg',\n",
              "       'Neu', 'Pos', 'Neg', 'Neu', 'Neg', 'Neu', 'Neg', 'Neu', 'Pos',\n",
              "       'Neg', 'Neg', 'Neg', 'Neg', 'Neg', 'Neu', 'Neg', 'Neu', 'Neg',\n",
              "       'Neg', 'Neg', 'Neu', 'Neg', 'Neg', 'Neg', 'Neg', 'Neg', 'Neg',\n",
              "       'Pos', 'Neg', 'Neg', 'Neu', 'Neg', 'Neg', 'Neg', 'Neg', 'Neg',\n",
              "       'Neu', 'Pos', 'Neg', 'Pos', 'Neg', 'Pos', 'Neg', 'Neg', 'Neg',\n",
              "       'Neg', 'Neg', 'Neg', 'Neu', 'Neg', 'Neg', 'Neg', 'Neg', 'Neu',\n",
              "       'Neg', 'Neg', 'Neg', 'Neg', 'Neg', 'Neu', 'Neg', 'Neg', 'Neg',\n",
              "       'Neu', 'Neg', 'Neg', 'Neu', 'Neg', 'Neu', 'Neg', 'Pos', 'Neu',\n",
              "       'Neg', 'Neg', 'Neg', 'Neu', 'Neg', 'Neg', 'Neg', 'Neu', 'Pos',\n",
              "       'Neu', 'Neg', 'Neu', 'Neg', 'Neg', 'Neg', 'Neg', 'Neg', 'Neg',\n",
              "       'Neg', 'Neu', 'Pos', 'Neg', 'Neg', 'Neg', 'Neg', 'Neg', 'Neu',\n",
              "       'Neg', 'Neg', 'Neg', 'Neg', 'Neg', 'Neg', 'Neg', 'Neg', 'Neg',\n",
              "       'Neg', 'Pos', 'Neu', 'Neg', 'Neg', 'Neg', 'Neg', 'Neu', 'Neu',\n",
              "       'Neg', 'Neg', 'Pos', 'Neu', 'Pos', 'Neg', 'Pos', 'Neg', 'Pos',\n",
              "       'Neu', 'Neg', 'Neu', 'Neg', 'Neu', 'Pos', 'Neg', 'Pos', 'Neg',\n",
              "       'Pos', 'Neg', 'Neg', 'Neg', 'Neu', 'Neg', 'Neg', 'Neg', 'Neg',\n",
              "       'Neg', 'Neg', 'Neg', 'Pos', 'Neg', 'Neu', 'Neg', 'Neg', 'Neg',\n",
              "       'Neg', 'Neg', 'Neg', 'Neg', 'Neg', 'Neu', 'Neu', 'Neg', 'Neg',\n",
              "       'Neg', 'Neg', 'Neg', 'Neg', 'Neg', 'Pos', 'Neg', 'Pos', 'Neg',\n",
              "       'Pos', 'Neu', 'Neg', 'Neg', 'Pos', 'Neg', 'Neg', 'Neu', 'Neg',\n",
              "       'Neg', 'Neg', 'Neg', 'Neg', 'Neu', 'Neg', 'Neg', 'Neu', 'Pos',\n",
              "       'Pos', 'Neu', 'Neg', 'Neg', 'Neg', 'Neg', 'Neg', 'Neg', 'Neu',\n",
              "       'Neg', 'Neg', 'Pos', 'Neg', 'Neg', 'Pos', 'Neg', 'Neg', 'Neg',\n",
              "       'Neg', 'Neg', 'Neg', 'Neg', 'Pos', 'Neg', 'Neg', 'Neg', 'Pos',\n",
              "       'Pos', 'Pos', 'Neg', 'Pos', 'Neg', 'Neg', 'Neu', 'Neg', 'Neu',\n",
              "       'Neg', 'Neg', 'Neg', 'Neg', 'Neg', 'Pos', 'Neg', 'Neg', 'Neg',\n",
              "       'Neu', 'Neu', 'Neu', 'Neg', 'Pos', 'Neg', 'Neg', 'Neg', 'Neg',\n",
              "       'Pos', 'Pos', 'Neu', 'Neg', 'Neu', 'Neg', 'Neu', 'Neg', 'Neg',\n",
              "       'Neg', 'Neg', 'Neg', 'Neg', 'Neg', 'Neg', 'Neg', 'Neg', 'Neg',\n",
              "       'Neg', 'Neu', 'Neg', 'Pos', 'Neg', 'Neg', 'Pos', 'Pos', 'Neg',\n",
              "       'Neg', 'Neg', 'Neg', 'Neg', 'Neg', 'Neg', 'Neu', 'Pos', 'Neg',\n",
              "       'Neg', 'Pos', 'Neg', 'Neu', 'Neg', 'Pos', 'Neg', 'Neg', 'Neg',\n",
              "       'Neg', 'Neg', 'Pos', 'Neg', 'Neg', 'Pos', 'Neg', 'Neg', 'Neu',\n",
              "       'Neg', 'Neg', 'Neu', 'Neg', 'Neg', 'Pos', 'Neg', 'Neg', 'Neg',\n",
              "       'Neg', 'Neg', 'Neg', 'Neg', 'Neg', 'Neg', 'Neg', 'Neg', 'Neg',\n",
              "       'Neg', 'Neu', 'Neu', 'Neg', 'Neg', 'Pos', 'Neg', 'Neg', 'Neu',\n",
              "       'Neg', 'Neg', 'Pos', 'Neg', 'Neg', 'Pos', 'Neg', 'Neg', 'Neg',\n",
              "       'Neu', 'Neg', 'Neg', 'Neg', 'Neg', 'Neg', 'Neg', 'Neu', 'Pos',\n",
              "       'Pos', 'Neg', 'Neg', 'Neg', 'Neg', 'Neg', 'Neg', 'Neg', 'Neu',\n",
              "       'Neg', 'Neg', 'Neg', 'Neg', 'Neg', 'Neg', 'Neg', 'Pos', 'Neg',\n",
              "       'Neg', 'Pos', 'Neg', 'Neg', 'Neg', 'Pos', 'Neg', 'Pos', 'Neg',\n",
              "       'Neg', 'Neg', 'Neg', 'Neg', 'Neg', 'Neg', 'Neg', 'Neg', 'Neg',\n",
              "       'Neg', 'Neg', 'Neg', 'Neg', 'Neg', 'Neg', 'Pos', 'Neg', 'Neg',\n",
              "       'Pos', 'Neg', 'Neu', 'Neg', 'Neg', 'Neg', 'Neg', 'Pos', 'Neu',\n",
              "       'Neu', 'Neg', 'Pos', 'Neg', 'Neg', 'Neu', 'Pos', 'Neg', 'Pos',\n",
              "       'Neg', 'Neg', 'Neu', 'Neu', 'Neu', 'Pos', 'Neu', 'Pos', 'Neg',\n",
              "       'Neg', 'Neg', 'Neu', 'Neu', 'Pos', 'Neg', 'Neg', 'Neg', 'Neg',\n",
              "       'Pos', 'Neg', 'Neg', 'Neg', 'Neg', 'Neg', 'Neu', 'Neg', 'Neg',\n",
              "       'Neg', 'Neg', 'Neg', 'Neg', 'Pos', 'Neg', 'Neu', 'Pos', 'Neg',\n",
              "       'Neu', 'Pos', 'Neg', 'Neg', 'Neu', 'Neg', 'Neg', 'Neu', 'Neg',\n",
              "       'Pos', 'Neg', 'Neg', 'Neu', 'Neg', 'Pos', 'Pos', 'Pos', 'Neg',\n",
              "       'Neg', 'Neg', 'Neu', 'Neg', 'Neu', 'Neg', 'Neu', 'Pos', 'Neg',\n",
              "       'Neg', 'Neg', 'Neg', 'Neg', 'Neg', 'Neg', 'Pos', 'Neg', 'Neg',\n",
              "       'Neu', 'Neg', 'Neg', 'Neg', 'Neg', 'Neg', 'Neu', 'Pos', 'Pos',\n",
              "       'Neg', 'Neg', 'Neu', 'Neg', 'Neg', 'Neg', 'Neg', 'Neg', 'Neg',\n",
              "       'Neg', 'Neg', 'Neg', 'Neg', 'Neu', 'Neg', 'Neg', 'Pos', 'Neu',\n",
              "       'Neu', 'Neg', 'Pos', 'Neg', 'Neg', 'Neg', 'Pos', 'Neg', 'Neg',\n",
              "       'Neg', 'Pos', 'Neg', 'Neg', 'Neu', 'Neg', 'Neg', 'Neg', 'Neu',\n",
              "       'Pos', 'Neg', 'Neu', 'Neg', 'Neg', 'Neg', 'Neg', 'Pos', 'Neg',\n",
              "       'Neu', 'Neg', 'Pos', 'Neg', 'Neg', 'Neg', 'Neu', 'Neg', 'Neg',\n",
              "       'Neg', 'Pos', 'Neg', 'Pos', 'Pos', 'Neg', 'Neg', 'Neg', 'Neu',\n",
              "       'Neg', 'Neg', 'Pos', 'Neg', 'Neg', 'Neg', 'Neg', 'Neu', 'Neg',\n",
              "       'Neg', 'Neg', 'Neg', 'Neg', 'Neg', 'Neg', 'Neg', 'Neg', 'Neg',\n",
              "       'Pos', 'Pos', 'Neg', 'Neu', 'Neu', 'Neu', 'Neg', 'Neu', 'Neg',\n",
              "       'Neg', 'Neg', 'Neg', 'Neg', 'Pos', 'Neg', 'Neg', 'Neg', 'Neg',\n",
              "       'Neg', 'Pos', 'Neu', 'Neg', 'Neg', 'Neg', 'Neg', 'Neg', 'Neg',\n",
              "       'Neg', 'Neg', 'Neg', 'Neu', 'Neg', 'Pos', 'Neu', 'Neg', 'Neu',\n",
              "       'Neu', 'Neg', 'Neg', 'Neg'], dtype='<U3')"
            ]
          },
          "metadata": {},
          "execution_count": 79
        }
      ]
    },
    {
      "cell_type": "code",
      "source": [
        "new_pred=[]\n",
        "for x in predictions:\n",
        "    if x=='Pos':\n",
        "        new_pred.append([1,0,0])\n",
        "    if x=='Neu':\n",
        "        new_pred.append([0,1,0])\n",
        "    if x=='Neg':\n",
        "        new_pred.append([0,0,1])\n",
        "new_pred=np.array(new_pred)\n",
        "print(metrics.classification_report(Y_test,new_pred))"
      ],
      "metadata": {
        "colab": {
          "base_uri": "https://localhost:8080/"
        },
        "id": "riISFjZX5Cds",
        "outputId": "c53b031b-273e-4617-aea7-e31c6eadc102"
      },
      "execution_count": 80,
      "outputs": [
        {
          "output_type": "stream",
          "name": "stdout",
          "text": [
            "              precision    recall  f1-score   support\n",
            "\n",
            "           0       0.03      0.02      0.02       134\n",
            "           1       0.10      0.10      0.10       127\n",
            "           2       0.94      0.99      0.96       499\n",
            "\n",
            "   micro avg       0.67      0.67      0.67       760\n",
            "   macro avg       0.36      0.37      0.36       760\n",
            "weighted avg       0.64      0.67      0.65       760\n",
            " samples avg       0.67      0.67      0.67       760\n",
            "\n"
          ]
        }
      ]
    },
    {
      "cell_type": "code",
      "source": [
        "acc_1=metrics.accuracy_score(Y_test,new_pred)\n",
        "print(acc_1)"
      ],
      "metadata": {
        "colab": {
          "base_uri": "https://localhost:8080/"
        },
        "id": "SaC0TwRn5THL",
        "outputId": "f1f3c927-4cd1-4a08-fd1b-152336754016"
      },
      "execution_count": 81,
      "outputs": [
        {
          "output_type": "stream",
          "name": "stdout",
          "text": [
            "0.6684210526315789\n"
          ]
        }
      ]
    },
    {
      "cell_type": "markdown",
      "source": [
        "## MODEL-2 LSTM\n",
        "max_features = 20000\n",
        "\n",
        "maxlen = 100\n",
        "\n",
        "embedding_size = 128\n",
        "\n",
        " EPochs=10"
      ],
      "metadata": {
        "id": "TtWs24btrzev"
      }
    },
    {
      "cell_type": "code",
      "source": [
        "max_features = 20000\n",
        "\n",
        "maxlen = 100\n",
        "\n",
        "embedding_size = 128\n",
        "\n",
        "\n",
        "# Convolution\n",
        "kernel_size = 5\n",
        "filters = 64\n",
        "pool_size = 4\n",
        "\n",
        "# LSTM\n",
        "lstm_output_size = 70      # what is its impact\n",
        "\n",
        "# Training\n",
        "batch_size = 30\n",
        "epochs = 10\n",
        "\n",
        "model = Sequential()\n",
        "model.add(Embedding(max_features, embedding_size, input_length=maxlen))\n",
        "model.add(Dropout(0.25))\n",
        "model.add(Conv1D(filters, kernel_size, padding='valid', activation='relu', strides=1))\n",
        "model.add(MaxPooling1D(pool_size=pool_size))\n",
        "model.add(LSTM(lstm_output_size))\n",
        "model.add(Dense(3,activation='softmax'))\n",
        "model.compile(loss = 'categorical_crossentropy', optimizer='adam',metrics = ['accuracy'])\n",
        "print(model.summary())\n",
        "\n",
        "print('Train...')\n",
        "model_lstm=model.fit(X_train, Y_train, batch_size=batch_size, epochs=epochs,shuffle=True, validation_data=(X_test, Y_test))"
      ],
      "metadata": {
        "colab": {
          "base_uri": "https://localhost:8080/"
        },
        "id": "Qm7_putvrwsc",
        "outputId": "de064206-c7be-4989-dcf1-57370b66f06f"
      },
      "execution_count": 82,
      "outputs": [
        {
          "output_type": "stream",
          "name": "stdout",
          "text": [
            "Model: \"sequential_14\"\n",
            "_________________________________________________________________\n",
            " Layer (type)                Output Shape              Param #   \n",
            "=================================================================\n",
            " embedding_13 (Embedding)    (None, 100, 128)          2560000   \n",
            "                                                                 \n",
            " dropout_7 (Dropout)         (None, 100, 128)          0         \n",
            "                                                                 \n",
            " conv1d_6 (Conv1D)           (None, 96, 64)            41024     \n",
            "                                                                 \n",
            " max_pooling1d_6 (MaxPoolin  (None, 24, 64)            0         \n",
            " g1D)                                                            \n",
            "                                                                 \n",
            " lstm_6 (LSTM)               (None, 70)                37800     \n",
            "                                                                 \n",
            " dense_6 (Dense)             (None, 3)                 213       \n",
            "                                                                 \n",
            "=================================================================\n",
            "Total params: 2639037 (10.07 MB)\n",
            "Trainable params: 2639037 (10.07 MB)\n",
            "Non-trainable params: 0 (0.00 Byte)\n",
            "_________________________________________________________________\n",
            "None\n",
            "Train...\n",
            "Epoch 1/10\n",
            "102/102 [==============================] - 8s 44ms/step - loss: 0.7015 - accuracy: 0.7049 - val_loss: 0.4722 - val_accuracy: 0.8592\n",
            "Epoch 2/10\n",
            "102/102 [==============================] - 4s 43ms/step - loss: 0.2726 - accuracy: 0.9211 - val_loss: 0.2287 - val_accuracy: 0.9197\n",
            "Epoch 3/10\n",
            "102/102 [==============================] - 5s 44ms/step - loss: 0.1325 - accuracy: 0.9549 - val_loss: 0.2697 - val_accuracy: 0.9158\n",
            "Epoch 4/10\n",
            "102/102 [==============================] - 4s 40ms/step - loss: 0.0720 - accuracy: 0.9770 - val_loss: 0.2553 - val_accuracy: 0.9382\n",
            "Epoch 5/10\n",
            "102/102 [==============================] - 4s 43ms/step - loss: 0.0400 - accuracy: 0.9872 - val_loss: 0.2781 - val_accuracy: 0.9342\n",
            "Epoch 6/10\n",
            "102/102 [==============================] - 4s 43ms/step - loss: 0.0284 - accuracy: 0.9911 - val_loss: 0.3120 - val_accuracy: 0.9329\n",
            "Epoch 7/10\n",
            "102/102 [==============================] - 4s 39ms/step - loss: 0.0155 - accuracy: 0.9961 - val_loss: 0.3064 - val_accuracy: 0.9276\n",
            "Epoch 8/10\n",
            "102/102 [==============================] - 4s 42ms/step - loss: 0.0069 - accuracy: 0.9980 - val_loss: 0.3500 - val_accuracy: 0.9303\n",
            "Epoch 9/10\n",
            "102/102 [==============================] - 5s 44ms/step - loss: 0.0050 - accuracy: 0.9987 - val_loss: 0.3600 - val_accuracy: 0.9395\n",
            "Epoch 10/10\n",
            "102/102 [==============================] - 4s 38ms/step - loss: 0.0066 - accuracy: 0.9974 - val_loss: 0.3866 - val_accuracy: 0.9250\n"
          ]
        }
      ]
    },
    {
      "cell_type": "code",
      "source": [
        "accr = model.evaluate(X_test,Y_test)\n",
        "print('Test set\\n  Loss: {:0.5f}\\n  Accuracy: {:0.3f}'.format(accr[0],accr[1]))"
      ],
      "metadata": {
        "colab": {
          "base_uri": "https://localhost:8080/"
        },
        "id": "aa-Y1KjT5p0V",
        "outputId": "e944ede2-b4bd-4ba4-cbb3-30145b9961cb"
      },
      "execution_count": 83,
      "outputs": [
        {
          "output_type": "stream",
          "name": "stdout",
          "text": [
            "24/24 [==============================] - 0s 17ms/step - loss: 0.3866 - accuracy: 0.9250\n",
            "Test set\n",
            "  Loss: 0.38662\n",
            "  Accuracy: 0.925\n"
          ]
        }
      ]
    },
    {
      "cell_type": "code",
      "source": [
        "predictions=[]\n",
        "pred = model.predict(X_test)\n",
        "for x in pred:\n",
        "    labels = ['Neu','Pos','Neg']\n",
        "    predictions.append(labels[np.argmax(x)])\n",
        "predictions=np.array(predictions)\n",
        "predictions"
      ],
      "metadata": {
        "colab": {
          "base_uri": "https://localhost:8080/"
        },
        "id": "mQt48MyC5rEj",
        "outputId": "9f570ee9-0646-49bd-9d10-e4e93b1a10ae"
      },
      "execution_count": 84,
      "outputs": [
        {
          "output_type": "stream",
          "name": "stdout",
          "text": [
            "24/24 [==============================] - 1s 10ms/step\n"
          ]
        },
        {
          "output_type": "execute_result",
          "data": {
            "text/plain": [
              "array(['Neg', 'Neg', 'Neu', 'Neg', 'Neg', 'Neg', 'Neu', 'Neg', 'Neg',\n",
              "       'Neg', 'Pos', 'Neg', 'Neu', 'Neg', 'Neu', 'Pos', 'Neg', 'Neg',\n",
              "       'Neg', 'Neg', 'Neg', 'Neg', 'Neg', 'Neg', 'Neg', 'Neg', 'Pos',\n",
              "       'Neg', 'Neg', 'Pos', 'Neg', 'Neu', 'Neg', 'Neg', 'Neg', 'Pos',\n",
              "       'Neg', 'Neg', 'Neg', 'Neg', 'Neg', 'Neg', 'Neg', 'Pos', 'Neg',\n",
              "       'Neg', 'Neg', 'Neu', 'Neg', 'Pos', 'Neg', 'Neg', 'Neg', 'Pos',\n",
              "       'Neg', 'Neu', 'Pos', 'Pos', 'Neg', 'Neu', 'Neu', 'Neu', 'Neg',\n",
              "       'Neg', 'Neu', 'Neg', 'Neg', 'Neg', 'Neu', 'Neg', 'Neg', 'Neg',\n",
              "       'Neg', 'Neg', 'Pos', 'Neg', 'Neg', 'Neg', 'Neg', 'Pos', 'Neg',\n",
              "       'Neg', 'Neg', 'Neg', 'Neg', 'Neu', 'Neg', 'Neg', 'Neg', 'Neu',\n",
              "       'Neg', 'Neg', 'Neg', 'Neu', 'Neg', 'Pos', 'Pos', 'Neu', 'Neu',\n",
              "       'Neg', 'Neg', 'Neg', 'Neg', 'Neu', 'Neu', 'Neg', 'Neu', 'Neu',\n",
              "       'Neu', 'Neg', 'Neg', 'Neg', 'Neg', 'Neu', 'Neu', 'Neu', 'Neg',\n",
              "       'Neu', 'Neg', 'Neg', 'Neg', 'Neg', 'Pos', 'Pos', 'Neg', 'Pos',\n",
              "       'Pos', 'Neg', 'Neg', 'Neg', 'Neg', 'Neu', 'Pos', 'Neg', 'Neg',\n",
              "       'Neg', 'Pos', 'Neg', 'Neg', 'Neg', 'Neg', 'Neu', 'Pos', 'Neg',\n",
              "       'Neg', 'Neu', 'Pos', 'Pos', 'Neu', 'Neg', 'Neg', 'Pos', 'Neg',\n",
              "       'Neu', 'Pos', 'Neg', 'Neu', 'Neg', 'Neu', 'Neg', 'Neu', 'Pos',\n",
              "       'Neg', 'Neg', 'Neg', 'Neg', 'Neg', 'Neu', 'Neg', 'Neu', 'Neg',\n",
              "       'Neg', 'Neg', 'Neu', 'Neg', 'Neg', 'Neg', 'Neg', 'Neg', 'Neg',\n",
              "       'Pos', 'Neg', 'Neg', 'Neu', 'Neg', 'Neg', 'Neg', 'Neg', 'Neg',\n",
              "       'Neu', 'Pos', 'Neg', 'Pos', 'Neg', 'Pos', 'Neg', 'Neg', 'Neg',\n",
              "       'Neg', 'Neg', 'Neg', 'Neu', 'Neg', 'Neg', 'Neg', 'Neg', 'Neu',\n",
              "       'Neg', 'Neg', 'Neg', 'Neg', 'Neg', 'Neu', 'Neg', 'Neg', 'Neg',\n",
              "       'Neu', 'Neg', 'Neg', 'Neu', 'Neg', 'Neu', 'Neg', 'Pos', 'Neu',\n",
              "       'Neg', 'Neg', 'Neg', 'Neu', 'Neg', 'Neg', 'Neg', 'Neg', 'Pos',\n",
              "       'Neu', 'Neg', 'Neu', 'Neg', 'Neg', 'Neg', 'Neg', 'Neg', 'Neg',\n",
              "       'Neg', 'Neu', 'Pos', 'Neg', 'Neg', 'Neg', 'Neg', 'Neu', 'Pos',\n",
              "       'Neg', 'Neg', 'Neg', 'Neg', 'Neu', 'Neg', 'Neg', 'Neg', 'Neu',\n",
              "       'Neg', 'Pos', 'Neu', 'Neg', 'Neg', 'Neg', 'Neg', 'Neu', 'Neu',\n",
              "       'Neg', 'Neg', 'Pos', 'Neu', 'Pos', 'Neg', 'Pos', 'Neg', 'Pos',\n",
              "       'Pos', 'Neg', 'Neu', 'Neg', 'Neu', 'Pos', 'Neg', 'Pos', 'Neg',\n",
              "       'Pos', 'Neg', 'Neg', 'Neg', 'Neu', 'Neg', 'Neg', 'Neg', 'Neg',\n",
              "       'Neg', 'Neg', 'Neg', 'Pos', 'Neg', 'Neu', 'Neg', 'Neg', 'Neg',\n",
              "       'Neg', 'Neg', 'Neg', 'Neg', 'Neg', 'Neu', 'Neu', 'Neg', 'Neg',\n",
              "       'Neg', 'Neg', 'Neg', 'Neg', 'Neg', 'Pos', 'Neg', 'Pos', 'Neg',\n",
              "       'Pos', 'Neu', 'Neg', 'Neg', 'Pos', 'Neg', 'Neg', 'Neu', 'Neg',\n",
              "       'Neg', 'Neg', 'Neg', 'Neg', 'Neu', 'Neu', 'Neg', 'Neu', 'Pos',\n",
              "       'Pos', 'Neu', 'Neg', 'Neg', 'Neg', 'Neg', 'Neg', 'Neg', 'Neu',\n",
              "       'Neg', 'Neg', 'Pos', 'Neg', 'Neg', 'Pos', 'Neg', 'Neg', 'Neg',\n",
              "       'Neg', 'Neg', 'Neg', 'Neg', 'Pos', 'Neu', 'Neg', 'Neg', 'Pos',\n",
              "       'Pos', 'Pos', 'Neg', 'Neu', 'Neg', 'Neg', 'Neu', 'Neg', 'Neu',\n",
              "       'Neg', 'Neg', 'Neg', 'Neg', 'Neg', 'Pos', 'Neg', 'Neg', 'Neg',\n",
              "       'Neu', 'Neu', 'Neu', 'Neg', 'Neu', 'Neg', 'Neg', 'Neu', 'Neg',\n",
              "       'Pos', 'Pos', 'Neu', 'Neg', 'Neu', 'Neg', 'Neu', 'Neg', 'Neg',\n",
              "       'Neg', 'Neg', 'Neg', 'Neg', 'Neg', 'Neg', 'Neg', 'Neg', 'Neg',\n",
              "       'Neg', 'Neu', 'Neg', 'Pos', 'Neg', 'Neg', 'Pos', 'Pos', 'Neg',\n",
              "       'Neg', 'Neg', 'Neg', 'Neg', 'Neg', 'Neg', 'Neu', 'Pos', 'Neg',\n",
              "       'Neg', 'Pos', 'Neg', 'Neu', 'Neg', 'Pos', 'Neg', 'Neg', 'Neg',\n",
              "       'Neg', 'Neg', 'Pos', 'Neg', 'Neg', 'Pos', 'Neg', 'Neg', 'Neu',\n",
              "       'Neg', 'Neg', 'Neu', 'Neg', 'Neg', 'Pos', 'Neg', 'Neg', 'Neg',\n",
              "       'Neg', 'Neg', 'Neg', 'Neg', 'Neg', 'Neg', 'Neg', 'Neg', 'Neg',\n",
              "       'Neg', 'Neu', 'Neu', 'Neg', 'Neg', 'Pos', 'Neg', 'Neg', 'Neu',\n",
              "       'Neg', 'Neg', 'Pos', 'Neg', 'Neg', 'Pos', 'Neg', 'Neg', 'Neg',\n",
              "       'Neu', 'Neg', 'Neg', 'Neg', 'Neg', 'Neg', 'Neg', 'Neu', 'Pos',\n",
              "       'Pos', 'Neg', 'Neg', 'Neg', 'Neg', 'Neg', 'Neg', 'Neg', 'Neu',\n",
              "       'Neg', 'Neg', 'Neg', 'Neg', 'Neg', 'Neg', 'Neg', 'Pos', 'Neg',\n",
              "       'Neg', 'Pos', 'Neg', 'Neg', 'Neg', 'Pos', 'Neg', 'Pos', 'Neg',\n",
              "       'Neg', 'Neg', 'Neg', 'Neg', 'Neg', 'Neg', 'Neg', 'Neg', 'Neg',\n",
              "       'Neg', 'Neg', 'Neg', 'Neg', 'Neg', 'Neg', 'Pos', 'Neg', 'Neg',\n",
              "       'Pos', 'Neg', 'Neu', 'Neg', 'Neg', 'Neg', 'Neg', 'Pos', 'Neg',\n",
              "       'Neu', 'Neg', 'Pos', 'Neg', 'Neg', 'Neu', 'Pos', 'Neg', 'Pos',\n",
              "       'Neg', 'Neg', 'Neu', 'Neu', 'Neu', 'Pos', 'Neu', 'Pos', 'Neg',\n",
              "       'Neg', 'Neg', 'Neu', 'Pos', 'Pos', 'Neg', 'Neg', 'Neg', 'Neg',\n",
              "       'Pos', 'Neg', 'Neg', 'Neu', 'Neu', 'Neg', 'Neu', 'Neg', 'Neg',\n",
              "       'Neg', 'Neu', 'Neg', 'Neg', 'Pos', 'Neg', 'Neu', 'Pos', 'Neg',\n",
              "       'Neu', 'Pos', 'Neg', 'Neg', 'Neg', 'Neg', 'Neg', 'Neu', 'Neg',\n",
              "       'Pos', 'Neg', 'Neg', 'Neu', 'Neg', 'Pos', 'Pos', 'Pos', 'Neg',\n",
              "       'Neg', 'Neu', 'Neu', 'Neg', 'Neu', 'Neg', 'Neu', 'Pos', 'Neg',\n",
              "       'Neg', 'Neg', 'Neg', 'Neg', 'Neg', 'Neg', 'Pos', 'Neg', 'Neg',\n",
              "       'Neu', 'Neg', 'Neu', 'Neg', 'Neg', 'Neg', 'Neu', 'Neu', 'Pos',\n",
              "       'Neg', 'Neg', 'Neu', 'Neg', 'Neg', 'Neg', 'Neg', 'Neg', 'Neg',\n",
              "       'Neg', 'Neg', 'Neg', 'Neg', 'Neu', 'Neg', 'Neg', 'Pos', 'Neu',\n",
              "       'Neu', 'Neg', 'Pos', 'Neg', 'Neg', 'Neg', 'Pos', 'Neg', 'Neg',\n",
              "       'Neg', 'Pos', 'Neg', 'Neg', 'Neu', 'Neg', 'Neu', 'Neg', 'Neu',\n",
              "       'Pos', 'Neg', 'Neu', 'Neg', 'Neg', 'Neg', 'Neg', 'Pos', 'Neg',\n",
              "       'Neu', 'Neg', 'Pos', 'Neg', 'Neg', 'Neg', 'Neu', 'Neg', 'Neg',\n",
              "       'Neg', 'Pos', 'Neg', 'Pos', 'Pos', 'Neg', 'Neg', 'Neg', 'Neu',\n",
              "       'Neg', 'Neg', 'Pos', 'Neg', 'Neg', 'Neg', 'Neg', 'Neu', 'Neg',\n",
              "       'Neg', 'Neg', 'Neg', 'Neg', 'Neg', 'Neg', 'Neg', 'Neg', 'Neg',\n",
              "       'Pos', 'Pos', 'Neg', 'Neu', 'Neu', 'Neu', 'Neg', 'Neu', 'Neg',\n",
              "       'Neg', 'Neg', 'Neg', 'Neg', 'Pos', 'Neg', 'Neg', 'Neg', 'Neg',\n",
              "       'Neg', 'Pos', 'Neu', 'Neg', 'Neg', 'Neg', 'Neu', 'Neg', 'Neg',\n",
              "       'Neg', 'Neg', 'Neg', 'Neu', 'Neg', 'Pos', 'Neu', 'Neg', 'Neg',\n",
              "       'Neu', 'Neg', 'Neg', 'Neg'], dtype='<U3')"
            ]
          },
          "metadata": {},
          "execution_count": 84
        }
      ]
    },
    {
      "cell_type": "code",
      "source": [
        "new_pred=[]\n",
        "for x in predictions:\n",
        "    if x=='Pos':\n",
        "        new_pred.append([1,0,0])\n",
        "    if x=='Neu':\n",
        "        new_pred.append([0,1,0])\n",
        "    if x=='Neg':\n",
        "        new_pred.append([0,0,1])\n",
        "new_pred=np.array(new_pred)\n",
        "print(metrics.classification_report(Y_test,new_pred))"
      ],
      "metadata": {
        "colab": {
          "base_uri": "https://localhost:8080/"
        },
        "id": "-pao3QQJ5yie",
        "outputId": "8f4a7474-17ed-48c2-ac27-34bd17f37ffa"
      },
      "execution_count": 85,
      "outputs": [
        {
          "output_type": "stream",
          "name": "stdout",
          "text": [
            "              precision    recall  f1-score   support\n",
            "\n",
            "           0       0.04      0.03      0.03       134\n",
            "           1       0.09      0.09      0.09       127\n",
            "           2       0.95      0.97      0.96       499\n",
            "\n",
            "   micro avg       0.66      0.66      0.66       760\n",
            "   macro avg       0.36      0.36      0.36       760\n",
            "weighted avg       0.64      0.66      0.65       760\n",
            " samples avg       0.66      0.66      0.66       760\n",
            "\n"
          ]
        }
      ]
    },
    {
      "cell_type": "code",
      "source": [
        "acc2=metrics.accuracy_score(Y_test,new_pred)\n",
        "acc2"
      ],
      "metadata": {
        "colab": {
          "base_uri": "https://localhost:8080/"
        },
        "id": "aDn0co1255yw",
        "outputId": "31317c13-fc65-4305-bf3d-f074e16b8f8e"
      },
      "execution_count": 86,
      "outputs": [
        {
          "output_type": "execute_result",
          "data": {
            "text/plain": [
              "0.656578947368421"
            ]
          },
          "metadata": {},
          "execution_count": 86
        }
      ]
    },
    {
      "cell_type": "markdown",
      "source": [
        "## MODEL-3 LSTM\n",
        "max_features = 20000\n",
        "\n",
        "maxlen = 100\n",
        "\n",
        "embedding_size = 128\n",
        "\n",
        "EPochs=15"
      ],
      "metadata": {
        "id": "bzO7rD0v6CAP"
      }
    },
    {
      "cell_type": "code",
      "source": [
        "max_features = 20000\n",
        "\n",
        "maxlen = 100\n",
        "\n",
        "embedding_size = 128\n",
        "\n",
        "\n",
        "# Convolution\n",
        "kernel_size = 5\n",
        "filters = 64\n",
        "pool_size = 4\n",
        "\n",
        "# LSTM\n",
        "lstm_output_size = 70      # what is its impact\n",
        "\n",
        "# Training\n",
        "batch_size = 30\n",
        "epochs = 15\n",
        "\n",
        "model = Sequential()\n",
        "model.add(Embedding(max_features, embedding_size, input_length=maxlen))\n",
        "model.add(Dropout(0.25))\n",
        "model.add(Conv1D(filters, kernel_size, padding='valid', activation='relu', strides=1))\n",
        "model.add(MaxPooling1D(pool_size=pool_size))\n",
        "model.add(LSTM(lstm_output_size))\n",
        "model.add(Dense(3,activation='softmax'))\n",
        "model.compile(loss = 'categorical_crossentropy', optimizer='adam',metrics = ['accuracy'])\n",
        "print(model.summary())\n",
        "\n",
        "print('Train...')\n",
        "model_lstm=model.fit(X_train, Y_train, batch_size=batch_size, epochs=epochs,shuffle=True, validation_data=(X_test, Y_test))"
      ],
      "metadata": {
        "colab": {
          "base_uri": "https://localhost:8080/"
        },
        "id": "NNnyapNZ6Eip",
        "outputId": "e4c14a33-0ad3-4653-a94c-a305eda5bf36"
      },
      "execution_count": 87,
      "outputs": [
        {
          "output_type": "stream",
          "name": "stdout",
          "text": [
            "Model: \"sequential_15\"\n",
            "_________________________________________________________________\n",
            " Layer (type)                Output Shape              Param #   \n",
            "=================================================================\n",
            " embedding_14 (Embedding)    (None, 100, 128)          2560000   \n",
            "                                                                 \n",
            " dropout_8 (Dropout)         (None, 100, 128)          0         \n",
            "                                                                 \n",
            " conv1d_7 (Conv1D)           (None, 96, 64)            41024     \n",
            "                                                                 \n",
            " max_pooling1d_7 (MaxPoolin  (None, 24, 64)            0         \n",
            " g1D)                                                            \n",
            "                                                                 \n",
            " lstm_7 (LSTM)               (None, 70)                37800     \n",
            "                                                                 \n",
            " dense_7 (Dense)             (None, 3)                 213       \n",
            "                                                                 \n",
            "=================================================================\n",
            "Total params: 2639037 (10.07 MB)\n",
            "Trainable params: 2639037 (10.07 MB)\n",
            "Non-trainable params: 0 (0.00 Byte)\n",
            "_________________________________________________________________\n",
            "None\n",
            "Train...\n",
            "Epoch 1/15\n",
            "102/102 [==============================] - 6s 42ms/step - loss: 0.6818 - accuracy: 0.6921 - val_loss: 0.4997 - val_accuracy: 0.8487\n",
            "Epoch 2/15\n",
            "102/102 [==============================] - 5s 52ms/step - loss: 0.2869 - accuracy: 0.9141 - val_loss: 0.2410 - val_accuracy: 0.9211\n",
            "Epoch 3/15\n",
            "102/102 [==============================] - 4s 38ms/step - loss: 0.1294 - accuracy: 0.9579 - val_loss: 0.2288 - val_accuracy: 0.9289\n",
            "Epoch 4/15\n",
            "102/102 [==============================] - 4s 38ms/step - loss: 0.0865 - accuracy: 0.9694 - val_loss: 0.2352 - val_accuracy: 0.9237\n",
            "Epoch 5/15\n",
            "102/102 [==============================] - 5s 48ms/step - loss: 0.0544 - accuracy: 0.9822 - val_loss: 0.2689 - val_accuracy: 0.9329\n",
            "Epoch 6/15\n",
            "102/102 [==============================] - 4s 39ms/step - loss: 0.0291 - accuracy: 0.9901 - val_loss: 0.2533 - val_accuracy: 0.9421\n",
            "Epoch 7/15\n",
            "102/102 [==============================] - 4s 38ms/step - loss: 0.0175 - accuracy: 0.9961 - val_loss: 0.2802 - val_accuracy: 0.9289\n",
            "Epoch 8/15\n",
            "102/102 [==============================] - 5s 49ms/step - loss: 0.0120 - accuracy: 0.9970 - val_loss: 0.2740 - val_accuracy: 0.9342\n",
            "Epoch 9/15\n",
            "102/102 [==============================] - 4s 38ms/step - loss: 0.0082 - accuracy: 0.9980 - val_loss: 0.3536 - val_accuracy: 0.9303\n",
            "Epoch 10/15\n",
            "102/102 [==============================] - 4s 39ms/step - loss: 0.0047 - accuracy: 0.9993 - val_loss: 0.3268 - val_accuracy: 0.9421\n",
            "Epoch 11/15\n",
            "102/102 [==============================] - 5s 48ms/step - loss: 0.0045 - accuracy: 0.9990 - val_loss: 0.3349 - val_accuracy: 0.9342\n",
            "Epoch 12/15\n",
            "102/102 [==============================] - 4s 39ms/step - loss: 0.0027 - accuracy: 0.9993 - val_loss: 0.3143 - val_accuracy: 0.9487\n",
            "Epoch 13/15\n",
            "102/102 [==============================] - 4s 38ms/step - loss: 0.0013 - accuracy: 1.0000 - val_loss: 0.3898 - val_accuracy: 0.9289\n",
            "Epoch 14/15\n",
            "102/102 [==============================] - 5s 48ms/step - loss: 0.0046 - accuracy: 0.9990 - val_loss: 0.3908 - val_accuracy: 0.9355\n",
            "Epoch 15/15\n",
            "102/102 [==============================] - 4s 39ms/step - loss: 0.0046 - accuracy: 0.9987 - val_loss: 0.3682 - val_accuracy: 0.9408\n"
          ]
        }
      ]
    },
    {
      "cell_type": "code",
      "source": [
        "accr = model.evaluate(X_test,Y_test)\n",
        "print('Test set\\n  Loss: {:0.5f}\\n  Accuracy: {:0.3f}'.format(accr[0],accr[1]))"
      ],
      "metadata": {
        "colab": {
          "base_uri": "https://localhost:8080/"
        },
        "id": "RYyijePU6bpg",
        "outputId": "32606743-7cbc-4447-98c4-9092f9a09745"
      },
      "execution_count": 88,
      "outputs": [
        {
          "output_type": "stream",
          "name": "stdout",
          "text": [
            "24/24 [==============================] - 0s 11ms/step - loss: 0.3682 - accuracy: 0.9408\n",
            "Test set\n",
            "  Loss: 0.36818\n",
            "  Accuracy: 0.941\n"
          ]
        }
      ]
    },
    {
      "cell_type": "code",
      "source": [
        "predictions=[]\n",
        "pred = model.predict(X_test)\n",
        "for x in pred:\n",
        "    labels = ['Neu','Pos','Neg']\n",
        "    predictions.append(labels[np.argmax(x)])\n",
        "predictions=np.array(predictions)\n",
        "predictions"
      ],
      "metadata": {
        "colab": {
          "base_uri": "https://localhost:8080/"
        },
        "id": "KSfxiBPo6dgT",
        "outputId": "147daa84-82ce-45a5-8b3a-d59f52b3fc79"
      },
      "execution_count": 89,
      "outputs": [
        {
          "output_type": "stream",
          "name": "stdout",
          "text": [
            "24/24 [==============================] - 1s 8ms/step\n"
          ]
        },
        {
          "output_type": "execute_result",
          "data": {
            "text/plain": [
              "array(['Neg', 'Neg', 'Neu', 'Neg', 'Neg', 'Neg', 'Neu', 'Neg', 'Neg',\n",
              "       'Neg', 'Pos', 'Neg', 'Neu', 'Neg', 'Neg', 'Pos', 'Neg', 'Neg',\n",
              "       'Neg', 'Neg', 'Neg', 'Neg', 'Neg', 'Neg', 'Neg', 'Neg', 'Pos',\n",
              "       'Neg', 'Neg', 'Pos', 'Neg', 'Neu', 'Neg', 'Neg', 'Neg', 'Pos',\n",
              "       'Neg', 'Neg', 'Neg', 'Neu', 'Neg', 'Neg', 'Neg', 'Pos', 'Neg',\n",
              "       'Neg', 'Neg', 'Neu', 'Neg', 'Pos', 'Neg', 'Neg', 'Neg', 'Pos',\n",
              "       'Neg', 'Neu', 'Pos', 'Pos', 'Neg', 'Neu', 'Neu', 'Neu', 'Neg',\n",
              "       'Neg', 'Neu', 'Neg', 'Neg', 'Neg', 'Neu', 'Neg', 'Neg', 'Neg',\n",
              "       'Neg', 'Neu', 'Pos', 'Neg', 'Neg', 'Neg', 'Neg', 'Pos', 'Neg',\n",
              "       'Neg', 'Neg', 'Neg', 'Neg', 'Neu', 'Neg', 'Neg', 'Neg', 'Neg',\n",
              "       'Neg', 'Neg', 'Neg', 'Neu', 'Neg', 'Pos', 'Pos', 'Neu', 'Neg',\n",
              "       'Neg', 'Neg', 'Neg', 'Neg', 'Neu', 'Neu', 'Neg', 'Neu', 'Neg',\n",
              "       'Neu', 'Neg', 'Neu', 'Neg', 'Neg', 'Neu', 'Neg', 'Neu', 'Neg',\n",
              "       'Neu', 'Neg', 'Neg', 'Neg', 'Neg', 'Pos', 'Pos', 'Neg', 'Pos',\n",
              "       'Pos', 'Neg', 'Neg', 'Neg', 'Neg', 'Pos', 'Pos', 'Neg', 'Neg',\n",
              "       'Neg', 'Pos', 'Neg', 'Neg', 'Neg', 'Neg', 'Neu', 'Pos', 'Neg',\n",
              "       'Neg', 'Neu', 'Pos', 'Pos', 'Neu', 'Neg', 'Neg', 'Pos', 'Neg',\n",
              "       'Neu', 'Pos', 'Neg', 'Neu', 'Neg', 'Neu', 'Neg', 'Neu', 'Pos',\n",
              "       'Neg', 'Neg', 'Neg', 'Neg', 'Neg', 'Neu', 'Neg', 'Neu', 'Neg',\n",
              "       'Neg', 'Neg', 'Neu', 'Neg', 'Neg', 'Neg', 'Neg', 'Neg', 'Neg',\n",
              "       'Pos', 'Neg', 'Neu', 'Neg', 'Neg', 'Neg', 'Neg', 'Neg', 'Neg',\n",
              "       'Neu', 'Pos', 'Neg', 'Pos', 'Neg', 'Pos', 'Neg', 'Neg', 'Neg',\n",
              "       'Neg', 'Neg', 'Neg', 'Neu', 'Neg', 'Neg', 'Neg', 'Neg', 'Neu',\n",
              "       'Neg', 'Neg', 'Neg', 'Neg', 'Neg', 'Neu', 'Neg', 'Neg', 'Neg',\n",
              "       'Neu', 'Neg', 'Neg', 'Neu', 'Neg', 'Neu', 'Neg', 'Pos', 'Neu',\n",
              "       'Neg', 'Neg', 'Neg', 'Neu', 'Neg', 'Neg', 'Neg', 'Neg', 'Pos',\n",
              "       'Neu', 'Neg', 'Neu', 'Neg', 'Neg', 'Neg', 'Neg', 'Neg', 'Neg',\n",
              "       'Neg', 'Neu', 'Pos', 'Neg', 'Neg', 'Neg', 'Neg', 'Neu', 'Neu',\n",
              "       'Neg', 'Neg', 'Neg', 'Neg', 'Neu', 'Neg', 'Neg', 'Neg', 'Neg',\n",
              "       'Neg', 'Pos', 'Neu', 'Neg', 'Neg', 'Neg', 'Neg', 'Neu', 'Neg',\n",
              "       'Neg', 'Neg', 'Pos', 'Neu', 'Pos', 'Neg', 'Pos', 'Neg', 'Pos',\n",
              "       'Pos', 'Neg', 'Neu', 'Neg', 'Neu', 'Neu', 'Neg', 'Pos', 'Neg',\n",
              "       'Pos', 'Neg', 'Neg', 'Neg', 'Neu', 'Neg', 'Neg', 'Neg', 'Neg',\n",
              "       'Neg', 'Neg', 'Neg', 'Pos', 'Neg', 'Neu', 'Neg', 'Neg', 'Neg',\n",
              "       'Neg', 'Neg', 'Neg', 'Neg', 'Neg', 'Pos', 'Neu', 'Neg', 'Neg',\n",
              "       'Neg', 'Neg', 'Neg', 'Neg', 'Neg', 'Pos', 'Neg', 'Pos', 'Neg',\n",
              "       'Pos', 'Neu', 'Neg', 'Neg', 'Pos', 'Neg', 'Neg', 'Pos', 'Neg',\n",
              "       'Neg', 'Neg', 'Neg', 'Neg', 'Neu', 'Neg', 'Neg', 'Neu', 'Pos',\n",
              "       'Pos', 'Neu', 'Neg', 'Neg', 'Neg', 'Neg', 'Neg', 'Neg', 'Neu',\n",
              "       'Neg', 'Neg', 'Pos', 'Neg', 'Neg', 'Pos', 'Neg', 'Neg', 'Neg',\n",
              "       'Neg', 'Neg', 'Neg', 'Neg', 'Pos', 'Neu', 'Neg', 'Neg', 'Pos',\n",
              "       'Pos', 'Pos', 'Neg', 'Pos', 'Neg', 'Neg', 'Neu', 'Neg', 'Neu',\n",
              "       'Neg', 'Neg', 'Neg', 'Neg', 'Neg', 'Pos', 'Neg', 'Neg', 'Neg',\n",
              "       'Neu', 'Neu', 'Neu', 'Neg', 'Pos', 'Neg', 'Neg', 'Neg', 'Neg',\n",
              "       'Pos', 'Pos', 'Neu', 'Neg', 'Neu', 'Neg', 'Neu', 'Neg', 'Neg',\n",
              "       'Neg', 'Neg', 'Neg', 'Neg', 'Neg', 'Neg', 'Neg', 'Neg', 'Neg',\n",
              "       'Neg', 'Neu', 'Neg', 'Pos', 'Neg', 'Neg', 'Pos', 'Pos', 'Neg',\n",
              "       'Neg', 'Neg', 'Neg', 'Neg', 'Neg', 'Neg', 'Neu', 'Pos', 'Neg',\n",
              "       'Neg', 'Pos', 'Neg', 'Neu', 'Neg', 'Pos', 'Neg', 'Neg', 'Neg',\n",
              "       'Neg', 'Neg', 'Pos', 'Neg', 'Neg', 'Pos', 'Neg', 'Neg', 'Neu',\n",
              "       'Neg', 'Neg', 'Pos', 'Neg', 'Neg', 'Pos', 'Neg', 'Neg', 'Neg',\n",
              "       'Neg', 'Neg', 'Neg', 'Neg', 'Neg', 'Neg', 'Neg', 'Neg', 'Neg',\n",
              "       'Neg', 'Neu', 'Neu', 'Neg', 'Neg', 'Pos', 'Neg', 'Neg', 'Neu',\n",
              "       'Neg', 'Neu', 'Pos', 'Neg', 'Neg', 'Pos', 'Neg', 'Neg', 'Neg',\n",
              "       'Neu', 'Neg', 'Neg', 'Neg', 'Neg', 'Neg', 'Neg', 'Neu', 'Neu',\n",
              "       'Pos', 'Neg', 'Neg', 'Neg', 'Neg', 'Neg', 'Neg', 'Neg', 'Neu',\n",
              "       'Neg', 'Neg', 'Neg', 'Neg', 'Neg', 'Neg', 'Neg', 'Pos', 'Neg',\n",
              "       'Neg', 'Pos', 'Neg', 'Neg', 'Neg', 'Pos', 'Neg', 'Pos', 'Neg',\n",
              "       'Neg', 'Neg', 'Neg', 'Neg', 'Neg', 'Neg', 'Neg', 'Neg', 'Neg',\n",
              "       'Neg', 'Neg', 'Neg', 'Neg', 'Neg', 'Neg', 'Pos', 'Neg', 'Neg',\n",
              "       'Pos', 'Neg', 'Pos', 'Neg', 'Neg', 'Neg', 'Neg', 'Pos', 'Neg',\n",
              "       'Neu', 'Neg', 'Pos', 'Neg', 'Neg', 'Neu', 'Pos', 'Neg', 'Pos',\n",
              "       'Neg', 'Neg', 'Neu', 'Neu', 'Neu', 'Pos', 'Neu', 'Pos', 'Neg',\n",
              "       'Neg', 'Neg', 'Pos', 'Pos', 'Pos', 'Neg', 'Neg', 'Neg', 'Neg',\n",
              "       'Pos', 'Neg', 'Neg', 'Neg', 'Neg', 'Neg', 'Neu', 'Neg', 'Neg',\n",
              "       'Neg', 'Neg', 'Neg', 'Neg', 'Pos', 'Neg', 'Neu', 'Pos', 'Neg',\n",
              "       'Neu', 'Pos', 'Neg', 'Neg', 'Neg', 'Neg', 'Neg', 'Neu', 'Neg',\n",
              "       'Pos', 'Neg', 'Neg', 'Neg', 'Neg', 'Pos', 'Pos', 'Pos', 'Neg',\n",
              "       'Neg', 'Neu', 'Neu', 'Neg', 'Neu', 'Neg', 'Neg', 'Pos', 'Neg',\n",
              "       'Neg', 'Neg', 'Neg', 'Neg', 'Neg', 'Neg', 'Pos', 'Neg', 'Neg',\n",
              "       'Neu', 'Neg', 'Neu', 'Neg', 'Neg', 'Neg', 'Neu', 'Pos', 'Pos',\n",
              "       'Neg', 'Neg', 'Neu', 'Neg', 'Neg', 'Neg', 'Neu', 'Neg', 'Neg',\n",
              "       'Neg', 'Neg', 'Neg', 'Neg', 'Neu', 'Neg', 'Neg', 'Pos', 'Neu',\n",
              "       'Neg', 'Neg', 'Pos', 'Neg', 'Neg', 'Neg', 'Pos', 'Neg', 'Neg',\n",
              "       'Neg', 'Pos', 'Neg', 'Neg', 'Neu', 'Neg', 'Neg', 'Neg', 'Neu',\n",
              "       'Pos', 'Neg', 'Neu', 'Neg', 'Neg', 'Neg', 'Neg', 'Pos', 'Neg',\n",
              "       'Neu', 'Neg', 'Pos', 'Neg', 'Neg', 'Neg', 'Neu', 'Neg', 'Neg',\n",
              "       'Neg', 'Pos', 'Neg', 'Pos', 'Pos', 'Neg', 'Neg', 'Neg', 'Pos',\n",
              "       'Neg', 'Neg', 'Pos', 'Neg', 'Neg', 'Neg', 'Neg', 'Neu', 'Neg',\n",
              "       'Neg', 'Neg', 'Neg', 'Neg', 'Neg', 'Neg', 'Neg', 'Neg', 'Neg',\n",
              "       'Pos', 'Pos', 'Neg', 'Neu', 'Neu', 'Neu', 'Neg', 'Neu', 'Neg',\n",
              "       'Neg', 'Neg', 'Neg', 'Neg', 'Pos', 'Neg', 'Neg', 'Neu', 'Neg',\n",
              "       'Neg', 'Pos', 'Neu', 'Neg', 'Neg', 'Neg', 'Neu', 'Neg', 'Neg',\n",
              "       'Neg', 'Neg', 'Neg', 'Neu', 'Neg', 'Pos', 'Neg', 'Neg', 'Neg',\n",
              "       'Neu', 'Neg', 'Neg', 'Neg'], dtype='<U3')"
            ]
          },
          "metadata": {},
          "execution_count": 89
        }
      ]
    },
    {
      "cell_type": "code",
      "source": [
        "new_pred=[]\n",
        "for x in predictions:\n",
        "    if x=='Pos':\n",
        "        new_pred.append([1,0,0])\n",
        "    if x=='Neu':\n",
        "        new_pred.append([0,1,0])\n",
        "    if x=='Neg':\n",
        "        new_pred.append([0,0,1])\n",
        "new_pred=np.array(new_pred)\n",
        "print(metrics.classification_report(Y_test,new_pred))"
      ],
      "metadata": {
        "colab": {
          "base_uri": "https://localhost:8080/"
        },
        "id": "eccmQ0kI6o-7",
        "outputId": "215f8e2d-03b1-47c1-880b-f1601b40981b"
      },
      "execution_count": 90,
      "outputs": [
        {
          "output_type": "stream",
          "name": "stdout",
          "text": [
            "              precision    recall  f1-score   support\n",
            "\n",
            "           0       0.04      0.04      0.04       134\n",
            "           1       0.07      0.06      0.06       127\n",
            "           2       0.95      0.99      0.97       499\n",
            "\n",
            "   micro avg       0.67      0.67      0.67       760\n",
            "   macro avg       0.35      0.36      0.36       760\n",
            "weighted avg       0.64      0.67      0.65       760\n",
            " samples avg       0.67      0.67      0.67       760\n",
            "\n"
          ]
        }
      ]
    },
    {
      "cell_type": "code",
      "source": [
        "acc_3=metrics.accuracy_score(Y_test,new_pred)\n",
        "acc_3"
      ],
      "metadata": {
        "colab": {
          "base_uri": "https://localhost:8080/"
        },
        "id": "U3eUQ5r96p74",
        "outputId": "8978d7f1-9516-4957-ec54-af87c98f7ed2"
      },
      "execution_count": 91,
      "outputs": [
        {
          "output_type": "execute_result",
          "data": {
            "text/plain": [
              "0.6657894736842105"
            ]
          },
          "metadata": {},
          "execution_count": 91
        }
      ]
    },
    {
      "cell_type": "markdown",
      "source": [
        "##  ModeL-4 LSTM\n",
        "max_features = 30000\n",
        "\n",
        "maxlen = 100\n",
        "\n",
        "embedding_size = 128\n",
        "\n",
        "EPochs=10"
      ],
      "metadata": {
        "id": "iHfmppph6t4O"
      }
    },
    {
      "cell_type": "code",
      "source": [
        "max_features = 30000\n",
        "\n",
        "maxlen = 100\n",
        "\n",
        "embedding_size = 128\n",
        "\n",
        "\n",
        "# Convolution\n",
        "kernel_size = 5\n",
        "filters = 64\n",
        "pool_size = 4\n",
        "\n",
        "# LSTM\n",
        "lstm_output_size = 70      # what is its impact\n",
        "\n",
        "# Training\n",
        "batch_size = 30\n",
        "epochs = 15\n",
        "\n",
        "model = Sequential()\n",
        "model.add(Embedding(max_features, embedding_size, input_length=maxlen))\n",
        "model.add(Dropout(0.25))\n",
        "model.add(Conv1D(filters, kernel_size, padding='valid', activation='relu', strides=1))\n",
        "model.add(MaxPooling1D(pool_size=pool_size))\n",
        "model.add(LSTM(lstm_output_size))\n",
        "model.add(Dense(3,activation='softmax'))\n",
        "model.compile(loss = 'categorical_crossentropy', optimizer='adam',metrics = ['accuracy'])\n",
        "print(model.summary())\n",
        "\n",
        "print('Train...')\n",
        "model_lstm=model.fit(X_train, Y_train, batch_size=batch_size, epochs=epochs,shuffle=True, validation_data=(X_test, Y_test))"
      ],
      "metadata": {
        "colab": {
          "base_uri": "https://localhost:8080/"
        },
        "id": "hsQwoO686tFk",
        "outputId": "892dbf8b-26e7-4848-946d-9b1b9495df80"
      },
      "execution_count": 92,
      "outputs": [
        {
          "output_type": "stream",
          "name": "stdout",
          "text": [
            "Model: \"sequential_16\"\n",
            "_________________________________________________________________\n",
            " Layer (type)                Output Shape              Param #   \n",
            "=================================================================\n",
            " embedding_15 (Embedding)    (None, 100, 128)          3840000   \n",
            "                                                                 \n",
            " dropout_9 (Dropout)         (None, 100, 128)          0         \n",
            "                                                                 \n",
            " conv1d_8 (Conv1D)           (None, 96, 64)            41024     \n",
            "                                                                 \n",
            " max_pooling1d_8 (MaxPoolin  (None, 24, 64)            0         \n",
            " g1D)                                                            \n",
            "                                                                 \n",
            " lstm_8 (LSTM)               (None, 70)                37800     \n",
            "                                                                 \n",
            " dense_8 (Dense)             (None, 3)                 213       \n",
            "                                                                 \n",
            "=================================================================\n",
            "Total params: 3919037 (14.95 MB)\n",
            "Trainable params: 3919037 (14.95 MB)\n",
            "Non-trainable params: 0 (0.00 Byte)\n",
            "_________________________________________________________________\n",
            "None\n",
            "Train...\n",
            "Epoch 1/15\n",
            "102/102 [==============================] - 9s 60ms/step - loss: 0.6794 - accuracy: 0.7020 - val_loss: 0.4859 - val_accuracy: 0.8474\n",
            "Epoch 2/15\n",
            "102/102 [==============================] - 5s 47ms/step - loss: 0.2788 - accuracy: 0.9125 - val_loss: 0.2534 - val_accuracy: 0.9132\n",
            "Epoch 3/15\n",
            "102/102 [==============================] - 7s 65ms/step - loss: 0.1370 - accuracy: 0.9549 - val_loss: 0.2216 - val_accuracy: 0.9303\n",
            "Epoch 4/15\n",
            "102/102 [==============================] - 5s 48ms/step - loss: 0.0765 - accuracy: 0.9753 - val_loss: 0.2480 - val_accuracy: 0.9368\n",
            "Epoch 5/15\n",
            "102/102 [==============================] - 5s 47ms/step - loss: 0.0475 - accuracy: 0.9836 - val_loss: 0.2644 - val_accuracy: 0.9329\n",
            "Epoch 6/15\n",
            "102/102 [==============================] - 6s 54ms/step - loss: 0.0281 - accuracy: 0.9921 - val_loss: 0.3024 - val_accuracy: 0.9316\n",
            "Epoch 7/15\n",
            "102/102 [==============================] - 5s 47ms/step - loss: 0.0224 - accuracy: 0.9931 - val_loss: 0.3126 - val_accuracy: 0.9276\n",
            "Epoch 8/15\n",
            "102/102 [==============================] - 6s 55ms/step - loss: 0.0128 - accuracy: 0.9967 - val_loss: 0.3438 - val_accuracy: 0.9263\n",
            "Epoch 9/15\n",
            "102/102 [==============================] - 5s 46ms/step - loss: 0.0085 - accuracy: 0.9977 - val_loss: 0.3725 - val_accuracy: 0.9237\n",
            "Epoch 10/15\n",
            "102/102 [==============================] - 5s 47ms/step - loss: 0.0145 - accuracy: 0.9967 - val_loss: 0.3812 - val_accuracy: 0.9250\n",
            "Epoch 11/15\n",
            "102/102 [==============================] - 5s 54ms/step - loss: 0.0064 - accuracy: 0.9970 - val_loss: 0.3658 - val_accuracy: 0.9197\n",
            "Epoch 12/15\n",
            "102/102 [==============================] - 5s 46ms/step - loss: 0.0057 - accuracy: 0.9977 - val_loss: 0.3823 - val_accuracy: 0.9329\n",
            "Epoch 13/15\n",
            "102/102 [==============================] - 5s 53ms/step - loss: 0.0022 - accuracy: 0.9997 - val_loss: 0.3943 - val_accuracy: 0.9276\n",
            "Epoch 14/15\n",
            "102/102 [==============================] - 5s 54ms/step - loss: 0.0022 - accuracy: 0.9993 - val_loss: 0.4552 - val_accuracy: 0.9224\n",
            "Epoch 15/15\n",
            "102/102 [==============================] - 5s 50ms/step - loss: 0.0035 - accuracy: 0.9997 - val_loss: 0.4317 - val_accuracy: 0.9276\n"
          ]
        }
      ]
    },
    {
      "cell_type": "code",
      "source": [
        "accr = model.evaluate(X_test,Y_test)\n",
        "print('Test set\\n  Loss: {:0.5f}\\n  Accuracy: {:0.3f}'.format(accr[0],accr[1]))"
      ],
      "metadata": {
        "colab": {
          "base_uri": "https://localhost:8080/"
        },
        "id": "j4884N0L6-L9",
        "outputId": "b75e4d46-d34d-4b59-8e33-3768687512dd"
      },
      "execution_count": 93,
      "outputs": [
        {
          "output_type": "stream",
          "name": "stdout",
          "text": [
            "24/24 [==============================] - 0s 7ms/step - loss: 0.4317 - accuracy: 0.9276\n",
            "Test set\n",
            "  Loss: 0.43169\n",
            "  Accuracy: 0.928\n"
          ]
        }
      ]
    },
    {
      "cell_type": "code",
      "source": [
        "predictions=[]\n",
        "pred = model.predict(X_test)\n",
        "for x in pred:\n",
        "    labels = ['Neu','Pos','Neg']\n",
        "    predictions.append(labels[np.argmax(x)])\n",
        "predictions=np.array(predictions)\n",
        "predictions"
      ],
      "metadata": {
        "colab": {
          "base_uri": "https://localhost:8080/"
        },
        "id": "U7tj6nVp7QEF",
        "outputId": "18a2c8cb-d4c7-410c-9a8e-f78708d32904"
      },
      "execution_count": 94,
      "outputs": [
        {
          "output_type": "stream",
          "name": "stdout",
          "text": [
            "24/24 [==============================] - 1s 10ms/step\n"
          ]
        },
        {
          "output_type": "execute_result",
          "data": {
            "text/plain": [
              "array(['Neg', 'Neg', 'Neu', 'Neg', 'Neg', 'Neg', 'Neu', 'Neg', 'Neg',\n",
              "       'Neg', 'Pos', 'Neg', 'Neu', 'Neg', 'Neu', 'Pos', 'Neg', 'Neg',\n",
              "       'Neg', 'Neg', 'Neg', 'Neg', 'Neg', 'Neg', 'Neg', 'Neg', 'Pos',\n",
              "       'Neg', 'Neg', 'Pos', 'Neg', 'Neu', 'Neg', 'Neg', 'Neg', 'Pos',\n",
              "       'Neg', 'Neg', 'Neg', 'Neg', 'Neg', 'Neg', 'Neg', 'Pos', 'Neg',\n",
              "       'Neg', 'Neg', 'Neu', 'Neg', 'Pos', 'Neg', 'Neg', 'Neg', 'Pos',\n",
              "       'Neg', 'Neu', 'Pos', 'Pos', 'Neg', 'Neu', 'Neu', 'Neu', 'Neg',\n",
              "       'Neg', 'Neu', 'Neg', 'Neg', 'Neg', 'Neg', 'Neg', 'Neg', 'Neg',\n",
              "       'Neg', 'Neu', 'Pos', 'Neg', 'Neg', 'Neg', 'Neg', 'Pos', 'Neg',\n",
              "       'Neg', 'Neg', 'Neg', 'Neg', 'Neu', 'Neg', 'Neg', 'Neg', 'Neg',\n",
              "       'Neg', 'Neg', 'Neg', 'Neu', 'Neg', 'Neu', 'Pos', 'Neu', 'Neg',\n",
              "       'Neg', 'Neg', 'Neg', 'Neg', 'Neu', 'Neu', 'Neg', 'Neu', 'Neu',\n",
              "       'Neu', 'Neg', 'Neg', 'Neg', 'Neg', 'Neu', 'Neg', 'Neu', 'Neg',\n",
              "       'Neu', 'Neg', 'Neg', 'Neg', 'Neg', 'Pos', 'Pos', 'Neg', 'Pos',\n",
              "       'Pos', 'Neg', 'Neg', 'Neg', 'Neg', 'Neg', 'Pos', 'Neg', 'Neg',\n",
              "       'Neg', 'Pos', 'Neg', 'Neg', 'Neg', 'Neg', 'Neu', 'Pos', 'Neg',\n",
              "       'Neg', 'Neu', 'Pos', 'Pos', 'Neu', 'Neg', 'Neg', 'Pos', 'Neg',\n",
              "       'Neg', 'Pos', 'Neg', 'Neu', 'Neg', 'Neu', 'Neg', 'Neu', 'Pos',\n",
              "       'Neg', 'Neg', 'Neg', 'Neg', 'Neg', 'Neu', 'Neg', 'Neu', 'Neg',\n",
              "       'Neg', 'Neg', 'Neu', 'Neg', 'Neg', 'Neg', 'Neg', 'Neg', 'Neg',\n",
              "       'Pos', 'Neg', 'Neu', 'Neg', 'Neg', 'Neg', 'Neg', 'Neg', 'Neg',\n",
              "       'Neu', 'Pos', 'Neg', 'Pos', 'Neg', 'Pos', 'Neg', 'Neg', 'Neg',\n",
              "       'Neg', 'Neg', 'Neg', 'Neu', 'Neg', 'Neg', 'Neg', 'Neg', 'Neu',\n",
              "       'Neg', 'Neg', 'Neg', 'Neg', 'Neg', 'Neu', 'Neg', 'Neg', 'Neg',\n",
              "       'Neu', 'Neg', 'Neg', 'Neu', 'Neg', 'Neu', 'Neg', 'Pos', 'Neu',\n",
              "       'Neg', 'Neg', 'Neg', 'Neu', 'Neg', 'Neg', 'Neg', 'Neg', 'Pos',\n",
              "       'Neu', 'Neg', 'Neu', 'Neg', 'Neg', 'Neg', 'Neg', 'Neg', 'Neg',\n",
              "       'Neg', 'Neu', 'Pos', 'Neg', 'Neg', 'Neg', 'Neg', 'Neu', 'Neu',\n",
              "       'Neg', 'Neg', 'Neg', 'Neg', 'Neu', 'Neg', 'Neg', 'Neg', 'Neu',\n",
              "       'Neg', 'Pos', 'Neu', 'Neg', 'Neg', 'Neg', 'Neg', 'Neu', 'Neg',\n",
              "       'Neg', 'Neg', 'Pos', 'Neu', 'Pos', 'Neg', 'Pos', 'Neg', 'Pos',\n",
              "       'Pos', 'Neg', 'Neu', 'Neg', 'Neu', 'Pos', 'Neg', 'Pos', 'Neg',\n",
              "       'Pos', 'Neg', 'Neg', 'Neg', 'Neu', 'Neg', 'Neg', 'Neg', 'Neg',\n",
              "       'Neg', 'Neg', 'Neg', 'Pos', 'Neg', 'Neu', 'Neg', 'Neg', 'Neg',\n",
              "       'Neg', 'Neg', 'Neg', 'Neg', 'Neg', 'Neu', 'Neu', 'Neg', 'Neg',\n",
              "       'Neg', 'Neg', 'Neg', 'Neg', 'Neg', 'Neu', 'Neg', 'Pos', 'Neg',\n",
              "       'Pos', 'Neu', 'Neg', 'Neg', 'Pos', 'Neg', 'Neg', 'Pos', 'Neg',\n",
              "       'Neg', 'Neg', 'Neg', 'Neg', 'Neu', 'Neg', 'Neg', 'Neu', 'Pos',\n",
              "       'Pos', 'Neu', 'Neg', 'Neg', 'Neg', 'Neg', 'Neg', 'Neg', 'Neu',\n",
              "       'Neg', 'Neg', 'Pos', 'Neg', 'Neg', 'Pos', 'Neg', 'Neg', 'Neg',\n",
              "       'Neg', 'Neg', 'Neg', 'Neg', 'Pos', 'Neg', 'Neg', 'Neg', 'Pos',\n",
              "       'Pos', 'Pos', 'Neg', 'Neu', 'Neg', 'Neg', 'Neu', 'Neg', 'Neu',\n",
              "       'Neg', 'Neg', 'Neg', 'Neg', 'Neg', 'Pos', 'Neg', 'Neg', 'Neg',\n",
              "       'Neu', 'Neu', 'Neg', 'Neg', 'Pos', 'Neg', 'Neg', 'Neg', 'Neg',\n",
              "       'Pos', 'Pos', 'Neu', 'Neg', 'Neu', 'Neg', 'Neu', 'Neg', 'Neg',\n",
              "       'Neg', 'Neg', 'Neg', 'Neg', 'Neg', 'Neg', 'Neg', 'Neg', 'Neg',\n",
              "       'Neg', 'Neu', 'Neg', 'Pos', 'Neg', 'Neg', 'Pos', 'Pos', 'Neg',\n",
              "       'Neg', 'Neg', 'Neg', 'Neg', 'Neg', 'Neg', 'Neu', 'Pos', 'Neg',\n",
              "       'Neg', 'Pos', 'Neg', 'Neu', 'Neg', 'Pos', 'Neg', 'Neg', 'Neg',\n",
              "       'Neg', 'Neg', 'Pos', 'Neg', 'Neg', 'Pos', 'Neg', 'Neg', 'Neu',\n",
              "       'Neg', 'Neg', 'Neu', 'Neg', 'Neg', 'Pos', 'Neg', 'Neg', 'Neg',\n",
              "       'Neg', 'Neg', 'Neg', 'Neg', 'Neg', 'Neg', 'Neg', 'Neg', 'Neg',\n",
              "       'Neg', 'Neu', 'Neu', 'Neg', 'Neg', 'Pos', 'Neg', 'Neg', 'Neu',\n",
              "       'Neg', 'Neu', 'Pos', 'Neg', 'Neg', 'Pos', 'Neg', 'Neg', 'Neg',\n",
              "       'Neu', 'Neg', 'Neg', 'Neg', 'Neg', 'Neg', 'Neg', 'Neu', 'Neu',\n",
              "       'Neu', 'Neg', 'Neg', 'Neg', 'Neg', 'Neg', 'Neg', 'Neg', 'Neu',\n",
              "       'Neg', 'Neg', 'Neg', 'Neg', 'Neg', 'Neg', 'Neg', 'Pos', 'Neg',\n",
              "       'Neg', 'Pos', 'Neg', 'Neg', 'Neg', 'Pos', 'Neg', 'Pos', 'Neu',\n",
              "       'Neg', 'Neg', 'Neg', 'Neg', 'Neg', 'Neg', 'Neg', 'Neg', 'Neg',\n",
              "       'Neg', 'Neg', 'Neg', 'Neg', 'Neg', 'Neg', 'Pos', 'Neg', 'Neg',\n",
              "       'Pos', 'Neg', 'Pos', 'Neg', 'Neg', 'Neg', 'Neg', 'Pos', 'Neg',\n",
              "       'Neu', 'Neg', 'Pos', 'Neg', 'Neg', 'Neu', 'Pos', 'Neg', 'Pos',\n",
              "       'Neg', 'Neg', 'Neu', 'Neu', 'Neu', 'Pos', 'Neu', 'Pos', 'Neg',\n",
              "       'Neg', 'Neg', 'Neu', 'Neu', 'Pos', 'Neg', 'Neg', 'Neg', 'Neg',\n",
              "       'Pos', 'Neg', 'Neg', 'Neg', 'Neu', 'Neg', 'Neu', 'Neg', 'Neg',\n",
              "       'Neg', 'Neg', 'Neg', 'Neg', 'Pos', 'Neg', 'Neu', 'Neu', 'Neg',\n",
              "       'Neu', 'Pos', 'Neg', 'Neg', 'Neu', 'Neg', 'Neg', 'Neu', 'Neg',\n",
              "       'Pos', 'Neg', 'Neg', 'Neu', 'Neg', 'Pos', 'Pos', 'Pos', 'Neg',\n",
              "       'Neg', 'Neg', 'Neu', 'Neg', 'Neu', 'Neg', 'Neu', 'Pos', 'Neg',\n",
              "       'Neg', 'Neg', 'Neg', 'Neg', 'Neg', 'Neg', 'Neu', 'Neg', 'Neg',\n",
              "       'Neu', 'Neg', 'Neu', 'Neg', 'Neg', 'Neg', 'Neu', 'Pos', 'Pos',\n",
              "       'Neg', 'Neg', 'Neu', 'Neg', 'Neg', 'Neg', 'Neg', 'Neg', 'Neg',\n",
              "       'Neg', 'Neg', 'Neg', 'Neg', 'Neu', 'Neg', 'Neg', 'Pos', 'Neu',\n",
              "       'Neu', 'Neg', 'Pos', 'Neg', 'Neg', 'Neg', 'Pos', 'Neg', 'Neg',\n",
              "       'Neg', 'Pos', 'Neg', 'Neg', 'Neu', 'Neg', 'Neg', 'Neg', 'Neu',\n",
              "       'Pos', 'Neg', 'Neu', 'Neg', 'Neg', 'Neg', 'Neg', 'Pos', 'Neg',\n",
              "       'Neu', 'Neg', 'Pos', 'Neg', 'Neu', 'Neg', 'Neu', 'Neg', 'Neg',\n",
              "       'Neg', 'Pos', 'Neg', 'Pos', 'Pos', 'Neg', 'Neg', 'Neg', 'Neu',\n",
              "       'Neg', 'Neg', 'Pos', 'Neg', 'Neg', 'Neg', 'Neg', 'Neu', 'Neg',\n",
              "       'Neg', 'Neg', 'Neg', 'Neg', 'Neg', 'Neg', 'Neg', 'Neg', 'Neg',\n",
              "       'Pos', 'Pos', 'Neg', 'Neu', 'Neu', 'Neu', 'Neg', 'Neu', 'Neg',\n",
              "       'Neg', 'Neu', 'Neg', 'Neg', 'Pos', 'Neg', 'Neg', 'Neg', 'Neg',\n",
              "       'Neg', 'Pos', 'Neu', 'Neg', 'Neg', 'Neg', 'Neg', 'Neg', 'Neg',\n",
              "       'Neg', 'Neg', 'Neg', 'Neu', 'Neg', 'Pos', 'Neu', 'Neg', 'Neg',\n",
              "       'Neu', 'Neg', 'Neg', 'Neg'], dtype='<U3')"
            ]
          },
          "metadata": {},
          "execution_count": 94
        }
      ]
    },
    {
      "cell_type": "code",
      "source": [
        "new_pred=[]\n",
        "for x in predictions:\n",
        "    if x=='Pos':\n",
        "        new_pred.append([1,0,0])\n",
        "    if x=='Neu':\n",
        "        new_pred.append([0,1,0])\n",
        "    if x=='Neg':\n",
        "        new_pred.append([0,0,1])\n",
        "new_pred=np.array(new_pred)\n",
        "print(metrics.classification_report(Y_test,new_pred))"
      ],
      "metadata": {
        "colab": {
          "base_uri": "https://localhost:8080/"
        },
        "id": "jJk9MrO47XkN",
        "outputId": "fbe9cbff-e6b8-45c1-f49a-e6b6d1f0650b"
      },
      "execution_count": 95,
      "outputs": [
        {
          "output_type": "stream",
          "name": "stdout",
          "text": [
            "              precision    recall  f1-score   support\n",
            "\n",
            "           0       0.03      0.02      0.02       134\n",
            "           1       0.10      0.10      0.10       127\n",
            "           2       0.94      0.98      0.96       499\n",
            "\n",
            "   micro avg       0.66      0.66      0.66       760\n",
            "   macro avg       0.36      0.37      0.36       760\n",
            "weighted avg       0.64      0.66      0.65       760\n",
            " samples avg       0.66      0.66      0.66       760\n",
            "\n"
          ]
        }
      ]
    },
    {
      "cell_type": "code",
      "source": [
        "acc_4=metrics.accuracy_score(Y_test,new_pred)\n",
        "acc_4"
      ],
      "metadata": {
        "colab": {
          "base_uri": "https://localhost:8080/"
        },
        "id": "1frs9W9B7dKe",
        "outputId": "80ad4349-f62c-460d-cd44-792f04ffdd8d"
      },
      "execution_count": 96,
      "outputs": [
        {
          "output_type": "execute_result",
          "data": {
            "text/plain": [
              "0.6644736842105263"
            ]
          },
          "metadata": {},
          "execution_count": 96
        }
      ]
    },
    {
      "cell_type": "markdown",
      "source": [
        "##  ModeL-5 LSTM\n",
        "max_features = 40000\n",
        "\n",
        "maxlen = 100\n",
        "\n",
        "embedding_size = 128\n",
        "\n",
        "EPochs=15"
      ],
      "metadata": {
        "id": "x0Xd37u07jdS"
      }
    },
    {
      "cell_type": "code",
      "source": [
        "max_features = 40000\n",
        "\n",
        "maxlen = 100\n",
        "\n",
        "embedding_size = 128\n",
        "\n",
        "\n",
        "# Convolution\n",
        "kernel_size = 5\n",
        "filters = 64\n",
        "pool_size = 4\n",
        "\n",
        "# LSTM\n",
        "lstm_output_size = 70      # what is its impact\n",
        "\n",
        "# Training\n",
        "batch_size = 30\n",
        "epochs = 15\n",
        "\n",
        "model = Sequential()\n",
        "model.add(Embedding(max_features, embedding_size, input_length=maxlen))\n",
        "model.add(Dropout(0.25))\n",
        "model.add(Conv1D(filters, kernel_size, padding='valid', activation='relu', strides=1))\n",
        "model.add(MaxPooling1D(pool_size=pool_size))\n",
        "model.add(LSTM(lstm_output_size))\n",
        "model.add(Dense(3,activation='softmax'))\n",
        "model.compile(loss = 'categorical_crossentropy', optimizer='adam',metrics = ['accuracy'])\n",
        "print(model.summary())\n",
        "\n",
        "print('Train...')\n",
        "model_lstm=model.fit(X_train, Y_train, batch_size=batch_size, epochs=epochs,shuffle=True, validation_data=(X_test, Y_test))"
      ],
      "metadata": {
        "colab": {
          "base_uri": "https://localhost:8080/"
        },
        "id": "ew_RCTWc7naj",
        "outputId": "1a930481-46f1-4c6e-e1e4-1aea74287fa6"
      },
      "execution_count": 97,
      "outputs": [
        {
          "output_type": "stream",
          "name": "stdout",
          "text": [
            "Model: \"sequential_17\"\n",
            "_________________________________________________________________\n",
            " Layer (type)                Output Shape              Param #   \n",
            "=================================================================\n",
            " embedding_16 (Embedding)    (None, 100, 128)          5120000   \n",
            "                                                                 \n",
            " dropout_10 (Dropout)        (None, 100, 128)          0         \n",
            "                                                                 \n",
            " conv1d_9 (Conv1D)           (None, 96, 64)            41024     \n",
            "                                                                 \n",
            " max_pooling1d_9 (MaxPoolin  (None, 24, 64)            0         \n",
            " g1D)                                                            \n",
            "                                                                 \n",
            " lstm_9 (LSTM)               (None, 70)                37800     \n",
            "                                                                 \n",
            " dense_9 (Dense)             (None, 3)                 213       \n",
            "                                                                 \n",
            "=================================================================\n",
            "Total params: 5199037 (19.83 MB)\n",
            "Trainable params: 5199037 (19.83 MB)\n",
            "Non-trainable params: 0 (0.00 Byte)\n",
            "_________________________________________________________________\n",
            "None\n",
            "Train...\n",
            "Epoch 1/15\n",
            "102/102 [==============================] - 11s 71ms/step - loss: 0.6717 - accuracy: 0.7204 - val_loss: 0.4464 - val_accuracy: 0.8737\n",
            "Epoch 2/15\n",
            "102/102 [==============================] - 6s 56ms/step - loss: 0.2580 - accuracy: 0.9194 - val_loss: 0.2436 - val_accuracy: 0.9237\n",
            "Epoch 3/15\n",
            "102/102 [==============================] - 7s 68ms/step - loss: 0.1258 - accuracy: 0.9589 - val_loss: 0.2289 - val_accuracy: 0.9237\n",
            "Epoch 4/15\n",
            "102/102 [==============================] - 6s 57ms/step - loss: 0.0823 - accuracy: 0.9750 - val_loss: 0.2576 - val_accuracy: 0.9145\n",
            "Epoch 5/15\n",
            "102/102 [==============================] - 6s 62ms/step - loss: 0.0582 - accuracy: 0.9826 - val_loss: 0.3001 - val_accuracy: 0.9237\n",
            "Epoch 6/15\n",
            "102/102 [==============================] - 6s 55ms/step - loss: 0.0253 - accuracy: 0.9937 - val_loss: 0.3292 - val_accuracy: 0.9289\n",
            "Epoch 7/15\n",
            "102/102 [==============================] - 6s 59ms/step - loss: 0.0195 - accuracy: 0.9944 - val_loss: 0.3584 - val_accuracy: 0.9250\n",
            "Epoch 8/15\n",
            "102/102 [==============================] - 6s 59ms/step - loss: 0.0137 - accuracy: 0.9964 - val_loss: 0.3814 - val_accuracy: 0.9197\n",
            "Epoch 9/15\n",
            "102/102 [==============================] - 6s 56ms/step - loss: 0.0094 - accuracy: 0.9977 - val_loss: 0.3901 - val_accuracy: 0.9316\n",
            "Epoch 10/15\n",
            "102/102 [==============================] - 6s 62ms/step - loss: 0.0087 - accuracy: 0.9977 - val_loss: 0.3680 - val_accuracy: 0.9368\n",
            "Epoch 11/15\n",
            "102/102 [==============================] - 6s 54ms/step - loss: 0.0062 - accuracy: 0.9980 - val_loss: 0.3499 - val_accuracy: 0.9355\n",
            "Epoch 12/15\n",
            "102/102 [==============================] - 6s 62ms/step - loss: 0.0065 - accuracy: 0.9977 - val_loss: 0.4270 - val_accuracy: 0.9250\n",
            "Epoch 13/15\n",
            "102/102 [==============================] - 6s 56ms/step - loss: 0.0054 - accuracy: 0.9984 - val_loss: 0.4014 - val_accuracy: 0.9289\n",
            "Epoch 14/15\n",
            "102/102 [==============================] - 6s 62ms/step - loss: 0.0099 - accuracy: 0.9977 - val_loss: 0.4184 - val_accuracy: 0.9237\n",
            "Epoch 15/15\n",
            "102/102 [==============================] - 8s 74ms/step - loss: 0.0066 - accuracy: 0.9984 - val_loss: 0.4934 - val_accuracy: 0.9158\n"
          ]
        }
      ]
    },
    {
      "cell_type": "code",
      "source": [
        "accr = model.evaluate(X_test,Y_test)\n",
        "print('Test set\\n  Loss: {:0.5f}\\n  Accuracy: {:0.3f}'.format(accr[0],accr[1]))"
      ],
      "metadata": {
        "colab": {
          "base_uri": "https://localhost:8080/"
        },
        "id": "t9MupucD7s2z",
        "outputId": "95f65963-34f2-4f47-aef9-8e7d8f8b7e3a"
      },
      "execution_count": 98,
      "outputs": [
        {
          "output_type": "stream",
          "name": "stdout",
          "text": [
            "24/24 [==============================] - 0s 10ms/step - loss: 0.4934 - accuracy: 0.9158\n",
            "Test set\n",
            "  Loss: 0.49343\n",
            "  Accuracy: 0.916\n"
          ]
        }
      ]
    },
    {
      "cell_type": "code",
      "source": [
        "predictions=[]\n",
        "pred = model.predict(X_test)\n",
        "for x in pred:\n",
        "    labels = ['Neu','Pos','Neg']\n",
        "    predictions.append(labels[np.argmax(x)])\n",
        "predictions=np.array(predictions)\n",
        "predictions"
      ],
      "metadata": {
        "colab": {
          "base_uri": "https://localhost:8080/"
        },
        "id": "cJKOlMnL8Fiq",
        "outputId": "2e49eea3-0bcf-483f-df10-6521bcd7b15d"
      },
      "execution_count": 99,
      "outputs": [
        {
          "output_type": "stream",
          "name": "stdout",
          "text": [
            "24/24 [==============================] - 1s 9ms/step\n"
          ]
        },
        {
          "output_type": "execute_result",
          "data": {
            "text/plain": [
              "array(['Neg', 'Neg', 'Neg', 'Neg', 'Neg', 'Neg', 'Neu', 'Neg', 'Neg',\n",
              "       'Neg', 'Pos', 'Neg', 'Neu', 'Neg', 'Neu', 'Neu', 'Neg', 'Neg',\n",
              "       'Neg', 'Neg', 'Neg', 'Neg', 'Neg', 'Neg', 'Neg', 'Neg', 'Pos',\n",
              "       'Neg', 'Neg', 'Pos', 'Neg', 'Neu', 'Neg', 'Neg', 'Neg', 'Pos',\n",
              "       'Neg', 'Neg', 'Neg', 'Neg', 'Neg', 'Neg', 'Neg', 'Pos', 'Neg',\n",
              "       'Neg', 'Neg', 'Neu', 'Neg', 'Pos', 'Neg', 'Neg', 'Neg', 'Pos',\n",
              "       'Neg', 'Neu', 'Pos', 'Pos', 'Neg', 'Neu', 'Neu', 'Neu', 'Neg',\n",
              "       'Neg', 'Neu', 'Neg', 'Neg', 'Neg', 'Neg', 'Neg', 'Neg', 'Neg',\n",
              "       'Neg', 'Neg', 'Pos', 'Neg', 'Neg', 'Neg', 'Neg', 'Pos', 'Neg',\n",
              "       'Neg', 'Neg', 'Neg', 'Neg', 'Neg', 'Neg', 'Neg', 'Neg', 'Neg',\n",
              "       'Neg', 'Neg', 'Neg', 'Neu', 'Neg', 'Neu', 'Neu', 'Neu', 'Neg',\n",
              "       'Neg', 'Neg', 'Neg', 'Neg', 'Neu', 'Neu', 'Neg', 'Neg', 'Neu',\n",
              "       'Neu', 'Neg', 'Neg', 'Neg', 'Neg', 'Neu', 'Neg', 'Neu', 'Neg',\n",
              "       'Neu', 'Neg', 'Neg', 'Neg', 'Neg', 'Pos', 'Pos', 'Neg', 'Pos',\n",
              "       'Pos', 'Neg', 'Neg', 'Neg', 'Neg', 'Pos', 'Pos', 'Neg', 'Neg',\n",
              "       'Neg', 'Pos', 'Neg', 'Neg', 'Neg', 'Neg', 'Neu', 'Pos', 'Neg',\n",
              "       'Neg', 'Neu', 'Pos', 'Pos', 'Neu', 'Neg', 'Neg', 'Pos', 'Neg',\n",
              "       'Neg', 'Pos', 'Neg', 'Neu', 'Neg', 'Neu', 'Neg', 'Neu', 'Pos',\n",
              "       'Neg', 'Neg', 'Neg', 'Neg', 'Neg', 'Neu', 'Neg', 'Neu', 'Neg',\n",
              "       'Neg', 'Neg', 'Neu', 'Neg', 'Neg', 'Neg', 'Neg', 'Neg', 'Neg',\n",
              "       'Pos', 'Neg', 'Neg', 'Neg', 'Neg', 'Neg', 'Neg', 'Neg', 'Neg',\n",
              "       'Neu', 'Pos', 'Neg', 'Pos', 'Neg', 'Pos', 'Neg', 'Neg', 'Neg',\n",
              "       'Neg', 'Neg', 'Neg', 'Neu', 'Neg', 'Neg', 'Neg', 'Neg', 'Neu',\n",
              "       'Neg', 'Neg', 'Neg', 'Neg', 'Neg', 'Neu', 'Neg', 'Neg', 'Neg',\n",
              "       'Neu', 'Neg', 'Neg', 'Neu', 'Neg', 'Neu', 'Neg', 'Pos', 'Neu',\n",
              "       'Neg', 'Neg', 'Neg', 'Neu', 'Neg', 'Neg', 'Neg', 'Neg', 'Pos',\n",
              "       'Neu', 'Neg', 'Neu', 'Neg', 'Neg', 'Neg', 'Neg', 'Neg', 'Neg',\n",
              "       'Neg', 'Neu', 'Pos', 'Neg', 'Neg', 'Neg', 'Neg', 'Neu', 'Neu',\n",
              "       'Neg', 'Neg', 'Neg', 'Neg', 'Neg', 'Neg', 'Neg', 'Neg', 'Neg',\n",
              "       'Neg', 'Pos', 'Neu', 'Neg', 'Neg', 'Neg', 'Neg', 'Neu', 'Neg',\n",
              "       'Neg', 'Neg', 'Pos', 'Neu', 'Pos', 'Neg', 'Pos', 'Neg', 'Pos',\n",
              "       'Neu', 'Neg', 'Neu', 'Neg', 'Neu', 'Neu', 'Neg', 'Pos', 'Neg',\n",
              "       'Pos', 'Neg', 'Neg', 'Neg', 'Neu', 'Neg', 'Neg', 'Neg', 'Neg',\n",
              "       'Neg', 'Neg', 'Neg', 'Pos', 'Neg', 'Neu', 'Neg', 'Neg', 'Neg',\n",
              "       'Neg', 'Neg', 'Neg', 'Neg', 'Neg', 'Neu', 'Neu', 'Neg', 'Neg',\n",
              "       'Neg', 'Neg', 'Neg', 'Neg', 'Neg', 'Neu', 'Neg', 'Pos', 'Neg',\n",
              "       'Pos', 'Neu', 'Neg', 'Neg', 'Pos', 'Neg', 'Neg', 'Neu', 'Neg',\n",
              "       'Neg', 'Neg', 'Neg', 'Neg', 'Neu', 'Neg', 'Neg', 'Neu', 'Pos',\n",
              "       'Pos', 'Neg', 'Neg', 'Neg', 'Neg', 'Neg', 'Neg', 'Neg', 'Neu',\n",
              "       'Neg', 'Neg', 'Pos', 'Neg', 'Neg', 'Pos', 'Neg', 'Neg', 'Neg',\n",
              "       'Neg', 'Neg', 'Neg', 'Neg', 'Neu', 'Neu', 'Neg', 'Neg', 'Neu',\n",
              "       'Pos', 'Pos', 'Neg', 'Pos', 'Neg', 'Neg', 'Neu', 'Neg', 'Neu',\n",
              "       'Neg', 'Neg', 'Neg', 'Neg', 'Neg', 'Pos', 'Neg', 'Neg', 'Neg',\n",
              "       'Neu', 'Neu', 'Neg', 'Neg', 'Pos', 'Neg', 'Neg', 'Neg', 'Neg',\n",
              "       'Pos', 'Pos', 'Neu', 'Neg', 'Neu', 'Neg', 'Neu', 'Neg', 'Neg',\n",
              "       'Neg', 'Neg', 'Neg', 'Neg', 'Neg', 'Neg', 'Neg', 'Neg', 'Neg',\n",
              "       'Neg', 'Neu', 'Neg', 'Pos', 'Neg', 'Neg', 'Pos', 'Pos', 'Neg',\n",
              "       'Neg', 'Neg', 'Neg', 'Neg', 'Neg', 'Neg', 'Neu', 'Pos', 'Neg',\n",
              "       'Neg', 'Neu', 'Neg', 'Neu', 'Neg', 'Pos', 'Neg', 'Neg', 'Neg',\n",
              "       'Neg', 'Neg', 'Pos', 'Neg', 'Neg', 'Pos', 'Neg', 'Neg', 'Neu',\n",
              "       'Neg', 'Neg', 'Neu', 'Neg', 'Neg', 'Pos', 'Neg', 'Neg', 'Neg',\n",
              "       'Neg', 'Neg', 'Neg', 'Neg', 'Neg', 'Neg', 'Neg', 'Neg', 'Neg',\n",
              "       'Neg', 'Neu', 'Neu', 'Neg', 'Neg', 'Pos', 'Neg', 'Neg', 'Neu',\n",
              "       'Neg', 'Neu', 'Pos', 'Neg', 'Neg', 'Pos', 'Neg', 'Neg', 'Neg',\n",
              "       'Neu', 'Neg', 'Neg', 'Neg', 'Neg', 'Neg', 'Neg', 'Neu', 'Neu',\n",
              "       'Pos', 'Neg', 'Neg', 'Neg', 'Neg', 'Neg', 'Neg', 'Neg', 'Neu',\n",
              "       'Neg', 'Neg', 'Neg', 'Neg', 'Neg', 'Neg', 'Neg', 'Pos', 'Neg',\n",
              "       'Neg', 'Pos', 'Neg', 'Neg', 'Neg', 'Pos', 'Neg', 'Pos', 'Neg',\n",
              "       'Neg', 'Neg', 'Neg', 'Neg', 'Neg', 'Neg', 'Neg', 'Neg', 'Neg',\n",
              "       'Neg', 'Neg', 'Neg', 'Neg', 'Neg', 'Neg', 'Pos', 'Neg', 'Neg',\n",
              "       'Pos', 'Neg', 'Neu', 'Neg', 'Neg', 'Neg', 'Neg', 'Pos', 'Neg',\n",
              "       'Neu', 'Neg', 'Pos', 'Neg', 'Neg', 'Neu', 'Pos', 'Neg', 'Pos',\n",
              "       'Neg', 'Neg', 'Neu', 'Neu', 'Neu', 'Pos', 'Neu', 'Pos', 'Neg',\n",
              "       'Neg', 'Neg', 'Neu', 'Neu', 'Pos', 'Neg', 'Neg', 'Neg', 'Neg',\n",
              "       'Pos', 'Neg', 'Neg', 'Neg', 'Neg', 'Neg', 'Neu', 'Neg', 'Neg',\n",
              "       'Neg', 'Neg', 'Neg', 'Neg', 'Pos', 'Neg', 'Neu', 'Neu', 'Neg',\n",
              "       'Neu', 'Pos', 'Neg', 'Neg', 'Neu', 'Neg', 'Neg', 'Neu', 'Neg',\n",
              "       'Pos', 'Neg', 'Neg', 'Neg', 'Neg', 'Pos', 'Pos', 'Pos', 'Neg',\n",
              "       'Neg', 'Neg', 'Neu', 'Neg', 'Neu', 'Neg', 'Neu', 'Pos', 'Neg',\n",
              "       'Neg', 'Neg', 'Neg', 'Neg', 'Neg', 'Neg', 'Neu', 'Neg', 'Neg',\n",
              "       'Neu', 'Neg', 'Neu', 'Neg', 'Neg', 'Neg', 'Neu', 'Pos', 'Pos',\n",
              "       'Neg', 'Neg', 'Neu', 'Neg', 'Neg', 'Neg', 'Neu', 'Neg', 'Neg',\n",
              "       'Neg', 'Neg', 'Neg', 'Neg', 'Neu', 'Neg', 'Neg', 'Pos', 'Neu',\n",
              "       'Neu', 'Neg', 'Pos', 'Neg', 'Neg', 'Neg', 'Pos', 'Neg', 'Neg',\n",
              "       'Neg', 'Pos', 'Neg', 'Neg', 'Neu', 'Neg', 'Neg', 'Neg', 'Neu',\n",
              "       'Pos', 'Neg', 'Neu', 'Neg', 'Neg', 'Neg', 'Neg', 'Pos', 'Neg',\n",
              "       'Neu', 'Neg', 'Pos', 'Neg', 'Neu', 'Neg', 'Neu', 'Neg', 'Neg',\n",
              "       'Neg', 'Pos', 'Neg', 'Pos', 'Pos', 'Neg', 'Neg', 'Neg', 'Neu',\n",
              "       'Neg', 'Neg', 'Pos', 'Neg', 'Neg', 'Neg', 'Neg', 'Neu', 'Neg',\n",
              "       'Neg', 'Neg', 'Neg', 'Neg', 'Neg', 'Neg', 'Neg', 'Neg', 'Neg',\n",
              "       'Pos', 'Pos', 'Neg', 'Neu', 'Neu', 'Neu', 'Neg', 'Neu', 'Neg',\n",
              "       'Neg', 'Neg', 'Neg', 'Neg', 'Pos', 'Neg', 'Neg', 'Neg', 'Neg',\n",
              "       'Neg', 'Pos', 'Neu', 'Neg', 'Neg', 'Neg', 'Neu', 'Neg', 'Neg',\n",
              "       'Neg', 'Neg', 'Neg', 'Neu', 'Neg', 'Pos', 'Neu', 'Neg', 'Neg',\n",
              "       'Neu', 'Neg', 'Neg', 'Neg'], dtype='<U3')"
            ]
          },
          "metadata": {},
          "execution_count": 99
        }
      ]
    },
    {
      "cell_type": "code",
      "source": [
        "new_pred=[]\n",
        "for x in predictions:\n",
        "    if x=='Pos':\n",
        "        new_pred.append([1,0,0])\n",
        "    if x=='Neu':\n",
        "        new_pred.append([0,1,0])\n",
        "    if x=='Neg':\n",
        "        new_pred.append([0,0,1])\n",
        "new_pred=np.array(new_pred)\n",
        "print(metrics.classification_report(Y_test,new_pred))"
      ],
      "metadata": {
        "colab": {
          "base_uri": "https://localhost:8080/"
        },
        "id": "QVNsCEzG8KWd",
        "outputId": "14f41851-7ce3-4834-821f-11867c80b3fb"
      },
      "execution_count": 100,
      "outputs": [
        {
          "output_type": "stream",
          "name": "stdout",
          "text": [
            "              precision    recall  f1-score   support\n",
            "\n",
            "           0       0.03      0.02      0.03       134\n",
            "           1       0.17      0.17      0.17       127\n",
            "           2       0.94      0.99      0.96       499\n",
            "\n",
            "   micro avg       0.68      0.68      0.68       760\n",
            "   macro avg       0.38      0.39      0.39       760\n",
            "weighted avg       0.65      0.68      0.66       760\n",
            " samples avg       0.68      0.68      0.68       760\n",
            "\n"
          ]
        }
      ]
    },
    {
      "cell_type": "code",
      "source": [
        "acc_5=metrics.accuracy_score(Y_test,new_pred)\n",
        "acc_5"
      ],
      "metadata": {
        "colab": {
          "base_uri": "https://localhost:8080/"
        },
        "id": "9_8Hf5Ek8QMh",
        "outputId": "9e09d808-a1d6-4370-bbd0-8b50c620a32f"
      },
      "execution_count": 101,
      "outputs": [
        {
          "output_type": "execute_result",
          "data": {
            "text/plain": [
              "0.6815789473684211"
            ]
          },
          "metadata": {},
          "execution_count": 101
        }
      ]
    },
    {
      "cell_type": "markdown",
      "source": [
        "##  ModeL-6 LSTM\n",
        "max_features = 45000\n",
        "\n",
        "maxlen = 100\n",
        "\n",
        "embedding_size = 128\n",
        "\n",
        "EPochs=15\n",
        "\n",
        "test_size=30%"
      ],
      "metadata": {
        "id": "aK2iNeBh8XIz"
      }
    },
    {
      "cell_type": "code",
      "source": [
        "Y = pd.get_dummies(df['label']).values\n",
        "X_train, X_test, Y_train, Y_test = train_test_split(X,Y, test_size = 0.30, random_state = 42)\n",
        "print(X_train.shape,Y_train.shape)\n",
        "print(X_test.shape,Y_test.shape)"
      ],
      "metadata": {
        "colab": {
          "base_uri": "https://localhost:8080/"
        },
        "id": "RrPxbeX-8ahi",
        "outputId": "f443ddad-e6f6-480a-f763-0ef62e1570a0"
      },
      "execution_count": 103,
      "outputs": [
        {
          "output_type": "stream",
          "name": "stdout",
          "text": [
            "(2660, 100) (2660, 3)\n",
            "(1140, 100) (1140, 3)\n"
          ]
        }
      ]
    },
    {
      "cell_type": "code",
      "source": [
        "max_features = 30000\n",
        "\n",
        "maxlen = 100\n",
        "\n",
        "embedding_size = 128\n",
        "\n",
        "\n",
        "# Convolution\n",
        "kernel_size = 5\n",
        "filters = 64\n",
        "pool_size = 4\n",
        "\n",
        "# LSTM\n",
        "lstm_output_size = 70      # what is its impact\n",
        "\n",
        "# Training\n",
        "batch_size = 30\n",
        "epochs = 15\n",
        "\n",
        "model = Sequential()\n",
        "model.add(Embedding(max_features, embedding_size, input_length=maxlen))\n",
        "model.add(Dropout(0.25))\n",
        "model.add(Conv1D(filters, kernel_size, padding='valid', activation='relu', strides=1))\n",
        "model.add(MaxPooling1D(pool_size=pool_size))\n",
        "model.add(LSTM(lstm_output_size))\n",
        "model.add(Dense(3,activation='softmax'))\n",
        "model.compile(loss = 'categorical_crossentropy', optimizer='adam',metrics = ['accuracy'])\n",
        "print(model.summary())\n",
        "\n",
        "print('Train...')\n",
        "model_lstm=model.fit(X_train, Y_train, batch_size=batch_size, epochs=epochs,shuffle=True, validation_data=(X_test, Y_test))"
      ],
      "metadata": {
        "colab": {
          "base_uri": "https://localhost:8080/"
        },
        "id": "8PYss0b08fkj",
        "outputId": "bd5d366e-3424-40ba-a4dd-382cbc4f730b"
      },
      "execution_count": 105,
      "outputs": [
        {
          "output_type": "stream",
          "name": "stdout",
          "text": [
            "Model: \"sequential_19\"\n",
            "_________________________________________________________________\n",
            " Layer (type)                Output Shape              Param #   \n",
            "=================================================================\n",
            " embedding_18 (Embedding)    (None, 100, 128)          3840000   \n",
            "                                                                 \n",
            " dropout_12 (Dropout)        (None, 100, 128)          0         \n",
            "                                                                 \n",
            " conv1d_11 (Conv1D)          (None, 96, 64)            41024     \n",
            "                                                                 \n",
            " max_pooling1d_11 (MaxPooli  (None, 24, 64)            0         \n",
            " ng1D)                                                           \n",
            "                                                                 \n",
            " lstm_11 (LSTM)              (None, 70)                37800     \n",
            "                                                                 \n",
            " dense_11 (Dense)            (None, 3)                 213       \n",
            "                                                                 \n",
            "=================================================================\n",
            "Total params: 3919037 (14.95 MB)\n",
            "Trainable params: 3919037 (14.95 MB)\n",
            "Non-trainable params: 0 (0.00 Byte)\n",
            "_________________________________________________________________\n",
            "None\n",
            "Train...\n",
            "Epoch 1/15\n",
            "89/89 [==============================] - 8s 52ms/step - loss: 0.7349 - accuracy: 0.6789 - val_loss: 0.5405 - val_accuracy: 0.7360\n",
            "Epoch 2/15\n",
            "89/89 [==============================] - 4s 46ms/step - loss: 0.3318 - accuracy: 0.8816 - val_loss: 0.2683 - val_accuracy: 0.9184\n",
            "Epoch 3/15\n",
            "89/89 [==============================] - 5s 54ms/step - loss: 0.1394 - accuracy: 0.9556 - val_loss: 0.2506 - val_accuracy: 0.9254\n",
            "Epoch 4/15\n",
            "89/89 [==============================] - 4s 47ms/step - loss: 0.0764 - accuracy: 0.9759 - val_loss: 0.2909 - val_accuracy: 0.9158\n",
            "Epoch 5/15\n",
            "89/89 [==============================] - 4s 46ms/step - loss: 0.0447 - accuracy: 0.9846 - val_loss: 0.3006 - val_accuracy: 0.9193\n",
            "Epoch 6/15\n",
            "89/89 [==============================] - 5s 55ms/step - loss: 0.0219 - accuracy: 0.9929 - val_loss: 0.3319 - val_accuracy: 0.9202\n",
            "Epoch 7/15\n",
            "89/89 [==============================] - 4s 45ms/step - loss: 0.0135 - accuracy: 0.9974 - val_loss: 0.3488 - val_accuracy: 0.9246\n",
            "Epoch 8/15\n",
            "89/89 [==============================] - 4s 46ms/step - loss: 0.0110 - accuracy: 0.9966 - val_loss: 0.3869 - val_accuracy: 0.9211\n",
            "Epoch 9/15\n",
            "89/89 [==============================] - 5s 54ms/step - loss: 0.0057 - accuracy: 0.9992 - val_loss: 0.3590 - val_accuracy: 0.9289\n",
            "Epoch 10/15\n",
            "89/89 [==============================] - 4s 45ms/step - loss: 0.0039 - accuracy: 0.9992 - val_loss: 0.3826 - val_accuracy: 0.9246\n",
            "Epoch 11/15\n",
            "89/89 [==============================] - 4s 45ms/step - loss: 0.0021 - accuracy: 1.0000 - val_loss: 0.3865 - val_accuracy: 0.9272\n",
            "Epoch 12/15\n",
            "89/89 [==============================] - 5s 55ms/step - loss: 0.0013 - accuracy: 1.0000 - val_loss: 0.4416 - val_accuracy: 0.9228\n",
            "Epoch 13/15\n",
            "89/89 [==============================] - 4s 46ms/step - loss: 0.0011 - accuracy: 1.0000 - val_loss: 0.4200 - val_accuracy: 0.9228\n",
            "Epoch 14/15\n",
            "89/89 [==============================] - 4s 46ms/step - loss: 0.0013 - accuracy: 1.0000 - val_loss: 0.4285 - val_accuracy: 0.9202\n",
            "Epoch 15/15\n",
            "89/89 [==============================] - 5s 55ms/step - loss: 6.1719e-04 - accuracy: 1.0000 - val_loss: 0.4291 - val_accuracy: 0.9237\n"
          ]
        }
      ]
    },
    {
      "cell_type": "code",
      "source": [
        "accr = model.evaluate(X_test,Y_test)\n",
        "print('Test set\\n  Loss: {:0.5f}\\n  Accuracy: {:0.3f}'.format(accr[0],accr[1]))"
      ],
      "metadata": {
        "colab": {
          "base_uri": "https://localhost:8080/"
        },
        "id": "eGpyLnDy83AV",
        "outputId": "5754f194-2f5d-4193-de4b-9bf831a1503b"
      },
      "execution_count": 106,
      "outputs": [
        {
          "output_type": "stream",
          "name": "stdout",
          "text": [
            "36/36 [==============================] - 1s 7ms/step - loss: 0.4291 - accuracy: 0.9237\n",
            "Test set\n",
            "  Loss: 0.42908\n",
            "  Accuracy: 0.924\n"
          ]
        }
      ]
    },
    {
      "cell_type": "code",
      "source": [
        "predictions=[]\n",
        "pred = model.predict(X_test)\n",
        "for x in pred:\n",
        "    labels = ['Neu','Pos','Neg']\n",
        "    predictions.append(labels[np.argmax(x)])\n",
        "predictions=np.array(predictions)\n",
        "predictions\n"
      ],
      "metadata": {
        "colab": {
          "base_uri": "https://localhost:8080/"
        },
        "id": "5_pL0rEO98-Z",
        "outputId": "56073ca3-ab06-4e61-f62c-3446ba207971"
      },
      "execution_count": 107,
      "outputs": [
        {
          "output_type": "stream",
          "name": "stdout",
          "text": [
            "36/36 [==============================] - 1s 9ms/step\n"
          ]
        },
        {
          "output_type": "execute_result",
          "data": {
            "text/plain": [
              "array(['Neg', 'Neg', 'Neu', ..., 'Neg', 'Pos', 'Neg'], dtype='<U3')"
            ]
          },
          "metadata": {},
          "execution_count": 107
        }
      ]
    },
    {
      "cell_type": "code",
      "source": [
        "new_pred=[]\n",
        "for x in predictions:\n",
        "    if x=='Pos':\n",
        "        new_pred.append([1,0,0])\n",
        "    if x=='Neu':\n",
        "        new_pred.append([0,1,0])\n",
        "    if x=='Neg':\n",
        "        new_pred.append([0,0,1])\n",
        "new_pred=np.array(new_pred)\n",
        "print(metrics.classification_report(Y_test,new_pred))\n"
      ],
      "metadata": {
        "colab": {
          "base_uri": "https://localhost:8080/"
        },
        "id": "yMN_bXLD9-pp",
        "outputId": "39a0a058-9412-428d-d1cd-4049cff35e00"
      },
      "execution_count": 108,
      "outputs": [
        {
          "output_type": "stream",
          "name": "stdout",
          "text": [
            "              precision    recall  f1-score   support\n",
            "\n",
            "           0       0.02      0.02      0.02       198\n",
            "           1       0.11      0.11      0.11       194\n",
            "           2       0.95      0.97      0.96       748\n",
            "\n",
            "   micro avg       0.66      0.66      0.66      1140\n",
            "   macro avg       0.36      0.37      0.36      1140\n",
            "weighted avg       0.64      0.66      0.65      1140\n",
            " samples avg       0.66      0.66      0.66      1140\n",
            "\n"
          ]
        }
      ]
    },
    {
      "cell_type": "code",
      "source": [
        "acc_6=metrics.accuracy_score(Y_test,new_pred)\n",
        "acc_6"
      ],
      "metadata": {
        "colab": {
          "base_uri": "https://localhost:8080/"
        },
        "id": "MjygaJWf-CDL",
        "outputId": "044899d3-ceb8-46cd-835f-9f00a6fa3670"
      },
      "execution_count": 109,
      "outputs": [
        {
          "output_type": "execute_result",
          "data": {
            "text/plain": [
              "0.6605263157894737"
            ]
          },
          "metadata": {},
          "execution_count": 109
        }
      ]
    },
    {
      "cell_type": "markdown",
      "source": [
        "##  ModeL-7 LSTM\n",
        "max_features = 30000\n",
        "\n",
        "maxlen = 100\n",
        "\n",
        "embedding_size = 128\n",
        "\n",
        "EPochs=15\n",
        "\n",
        "lstm_output_size = 100"
      ],
      "metadata": {
        "id": "4Ebxc5M8-IFn"
      }
    },
    {
      "cell_type": "code",
      "source": [
        "Y = pd.get_dummies(df['label']).values\n",
        "X_train, X_test, Y_train, Y_test = train_test_split(X,Y, test_size = 0.30, random_state = 42)\n",
        "print(X_train.shape,Y_train.shape)\n",
        "print(X_test.shape,Y_test.shape)"
      ],
      "metadata": {
        "colab": {
          "base_uri": "https://localhost:8080/"
        },
        "id": "Q7opxJ2y-LKR",
        "outputId": "06d740d4-a78e-4a9f-9ad1-a5d35e7afce9"
      },
      "execution_count": 110,
      "outputs": [
        {
          "output_type": "stream",
          "name": "stdout",
          "text": [
            "(2660, 100) (2660, 3)\n",
            "(1140, 100) (1140, 3)\n"
          ]
        }
      ]
    },
    {
      "cell_type": "code",
      "source": [
        "max_features = 30000\n",
        "\n",
        "maxlen = 100\n",
        "\n",
        "embedding_size = 128\n",
        "\n",
        "\n",
        "# Convolution\n",
        "kernel_size = 5\n",
        "filters = 64\n",
        "pool_size = 4\n",
        "\n",
        "# LSTM\n",
        "lstm_output_size = 100      # what is its impact\n",
        "\n",
        "# Training\n",
        "batch_size = 30\n",
        "epochs = 15\n",
        "\n",
        "model = Sequential()\n",
        "model.add(Embedding(max_features, embedding_size, input_length=maxlen))\n",
        "model.add(Dropout(0.25))\n",
        "model.add(Conv1D(filters, kernel_size, padding='valid', activation='relu', strides=1))\n",
        "model.add(MaxPooling1D(pool_size=pool_size))\n",
        "model.add(LSTM(lstm_output_size))\n",
        "model.add(Dense(3,activation='softmax'))\n",
        "model.compile(loss = 'categorical_crossentropy', optimizer='adam',metrics = ['accuracy'])\n",
        "print(model.summary())\n",
        "\n",
        "print('Train...')\n",
        "model_lstm=model.fit(X_train, Y_train, batch_size=batch_size, epochs=epochs,shuffle=True, validation_data=(X_test, Y_test))"
      ],
      "metadata": {
        "colab": {
          "base_uri": "https://localhost:8080/"
        },
        "id": "uci1w90m-Oc1",
        "outputId": "5d2e8254-0557-477b-f01d-c5e12c1d7e0f"
      },
      "execution_count": 111,
      "outputs": [
        {
          "output_type": "stream",
          "name": "stdout",
          "text": [
            "Model: \"sequential_20\"\n",
            "_________________________________________________________________\n",
            " Layer (type)                Output Shape              Param #   \n",
            "=================================================================\n",
            " embedding_19 (Embedding)    (None, 100, 128)          3840000   \n",
            "                                                                 \n",
            " dropout_13 (Dropout)        (None, 100, 128)          0         \n",
            "                                                                 \n",
            " conv1d_12 (Conv1D)          (None, 96, 64)            41024     \n",
            "                                                                 \n",
            " max_pooling1d_12 (MaxPooli  (None, 24, 64)            0         \n",
            " ng1D)                                                           \n",
            "                                                                 \n",
            " lstm_12 (LSTM)              (None, 100)               66000     \n",
            "                                                                 \n",
            " dense_12 (Dense)            (None, 3)                 303       \n",
            "                                                                 \n",
            "=================================================================\n",
            "Total params: 3947327 (15.06 MB)\n",
            "Trainable params: 3947327 (15.06 MB)\n",
            "Non-trainable params: 0 (0.00 Byte)\n",
            "_________________________________________________________________\n",
            "None\n",
            "Train...\n",
            "Epoch 1/15\n",
            "89/89 [==============================] - 8s 61ms/step - loss: 0.7347 - accuracy: 0.6744 - val_loss: 0.5499 - val_accuracy: 0.7263\n",
            "Epoch 2/15\n",
            "89/89 [==============================] - 4s 47ms/step - loss: 0.3527 - accuracy: 0.8767 - val_loss: 0.2775 - val_accuracy: 0.9193\n",
            "Epoch 3/15\n",
            "89/89 [==============================] - 6s 62ms/step - loss: 0.1544 - accuracy: 0.9496 - val_loss: 0.2786 - val_accuracy: 0.9237\n",
            "Epoch 4/15\n",
            "89/89 [==============================] - 5s 56ms/step - loss: 0.0902 - accuracy: 0.9711 - val_loss: 0.2912 - val_accuracy: 0.9272\n",
            "Epoch 5/15\n",
            "89/89 [==============================] - 4s 48ms/step - loss: 0.0599 - accuracy: 0.9801 - val_loss: 0.3235 - val_accuracy: 0.9211\n",
            "Epoch 6/15\n",
            "89/89 [==============================] - 4s 49ms/step - loss: 0.0345 - accuracy: 0.9895 - val_loss: 0.3489 - val_accuracy: 0.9246\n",
            "Epoch 7/15\n",
            "89/89 [==============================] - 5s 56ms/step - loss: 0.0244 - accuracy: 0.9940 - val_loss: 0.3422 - val_accuracy: 0.9254\n",
            "Epoch 8/15\n",
            "89/89 [==============================] - 4s 47ms/step - loss: 0.0151 - accuracy: 0.9959 - val_loss: 0.3875 - val_accuracy: 0.9219\n",
            "Epoch 9/15\n",
            "89/89 [==============================] - 4s 51ms/step - loss: 0.0132 - accuracy: 0.9966 - val_loss: 0.4204 - val_accuracy: 0.9175\n",
            "Epoch 10/15\n",
            "89/89 [==============================] - 5s 53ms/step - loss: 0.0081 - accuracy: 0.9989 - val_loss: 0.4157 - val_accuracy: 0.9175\n",
            "Epoch 11/15\n",
            "89/89 [==============================] - 4s 48ms/step - loss: 0.0067 - accuracy: 0.9989 - val_loss: 0.4263 - val_accuracy: 0.9211\n",
            "Epoch 12/15\n",
            "89/89 [==============================] - 5s 53ms/step - loss: 0.0072 - accuracy: 0.9985 - val_loss: 0.4597 - val_accuracy: 0.9237\n",
            "Epoch 13/15\n",
            "89/89 [==============================] - 5s 51ms/step - loss: 0.0027 - accuracy: 0.9992 - val_loss: 0.4752 - val_accuracy: 0.9211\n",
            "Epoch 14/15\n",
            "89/89 [==============================] - 4s 48ms/step - loss: 0.0037 - accuracy: 0.9996 - val_loss: 0.4750 - val_accuracy: 0.9193\n",
            "Epoch 15/15\n",
            "89/89 [==============================] - 6s 71ms/step - loss: 0.0226 - accuracy: 0.9936 - val_loss: 0.4531 - val_accuracy: 0.9193\n"
          ]
        }
      ]
    },
    {
      "cell_type": "code",
      "source": [
        "predictions=[]\n",
        "pred = model.predict(X_test)\n",
        "for x in pred:\n",
        "    labels = ['Neu','Pos','Neg']\n",
        "    predictions.append(labels[np.argmax(x)])\n",
        "predictions=np.array(predictions)\n",
        "predictions"
      ],
      "metadata": {
        "colab": {
          "base_uri": "https://localhost:8080/"
        },
        "id": "dr5kBfeB-Y-h",
        "outputId": "f605bb99-35ab-4b2b-c95a-4bd4603e72ee"
      },
      "execution_count": 112,
      "outputs": [
        {
          "output_type": "stream",
          "name": "stdout",
          "text": [
            "36/36 [==============================] - 1s 8ms/step\n"
          ]
        },
        {
          "output_type": "execute_result",
          "data": {
            "text/plain": [
              "array(['Neg', 'Neg', 'Neu', ..., 'Neg', 'Pos', 'Neg'], dtype='<U3')"
            ]
          },
          "metadata": {},
          "execution_count": 112
        }
      ]
    },
    {
      "cell_type": "code",
      "source": [
        "new_pred=[]\n",
        "for x in predictions:\n",
        "    if x=='Pos':\n",
        "        new_pred.append([1,0,0])\n",
        "    if x=='Neu':\n",
        "        new_pred.append([0,1,0])\n",
        "    if x=='Neg':\n",
        "        new_pred.append([0,0,1])\n",
        "new_pred=np.array(new_pred)\n",
        "print(metrics.classification_report(Y_test,new_pred))"
      ],
      "metadata": {
        "colab": {
          "base_uri": "https://localhost:8080/"
        },
        "id": "aetSHANR-mnc",
        "outputId": "6d8fcffb-7376-4888-ab54-6d6a94ce6a01"
      },
      "execution_count": 113,
      "outputs": [
        {
          "output_type": "stream",
          "name": "stdout",
          "text": [
            "              precision    recall  f1-score   support\n",
            "\n",
            "           0       0.08      0.08      0.08       198\n",
            "           1       0.08      0.08      0.08       194\n",
            "           2       0.95      0.96      0.96       748\n",
            "\n",
            "   micro avg       0.66      0.66      0.66      1140\n",
            "   macro avg       0.37      0.37      0.37      1140\n",
            "weighted avg       0.65      0.66      0.66      1140\n",
            " samples avg       0.66      0.66      0.66      1140\n",
            "\n"
          ]
        }
      ]
    },
    {
      "cell_type": "code",
      "source": [
        "acc_7=metrics.accuracy_score(Y_test,new_pred)\n",
        "acc_7"
      ],
      "metadata": {
        "colab": {
          "base_uri": "https://localhost:8080/"
        },
        "id": "cjzppHqv-0IK",
        "outputId": "78d0d3fd-fdb0-4b30-a871-08f88ddbb715"
      },
      "execution_count": 114,
      "outputs": [
        {
          "output_type": "execute_result",
          "data": {
            "text/plain": [
              "0.6578947368421053"
            ]
          },
          "metadata": {},
          "execution_count": 114
        }
      ]
    },
    {
      "cell_type": "markdown",
      "source": [
        "##  ModeL-8 LSTM\n",
        "max_features = 30000\n",
        "\n",
        "maxlen = 100\n",
        "\n",
        "embedding_size = 128\n",
        "\n",
        "EPochs=15\n",
        "\n",
        "kernel size = 7"
      ],
      "metadata": {
        "id": "MHzFnKen-3lO"
      }
    },
    {
      "cell_type": "code",
      "source": [
        "Y = pd.get_dummies(df['label']).values\n",
        "X_train, X_test, Y_train, Y_test = train_test_split(X,Y, test_size = 0.20, random_state = 42)\n",
        "print(X_train.shape,Y_train.shape)\n",
        "print(X_test.shape,Y_test.shape)"
      ],
      "metadata": {
        "colab": {
          "base_uri": "https://localhost:8080/"
        },
        "id": "IYEGbt2_-22b",
        "outputId": "9f6d2948-3fe3-48a5-c00d-e1497bd9d78f"
      },
      "execution_count": 115,
      "outputs": [
        {
          "output_type": "stream",
          "name": "stdout",
          "text": [
            "(3040, 100) (3040, 3)\n",
            "(760, 100) (760, 3)\n"
          ]
        }
      ]
    },
    {
      "cell_type": "code",
      "source": [
        "max_features = 30000\n",
        "\n",
        "maxlen = 100\n",
        "\n",
        "embedding_size = 128\n",
        "\n",
        "\n",
        "# Convolution\n",
        "kernel_size = 7\n",
        "filters = 64\n",
        "pool_size = 4\n",
        "\n",
        "# LSTM\n",
        "lstm_output_size = 70    # what is its impact\n",
        "\n",
        "# Training\n",
        "batch_size = 30\n",
        "epochs = 15\n",
        "\n",
        "model = Sequential()\n",
        "model.add(Embedding(max_features, embedding_size, input_length=maxlen))\n",
        "model.add(Dropout(0.25))\n",
        "model.add(Conv1D(filters, kernel_size, padding='valid', activation='relu', strides=1))\n",
        "model.add(MaxPooling1D(pool_size=pool_size))\n",
        "model.add(LSTM(lstm_output_size))\n",
        "model.add(Dense(3,activation='softmax'))\n",
        "model.compile(loss = 'categorical_crossentropy', optimizer='adam',metrics = ['accuracy'])\n",
        "print(model.summary())\n",
        "\n",
        "print('Train...')\n",
        "model_lstm=model.fit(X_train, Y_train, batch_size=batch_size, epochs=epochs,shuffle=True, validation_data=(X_test, Y_test))\n"
      ],
      "metadata": {
        "colab": {
          "base_uri": "https://localhost:8080/"
        },
        "id": "KMlEnyp5--fo",
        "outputId": "b6340514-1794-4b9f-ba96-75f13cc63500"
      },
      "execution_count": 116,
      "outputs": [
        {
          "output_type": "stream",
          "name": "stdout",
          "text": [
            "Model: \"sequential_21\"\n",
            "_________________________________________________________________\n",
            " Layer (type)                Output Shape              Param #   \n",
            "=================================================================\n",
            " embedding_20 (Embedding)    (None, 100, 128)          3840000   \n",
            "                                                                 \n",
            " dropout_14 (Dropout)        (None, 100, 128)          0         \n",
            "                                                                 \n",
            " conv1d_13 (Conv1D)          (None, 94, 64)            57408     \n",
            "                                                                 \n",
            " max_pooling1d_13 (MaxPooli  (None, 23, 64)            0         \n",
            " ng1D)                                                           \n",
            "                                                                 \n",
            " lstm_13 (LSTM)              (None, 70)                37800     \n",
            "                                                                 \n",
            " dense_13 (Dense)            (None, 3)                 213       \n",
            "                                                                 \n",
            "=================================================================\n",
            "Total params: 3935421 (15.01 MB)\n",
            "Trainable params: 3935421 (15.01 MB)\n",
            "Non-trainable params: 0 (0.00 Byte)\n",
            "_________________________________________________________________\n",
            "None\n",
            "Train...\n",
            "Epoch 1/15\n",
            "102/102 [==============================] - 11s 55ms/step - loss: 0.7116 - accuracy: 0.6829 - val_loss: 0.5919 - val_accuracy: 0.7184\n",
            "Epoch 2/15\n",
            "102/102 [==============================] - 6s 58ms/step - loss: 0.5056 - accuracy: 0.7569 - val_loss: 0.5208 - val_accuracy: 0.7921\n",
            "Epoch 3/15\n",
            "102/102 [==============================] - 5s 53ms/step - loss: 0.4039 - accuracy: 0.8283 - val_loss: 0.5176 - val_accuracy: 0.7816\n",
            "Epoch 4/15\n",
            "102/102 [==============================] - 5s 53ms/step - loss: 0.3503 - accuracy: 0.8454 - val_loss: 0.5702 - val_accuracy: 0.7816\n",
            "Epoch 5/15\n",
            "102/102 [==============================] - 6s 58ms/step - loss: 0.3206 - accuracy: 0.8599 - val_loss: 0.6546 - val_accuracy: 0.7697\n",
            "Epoch 6/15\n",
            "102/102 [==============================] - 5s 51ms/step - loss: 0.2854 - accuracy: 0.8799 - val_loss: 0.6383 - val_accuracy: 0.7737\n",
            "Epoch 7/15\n",
            "102/102 [==============================] - 6s 59ms/step - loss: 0.2667 - accuracy: 0.8859 - val_loss: 0.6914 - val_accuracy: 0.7632\n",
            "Epoch 8/15\n",
            "102/102 [==============================] - 5s 51ms/step - loss: 0.2531 - accuracy: 0.8895 - val_loss: 0.6788 - val_accuracy: 0.7750\n",
            "Epoch 9/15\n",
            "102/102 [==============================] - 6s 59ms/step - loss: 0.2395 - accuracy: 0.8964 - val_loss: 0.7243 - val_accuracy: 0.7711\n",
            "Epoch 10/15\n",
            "102/102 [==============================] - 5s 51ms/step - loss: 0.2355 - accuracy: 0.8977 - val_loss: 0.7517 - val_accuracy: 0.7776\n",
            "Epoch 11/15\n",
            "102/102 [==============================] - 5s 53ms/step - loss: 0.2289 - accuracy: 0.8997 - val_loss: 0.7627 - val_accuracy: 0.7750\n",
            "Epoch 12/15\n",
            "102/102 [==============================] - 7s 65ms/step - loss: 0.2244 - accuracy: 0.8993 - val_loss: 0.7823 - val_accuracy: 0.7750\n",
            "Epoch 13/15\n",
            "102/102 [==============================] - 6s 58ms/step - loss: 0.2210 - accuracy: 0.9016 - val_loss: 0.8080 - val_accuracy: 0.7763\n",
            "Epoch 14/15\n",
            "102/102 [==============================] - 6s 58ms/step - loss: 0.2152 - accuracy: 0.9033 - val_loss: 0.8463 - val_accuracy: 0.7684\n",
            "Epoch 15/15\n",
            "102/102 [==============================] - 5s 52ms/step - loss: 0.2140 - accuracy: 0.9033 - val_loss: 0.8659 - val_accuracy: 0.7711\n"
          ]
        }
      ]
    },
    {
      "cell_type": "code",
      "source": [
        "accr = model.evaluate(X_test,Y_test)\n",
        "print('Test set\\n  Loss: {:0.5f}\\n  Accuracy: {:0.3f}'.format(accr[0],accr[1]))"
      ],
      "metadata": {
        "colab": {
          "base_uri": "https://localhost:8080/"
        },
        "id": "jDo0jAyS_JwK",
        "outputId": "1753aec0-afd7-48b9-d88d-22d9dc4a952e"
      },
      "execution_count": 117,
      "outputs": [
        {
          "output_type": "stream",
          "name": "stdout",
          "text": [
            "24/24 [==============================] - 0s 9ms/step - loss: 0.8659 - accuracy: 0.7711\n",
            "Test set\n",
            "  Loss: 0.86586\n",
            "  Accuracy: 0.771\n"
          ]
        }
      ]
    },
    {
      "cell_type": "code",
      "source": [
        "predictions=[]\n",
        "pred = model.predict(X_test)\n",
        "for x in pred:\n",
        "    labels = ['Neu','Pos','Neg']\n",
        "    predictions.append(labels[np.argmax(x)])\n",
        "predictions=np.array(predictions)\n",
        "predictions"
      ],
      "metadata": {
        "colab": {
          "base_uri": "https://localhost:8080/"
        },
        "id": "Er3qnODU_wky",
        "outputId": "b666c8fe-ab00-4954-962c-bcdf1cd72f9f"
      },
      "execution_count": 118,
      "outputs": [
        {
          "output_type": "stream",
          "name": "stdout",
          "text": [
            "24/24 [==============================] - 1s 12ms/step\n"
          ]
        },
        {
          "output_type": "execute_result",
          "data": {
            "text/plain": [
              "array(['Neg', 'Neu', 'Neu', 'Neg', 'Neg', 'Neg', 'Neu', 'Neg', 'Neu',\n",
              "       'Neu', 'Neu', 'Neu', 'Neg', 'Neg', 'Neg', 'Neu', 'Neg', 'Neg',\n",
              "       'Neg', 'Neu', 'Neg', 'Neg', 'Neg', 'Neg', 'Neg', 'Neg', 'Neu',\n",
              "       'Neg', 'Neg', 'Neu', 'Neg', 'Neu', 'Neg', 'Neg', 'Neg', 'Neu',\n",
              "       'Neg', 'Neg', 'Neg', 'Neg', 'Neg', 'Neg', 'Neg', 'Neu', 'Neg',\n",
              "       'Neg', 'Neg', 'Neu', 'Neg', 'Neu', 'Neg', 'Neg', 'Neg', 'Pos',\n",
              "       'Neg', 'Neu', 'Pos', 'Pos', 'Neg', 'Pos', 'Neg', 'Neu', 'Neg',\n",
              "       'Neu', 'Neu', 'Neg', 'Neg', 'Neg', 'Neu', 'Neg', 'Pos', 'Neg',\n",
              "       'Neg', 'Neu', 'Pos', 'Neg', 'Neg', 'Neg', 'Neg', 'Pos', 'Neg',\n",
              "       'Neg', 'Neg', 'Neg', 'Neg', 'Neg', 'Neg', 'Neg', 'Neg', 'Neu',\n",
              "       'Neg', 'Neg', 'Neg', 'Neu', 'Neg', 'Neu', 'Pos', 'Neu', 'Neu',\n",
              "       'Neg', 'Neg', 'Neg', 'Neg', 'Neu', 'Pos', 'Neg', 'Neg', 'Neu',\n",
              "       'Neu', 'Neg', 'Neg', 'Neg', 'Neg', 'Neu', 'Pos', 'Neu', 'Neg',\n",
              "       'Neu', 'Neg', 'Neg', 'Neg', 'Neg', 'Pos', 'Neu', 'Neu', 'Neu',\n",
              "       'Neu', 'Neg', 'Pos', 'Neu', 'Neg', 'Neg', 'Pos', 'Neg', 'Neg',\n",
              "       'Neg', 'Neu', 'Neu', 'Neg', 'Neg', 'Neg', 'Neu', 'Neu', 'Neg',\n",
              "       'Neg', 'Neu', 'Neu', 'Pos', 'Neu', 'Neg', 'Neg', 'Neu', 'Neg',\n",
              "       'Neg', 'Neu', 'Neg', 'Neu', 'Neg', 'Neu', 'Neg', 'Neu', 'Neu',\n",
              "       'Neg', 'Neg', 'Neg', 'Neg', 'Neg', 'Neu', 'Neg', 'Neu', 'Neg',\n",
              "       'Neg', 'Neg', 'Neu', 'Neu', 'Neg', 'Neg', 'Neg', 'Neg', 'Neg',\n",
              "       'Pos', 'Neg', 'Neg', 'Neg', 'Neg', 'Neg', 'Neg', 'Neg', 'Neg',\n",
              "       'Neg', 'Neu', 'Neg', 'Neu', 'Neg', 'Neu', 'Neg', 'Neg', 'Neg',\n",
              "       'Neg', 'Neg', 'Neg', 'Neu', 'Neg', 'Neg', 'Neg', 'Neg', 'Neu',\n",
              "       'Neg', 'Neg', 'Neu', 'Neg', 'Neg', 'Neu', 'Neg', 'Neg', 'Neg',\n",
              "       'Neu', 'Neg', 'Neg', 'Neu', 'Neg', 'Neu', 'Neg', 'Neu', 'Neu',\n",
              "       'Neg', 'Neg', 'Neg', 'Neu', 'Neg', 'Neg', 'Neg', 'Neg', 'Neu',\n",
              "       'Neu', 'Neg', 'Neu', 'Neg', 'Neg', 'Neg', 'Neg', 'Neg', 'Neg',\n",
              "       'Neg', 'Neu', 'Pos', 'Neg', 'Neg', 'Neg', 'Neg', 'Neg', 'Pos',\n",
              "       'Neg', 'Neg', 'Neg', 'Neg', 'Neu', 'Neg', 'Neu', 'Neg', 'Neg',\n",
              "       'Neg', 'Pos', 'Neu', 'Neg', 'Neg', 'Neg', 'Neg', 'Neu', 'Neg',\n",
              "       'Neg', 'Neg', 'Neu', 'Neu', 'Neu', 'Neg', 'Pos', 'Neu', 'Pos',\n",
              "       'Neu', 'Neg', 'Neu', 'Neg', 'Neu', 'Neu', 'Neg', 'Neu', 'Neg',\n",
              "       'Neu', 'Neg', 'Neg', 'Neg', 'Neu', 'Neg', 'Neg', 'Neg', 'Neg',\n",
              "       'Neg', 'Neu', 'Neg', 'Neu', 'Neg', 'Neu', 'Neu', 'Neu', 'Neg',\n",
              "       'Neg', 'Neg', 'Neg', 'Neg', 'Neg', 'Neu', 'Neu', 'Neg', 'Neg',\n",
              "       'Neg', 'Neg', 'Neg', 'Neu', 'Neg', 'Pos', 'Neg', 'Pos', 'Neg',\n",
              "       'Neu', 'Neu', 'Neg', 'Neg', 'Neu', 'Neu', 'Neg', 'Neu', 'Neg',\n",
              "       'Neg', 'Neg', 'Neg', 'Neg', 'Neu', 'Neu', 'Neu', 'Neg', 'Pos',\n",
              "       'Pos', 'Neu', 'Neg', 'Neg', 'Neg', 'Neu', 'Neg', 'Neg', 'Neu',\n",
              "       'Neg', 'Neg', 'Neu', 'Neg', 'Neg', 'Neu', 'Neu', 'Neg', 'Neg',\n",
              "       'Neg', 'Neg', 'Neg', 'Neg', 'Neu', 'Neg', 'Neg', 'Neg', 'Pos',\n",
              "       'Neu', 'Pos', 'Neg', 'Pos', 'Neg', 'Neg', 'Neu', 'Neu', 'Neu',\n",
              "       'Neg', 'Neg', 'Neg', 'Neg', 'Neg', 'Neu', 'Neg', 'Neg', 'Neg',\n",
              "       'Neu', 'Neu', 'Neg', 'Neu', 'Pos', 'Neu', 'Neg', 'Neu', 'Neg',\n",
              "       'Neu', 'Neu', 'Neu', 'Neg', 'Neg', 'Neu', 'Neu', 'Neg', 'Neg',\n",
              "       'Neg', 'Pos', 'Neg', 'Neg', 'Neg', 'Neg', 'Neg', 'Neg', 'Neg',\n",
              "       'Neg', 'Neu', 'Neg', 'Neu', 'Neu', 'Neg', 'Neu', 'Neu', 'Neg',\n",
              "       'Neg', 'Neg', 'Neg', 'Neu', 'Neg', 'Neg', 'Neu', 'Pos', 'Neg',\n",
              "       'Neg', 'Pos', 'Neg', 'Neu', 'Neg', 'Pos', 'Neg', 'Neg', 'Neg',\n",
              "       'Neg', 'Neg', 'Neu', 'Neg', 'Neu', 'Pos', 'Neg', 'Neg', 'Neg',\n",
              "       'Neg', 'Neg', 'Pos', 'Neg', 'Neg', 'Pos', 'Neg', 'Neg', 'Neg',\n",
              "       'Neg', 'Neg', 'Neg', 'Neu', 'Neg', 'Pos', 'Neg', 'Neg', 'Neg',\n",
              "       'Neg', 'Neu', 'Neu', 'Neg', 'Neg', 'Pos', 'Neg', 'Neg', 'Neu',\n",
              "       'Neg', 'Neu', 'Neu', 'Neg', 'Neg', 'Pos', 'Neg', 'Neg', 'Neg',\n",
              "       'Neu', 'Neg', 'Neg', 'Neg', 'Neg', 'Neg', 'Neu', 'Pos', 'Pos',\n",
              "       'Neg', 'Neg', 'Neg', 'Neu', 'Neg', 'Neg', 'Neg', 'Neg', 'Neu',\n",
              "       'Neg', 'Neu', 'Neg', 'Neg', 'Neg', 'Neg', 'Neg', 'Pos', 'Neg',\n",
              "       'Neg', 'Pos', 'Neg', 'Neg', 'Neg', 'Neu', 'Neu', 'Neu', 'Neg',\n",
              "       'Neg', 'Neg', 'Neg', 'Neg', 'Neg', 'Neg', 'Neu', 'Neu', 'Neg',\n",
              "       'Neg', 'Neu', 'Neg', 'Neg', 'Neg', 'Neg', 'Pos', 'Neg', 'Neu',\n",
              "       'Neu', 'Neg', 'Neu', 'Neg', 'Neg', 'Neu', 'Neg', 'Pos', 'Neg',\n",
              "       'Neu', 'Neg', 'Pos', 'Neg', 'Neg', 'Neu', 'Neu', 'Neg', 'Pos',\n",
              "       'Neg', 'Neg', 'Neu', 'Neu', 'Neu', 'Pos', 'Neu', 'Pos', 'Neg',\n",
              "       'Neg', 'Neg', 'Neu', 'Pos', 'Pos', 'Neg', 'Neg', 'Neg', 'Neg',\n",
              "       'Pos', 'Neg', 'Neg', 'Neu', 'Neu', 'Neg', 'Neu', 'Neg', 'Neg',\n",
              "       'Neg', 'Neu', 'Neg', 'Neg', 'Pos', 'Neg', 'Neu', 'Neg', 'Neg',\n",
              "       'Neu', 'Pos', 'Neg', 'Neg', 'Neg', 'Neg', 'Neg', 'Neu', 'Neg',\n",
              "       'Neu', 'Neg', 'Neg', 'Neg', 'Neg', 'Pos', 'Pos', 'Pos', 'Neg',\n",
              "       'Neg', 'Neg', 'Neg', 'Neg', 'Neu', 'Neg', 'Neu', 'Neu', 'Neg',\n",
              "       'Neg', 'Neg', 'Neg', 'Neg', 'Neu', 'Neu', 'Pos', 'Neu', 'Neg',\n",
              "       'Neu', 'Neg', 'Neu', 'Neu', 'Neg', 'Neg', 'Pos', 'Neu', 'Neu',\n",
              "       'Neg', 'Neu', 'Pos', 'Neg', 'Neg', 'Neu', 'Neg', 'Neg', 'Neg',\n",
              "       'Pos', 'Neg', 'Neg', 'Neg', 'Neu', 'Neu', 'Neu', 'Neu', 'Neu',\n",
              "       'Pos', 'Neg', 'Pos', 'Neg', 'Neg', 'Neu', 'Pos', 'Neg', 'Neg',\n",
              "       'Neg', 'Pos', 'Neg', 'Neg', 'Neu', 'Neg', 'Neg', 'Neg', 'Neu',\n",
              "       'Pos', 'Neg', 'Neu', 'Neg', 'Neg', 'Neg', 'Neg', 'Pos', 'Neg',\n",
              "       'Neu', 'Neg', 'Pos', 'Neg', 'Neg', 'Neg', 'Neu', 'Neg', 'Neu',\n",
              "       'Neg', 'Pos', 'Neg', 'Pos', 'Neu', 'Neg', 'Neg', 'Neg', 'Neu',\n",
              "       'Neg', 'Neg', 'Neu', 'Neg', 'Neg', 'Neg', 'Neg', 'Neu', 'Neg',\n",
              "       'Neg', 'Neg', 'Neg', 'Neg', 'Neg', 'Neg', 'Neg', 'Neu', 'Neu',\n",
              "       'Pos', 'Pos', 'Neg', 'Neu', 'Neu', 'Neu', 'Neg', 'Pos', 'Neg',\n",
              "       'Neg', 'Neg', 'Neg', 'Neg', 'Neu', 'Neu', 'Neg', 'Neu', 'Neg',\n",
              "       'Neg', 'Neu', 'Neu', 'Neg', 'Neg', 'Neg', 'Neg', 'Neg', 'Neg',\n",
              "       'Neg', 'Neg', 'Neg', 'Pos', 'Neu', 'Pos', 'Neg', 'Neg', 'Neg',\n",
              "       'Neu', 'Neg', 'Neg', 'Neg'], dtype='<U3')"
            ]
          },
          "metadata": {},
          "execution_count": 118
        }
      ]
    },
    {
      "cell_type": "code",
      "source": [
        "new_pred=[]\n",
        "for x in predictions:\n",
        "    if x=='Pos':\n",
        "        new_pred.append([1,0,0])\n",
        "    if x=='Neu':\n",
        "        new_pred.append([0,1,0])\n",
        "    if x=='Neg':\n",
        "        new_pred.append([0,0,1])\n",
        "new_pred=np.array(new_pred)\n",
        "print(metrics.classification_report(Y_test,new_pred))\n"
      ],
      "metadata": {
        "colab": {
          "base_uri": "https://localhost:8080/"
        },
        "id": "O2yA50dC_zi2",
        "outputId": "4f72de54-eac5-4431-9375-b8882db06b84"
      },
      "execution_count": 119,
      "outputs": [
        {
          "output_type": "stream",
          "name": "stdout",
          "text": [
            "              precision    recall  f1-score   support\n",
            "\n",
            "           0       0.15      0.08      0.11       134\n",
            "           1       0.30      0.50      0.37       127\n",
            "           2       0.92      0.87      0.90       499\n",
            "\n",
            "   micro avg       0.67      0.67      0.67       760\n",
            "   macro avg       0.46      0.48      0.46       760\n",
            "weighted avg       0.68      0.67      0.67       760\n",
            " samples avg       0.67      0.67      0.67       760\n",
            "\n"
          ]
        }
      ]
    },
    {
      "cell_type": "code",
      "source": [
        "acc_8=metrics.accuracy_score(Y_test,new_pred)\n",
        "acc_8"
      ],
      "metadata": {
        "colab": {
          "base_uri": "https://localhost:8080/"
        },
        "id": "qrGx3L_q_4G_",
        "outputId": "3d4242d0-2c97-42b6-fb51-c5b4bca3b33d"
      },
      "execution_count": 120,
      "outputs": [
        {
          "output_type": "execute_result",
          "data": {
            "text/plain": [
              "0.6710526315789473"
            ]
          },
          "metadata": {},
          "execution_count": 120
        }
      ]
    }
  ]
}